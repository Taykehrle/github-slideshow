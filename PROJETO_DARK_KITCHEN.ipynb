{
  "nbformat": 4,
  "nbformat_minor": 0,
  "metadata": {
    "colab": {
      "name": "PROJETO_DARK_KITCHEN_EXERCICIOS.ipynb",
      "provenance": [],
      "collapsed_sections": [
        "vTOSahZm9cDf",
        "-1ccMmxe9oJD",
        "DReI5Roy-QI1",
        "dpDxS9cWJFo6",
        "_H7SHLdSJKHc",
        "UJkPchBQJpo3",
        "C_iuZnA5JhY1",
        "pr5hnQmzKCsQ",
        "yav42bDUKIVo",
        "K-5hv2grKk8z",
        "zPCKYuh0L9-O",
        "JzF8cNm7NCl9",
        "I22HoNzZN-1I",
        "VoCBi7rDRzmF",
        "3IReanM-VV7S",
        "m7pGCzuNxPWi",
        "IxdxHgoFxW4g",
        "MPVfKRC1xzUN",
        "BOj5RvzGyXQj"
      ],
      "include_colab_link": true
    },
    "kernelspec": {
      "name": "python3",
      "display_name": "Python 3"
    },
    "language_info": {
      "name": "python"
    }
  },
  "cells": [
    {
      "cell_type": "markdown",
      "metadata": {
        "id": "view-in-github",
        "colab_type": "text"
      },
      "source": [
        "<a href=\"https://colab.research.google.com/github/Taykehrle/github-slideshow/blob/master/PROJETO_DARK_KITCHEN.ipynb\" target=\"_parent\"><img src=\"https://colab.research.google.com/assets/colab-badge.svg\" alt=\"Open In Colab\"/></a>"
      ]
    },
    {
      "cell_type": "markdown",
      "metadata": {
        "id": "yLRnBuMn7wPq"
      },
      "source": [
        "<center><img src=\"https://raw.githubusercontent.com/rafael-arevalo/orbeai/master/Logo-Orbe-sem-fundo.png\" height=\"300px\"></center>\n",
        "\n",
        "# **PROJETO MÓDULO 04 - Dark Kitchen**\n",
        "\n"
      ]
    },
    {
      "cell_type": "markdown",
      "metadata": {
        "id": "T4gFgkOM72lM"
      },
      "source": [
        "## **01.COMPREENSÃO DO NEGÓCIO.**"
      ]
    },
    {
      "cell_type": "markdown",
      "metadata": {
        "id": "P4GOgkp48Bwy"
      },
      "source": [
        "Os problemas de negócios que devem ser resolvidos neste projeto são:\n",
        "\n",
        "- **01.PORTIFÓLIO.**\n",
        "  - Identificar os três produtos (pratos) que possuem maior faturamento.\n",
        "\n",
        "- **02.LOCAL.**\n",
        "\n",
        "  - Levando em consideração os três produtos do item anterior, identificar o lugar (latitude e longitude) que tenha maior faturamento para que possa ser criada uma *dark kitchen*."
      ]
    },
    {
      "cell_type": "markdown",
      "metadata": {
        "id": "vTOSahZm9cDf"
      },
      "source": [
        "## **02.IMPORTAR OS DADOS E CRIAR O DataFrame.**"
      ]
    },
    {
      "cell_type": "markdown",
      "metadata": {
        "id": "-1ccMmxe9oJD"
      },
      "source": [
        "### **02.a.Importar bibliotecas necessárias.**"
      ]
    },
    {
      "cell_type": "markdown",
      "metadata": {
        "id": "mFJr_3XS9r99"
      },
      "source": [
        "Importe as bibliotecas necessárias para realizar as seguntes tarefas:\n",
        "\n",
        "- 01.Trabalhar com dados.\n",
        "- 02.Criar gráficos.\n",
        "- 03.Criar mapas espaciais.\n",
        "- 04.Gerar mapas de calor."
      ]
    },
    {
      "cell_type": "code",
      "metadata": {
        "id": "mrblYVjF99ui"
      },
      "source": [
        "# Importando as bibliotecas necessárias para o projeto.\n",
        "import pandas as pd\n",
        "import matplotlib.pyplot as plt\n",
        "import folium\n",
        "from folium import plugins"
      ],
      "execution_count": 2,
      "outputs": []
    },
    {
      "cell_type": "code",
      "metadata": {
        "cellView": "form",
        "id": "IScxecbu-CHS"
      },
      "source": [
        "#@title Clique aqui para ver a resposta.\n",
        "\n",
        "# 01.Trabalhar com dados.\n",
        "import pandas as pd\n",
        "\n",
        "# 02.Criar gráficos.\n",
        "import matplotlib.pyplot as plt\n",
        "\n",
        "# 03.Criar mapas espaciais.\n",
        "import folium\n",
        "\n",
        "# 04.Gerar mapas de calor.\n",
        "from folium import plugins"
      ],
      "execution_count": null,
      "outputs": []
    },
    {
      "cell_type": "markdown",
      "metadata": {
        "id": "DReI5Roy-QI1"
      },
      "source": [
        "### **02.b.Importar o *dataset* e criar o *DataFrame*.**"
      ]
    },
    {
      "cell_type": "markdown",
      "metadata": {
        "id": "WVaMRipE-U63"
      },
      "source": [
        "Use o *dataset* para criar um *DataFrame* chamado **`df_pedidos`**."
      ]
    },
    {
      "cell_type": "code",
      "metadata": {
        "id": "KWUfAkov-iU2"
      },
      "source": [
        "# Criando um DataFrame.\n",
        "df_pedidos = pd.read_excel(\"/content/dataset_pedidos_delivery_PROJETO.xlsx\")"
      ],
      "execution_count": 3,
      "outputs": []
    },
    {
      "cell_type": "code",
      "metadata": {
        "cellView": "form",
        "id": "6CeKOGzF-mJC"
      },
      "source": [
        "#@title Clique aqui para ver a resposta.\n",
        "df_pedidos = pd.read_excel('/content/dataset_pedidos_delivery_PROJETO - V04.xlsx')"
      ],
      "execution_count": null,
      "outputs": []
    },
    {
      "cell_type": "markdown",
      "metadata": {
        "id": "fNv683EaIj5p"
      },
      "source": [
        "Visualize as cinco primeiras entradas do *DataFrame*."
      ]
    },
    {
      "cell_type": "code",
      "metadata": {
        "id": "gsuhlmOlIqVf",
        "colab": {
          "base_uri": "https://localhost:8080/",
          "height": 204
        },
        "outputId": "09465eb6-39ca-467f-9741-862400775047"
      },
      "source": [
        "# Visualizando as cinco primeiras entradas do DataFrame\n",
        "df_pedidos.head(5)"
      ],
      "execution_count": 4,
      "outputs": [
        {
          "output_type": "execute_result",
          "data": {
            "text/html": [
              "<div>\n",
              "<style scoped>\n",
              "    .dataframe tbody tr th:only-of-type {\n",
              "        vertical-align: middle;\n",
              "    }\n",
              "\n",
              "    .dataframe tbody tr th {\n",
              "        vertical-align: top;\n",
              "    }\n",
              "\n",
              "    .dataframe thead th {\n",
              "        text-align: right;\n",
              "    }\n",
              "</style>\n",
              "<table border=\"1\" class=\"dataframe\">\n",
              "  <thead>\n",
              "    <tr style=\"text-align: right;\">\n",
              "      <th></th>\n",
              "      <th>DIA</th>\n",
              "      <th>MES</th>\n",
              "      <th>ANO</th>\n",
              "      <th>HORA</th>\n",
              "      <th>PRATO_PEDIDO</th>\n",
              "      <th>QUANTIDADE_DE_ITENS</th>\n",
              "      <th>TOTAL_DA_COMPRA</th>\n",
              "      <th>LATITUDE</th>\n",
              "      <th>LONGITUDE</th>\n",
              "      <th>CIDADE</th>\n",
              "      <th>FORMA_DE_PAGAMENTO</th>\n",
              "    </tr>\n",
              "  </thead>\n",
              "  <tbody>\n",
              "    <tr>\n",
              "      <th>0</th>\n",
              "      <td>13</td>\n",
              "      <td>6</td>\n",
              "      <td>2020</td>\n",
              "      <td>11</td>\n",
              "      <td>RISOTO_FRANGO</td>\n",
              "      <td>1</td>\n",
              "      <td>32.0</td>\n",
              "      <td>-23.519016</td>\n",
              "      <td>-47.439082</td>\n",
              "      <td>Sorocaba</td>\n",
              "      <td>Credito</td>\n",
              "    </tr>\n",
              "    <tr>\n",
              "      <th>1</th>\n",
              "      <td>13</td>\n",
              "      <td>6</td>\n",
              "      <td>2020</td>\n",
              "      <td>13</td>\n",
              "      <td>PARMEGIANA_MIGNON</td>\n",
              "      <td>2</td>\n",
              "      <td>72.0</td>\n",
              "      <td>-23.489067</td>\n",
              "      <td>-47.474325</td>\n",
              "      <td>Sorocaba</td>\n",
              "      <td>Credito</td>\n",
              "    </tr>\n",
              "    <tr>\n",
              "      <th>2</th>\n",
              "      <td>13</td>\n",
              "      <td>6</td>\n",
              "      <td>2020</td>\n",
              "      <td>11</td>\n",
              "      <td>PARMEGIANA_FRANGO</td>\n",
              "      <td>2</td>\n",
              "      <td>69.0</td>\n",
              "      <td>-23.479150</td>\n",
              "      <td>-47.416110</td>\n",
              "      <td>Sorocaba</td>\n",
              "      <td>Credito</td>\n",
              "    </tr>\n",
              "    <tr>\n",
              "      <th>3</th>\n",
              "      <td>14</td>\n",
              "      <td>6</td>\n",
              "      <td>2020</td>\n",
              "      <td>11</td>\n",
              "      <td>RISOTO_FRANGO</td>\n",
              "      <td>1</td>\n",
              "      <td>36.0</td>\n",
              "      <td>-23.479150</td>\n",
              "      <td>-47.416110</td>\n",
              "      <td>Sorocaba</td>\n",
              "      <td>Credito</td>\n",
              "    </tr>\n",
              "    <tr>\n",
              "      <th>4</th>\n",
              "      <td>14</td>\n",
              "      <td>6</td>\n",
              "      <td>2020</td>\n",
              "      <td>12</td>\n",
              "      <td>RISOTO_QUEIJO</td>\n",
              "      <td>1</td>\n",
              "      <td>84.0</td>\n",
              "      <td>-23.491949</td>\n",
              "      <td>-47.415816</td>\n",
              "      <td>Sorocaba</td>\n",
              "      <td>Credito</td>\n",
              "    </tr>\n",
              "  </tbody>\n",
              "</table>\n",
              "</div>"
            ],
            "text/plain": [
              "   DIA  MES   ANO  HORA  ...   LATITUDE  LONGITUDE    CIDADE  FORMA_DE_PAGAMENTO\n",
              "0   13    6  2020    11  ... -23.519016 -47.439082  Sorocaba             Credito\n",
              "1   13    6  2020    13  ... -23.489067 -47.474325  Sorocaba             Credito\n",
              "2   13    6  2020    11  ... -23.479150 -47.416110  Sorocaba             Credito\n",
              "3   14    6  2020    11  ... -23.479150 -47.416110  Sorocaba             Credito\n",
              "4   14    6  2020    12  ... -23.491949 -47.415816  Sorocaba             Credito\n",
              "\n",
              "[5 rows x 11 columns]"
            ]
          },
          "metadata": {
            "tags": []
          },
          "execution_count": 4
        }
      ]
    },
    {
      "cell_type": "code",
      "metadata": {
        "cellView": "form",
        "id": "DUYAuvaoIt2S"
      },
      "source": [
        "#@title Clique aqui para ver a resposta.\n",
        "df_pedidos.head()"
      ],
      "execution_count": null,
      "outputs": []
    },
    {
      "cell_type": "markdown",
      "metadata": {
        "id": "WINXJUaBIyap"
      },
      "source": [
        "Verifique o formato do *DataFrame*."
      ]
    },
    {
      "cell_type": "code",
      "metadata": {
        "id": "HU0zcxtII6ZE",
        "colab": {
          "base_uri": "https://localhost:8080/"
        },
        "outputId": "f725ae21-b198-4133-ea9b-a31c768e592b"
      },
      "source": [
        "# Verificando o formato do DataFrame\n",
        "df_pedidos.shape"
      ],
      "execution_count": 5,
      "outputs": [
        {
          "output_type": "execute_result",
          "data": {
            "text/plain": [
              "(3711, 11)"
            ]
          },
          "metadata": {
            "tags": []
          },
          "execution_count": 5
        }
      ]
    },
    {
      "cell_type": "code",
      "metadata": {
        "cellView": "form",
        "id": "jyELRgQKJAUF"
      },
      "source": [
        "#@title Clique aqui para ver a resposta.\n",
        "df_pedidos.shape"
      ],
      "execution_count": null,
      "outputs": []
    },
    {
      "cell_type": "code",
      "metadata": {
        "id": "uPco3c-RJDac"
      },
      "source": [
        ""
      ],
      "execution_count": null,
      "outputs": []
    },
    {
      "cell_type": "markdown",
      "metadata": {
        "id": "dpDxS9cWJFo6"
      },
      "source": [
        "## **03.COMPREENDER OS DADOS.**"
      ]
    },
    {
      "cell_type": "markdown",
      "metadata": {
        "id": "_H7SHLdSJKHc"
      },
      "source": [
        "### **03.a.Atributos.**"
      ]
    },
    {
      "cell_type": "markdown",
      "metadata": {
        "id": "UJkPchBQJpo3"
      },
      "source": [
        "#### **03.a.I.Tipos de dados.**"
      ]
    },
    {
      "cell_type": "markdown",
      "metadata": {
        "id": "BKN0_rqVJPGG"
      },
      "source": [
        "Visualize o tipo de dado que cada atributo (coluna) do *DataFrame* possui."
      ]
    },
    {
      "cell_type": "code",
      "metadata": {
        "id": "MGwOWWvIJZI9",
        "colab": {
          "base_uri": "https://localhost:8080/"
        },
        "outputId": "3a30eeb4-82c0-45d9-8535-330c148b27b0"
      },
      "source": [
        "# Visualizando o tipo de dado que cada atributo possui.\n",
        "df_pedidos.dtypes"
      ],
      "execution_count": 7,
      "outputs": [
        {
          "output_type": "execute_result",
          "data": {
            "text/plain": [
              "DIA                      int64\n",
              "MES                      int64\n",
              "ANO                      int64\n",
              "HORA                     int64\n",
              "PRATO_PEDIDO            object\n",
              "QUANTIDADE_DE_ITENS      int64\n",
              "TOTAL_DA_COMPRA        float64\n",
              "LATITUDE               float64\n",
              "LONGITUDE              float64\n",
              "CIDADE                  object\n",
              "FORMA_DE_PAGAMENTO      object\n",
              "dtype: object"
            ]
          },
          "metadata": {
            "tags": []
          },
          "execution_count": 7
        }
      ]
    },
    {
      "cell_type": "code",
      "metadata": {
        "id": "YbOP0geYJdBV",
        "cellView": "form"
      },
      "source": [
        "#@title Clique aqui para ver a resposta.\n",
        "df_pedidos.dtypes"
      ],
      "execution_count": null,
      "outputs": []
    },
    {
      "cell_type": "markdown",
      "metadata": {
        "id": "C_iuZnA5JhY1"
      },
      "source": [
        "#### **03.a.II.Dados ausentes.**"
      ]
    },
    {
      "cell_type": "markdown",
      "metadata": {
        "id": "P-1nSya2J0Fw"
      },
      "source": [
        "Calcule a soma de dados ausentes por atributo do *DataFrame*."
      ]
    },
    {
      "cell_type": "code",
      "metadata": {
        "id": "zeizFhfUJ47J",
        "colab": {
          "base_uri": "https://localhost:8080/"
        },
        "outputId": "2dad306b-967e-4806-e495-81522b2b793e"
      },
      "source": [
        "# Calculando a soma de dados ausentes para cada atributo.\n",
        "df_pedidos.isnull().sum()"
      ],
      "execution_count": 8,
      "outputs": [
        {
          "output_type": "execute_result",
          "data": {
            "text/plain": [
              "DIA                    0\n",
              "MES                    0\n",
              "ANO                    0\n",
              "HORA                   0\n",
              "PRATO_PEDIDO           0\n",
              "QUANTIDADE_DE_ITENS    0\n",
              "TOTAL_DA_COMPRA        0\n",
              "LATITUDE               0\n",
              "LONGITUDE              0\n",
              "CIDADE                 0\n",
              "FORMA_DE_PAGAMENTO     0\n",
              "dtype: int64"
            ]
          },
          "metadata": {
            "tags": []
          },
          "execution_count": 8
        }
      ]
    },
    {
      "cell_type": "code",
      "metadata": {
        "cellView": "form",
        "id": "Jft-syUvJ9hl"
      },
      "source": [
        "#@title Clique aqui para ver a resposta.\n",
        "df_pedidos.isnull().sum()"
      ],
      "execution_count": null,
      "outputs": []
    },
    {
      "cell_type": "markdown",
      "metadata": {
        "id": "pr5hnQmzKCsQ"
      },
      "source": [
        "### **03.b.Estatística.**"
      ]
    },
    {
      "cell_type": "markdown",
      "metadata": {
        "id": "yav42bDUKIVo"
      },
      "source": [
        "#### **03.b.I.Variáveis numéricas.**"
      ]
    },
    {
      "cell_type": "markdown",
      "metadata": {
        "id": "VQXAAx0GKRFJ"
      },
      "source": [
        " - Use a biblioteca Pandas para plotar um gráfico de histograma para todas as variáveis numéricas.\n",
        "\n",
        "  - Use o parâmentro **`figsize( )`** para deixar o grafico com largura 20 e altura 10."
      ]
    },
    {
      "cell_type": "code",
      "metadata": {
        "id": "bH3d38XgKZi7",
        "colab": {
          "base_uri": "https://localhost:8080/",
          "height": 777
        },
        "outputId": "c2309f9c-0b20-4787-b8cb-7f2c1dbb1a72"
      },
      "source": [
        "# Plotando um histograma com a biblioteca Pandas.\n",
        "df_pedidos.hist(figsize=(20,10))"
      ],
      "execution_count": 9,
      "outputs": [
        {
          "output_type": "execute_result",
          "data": {
            "text/plain": [
              "array([[<matplotlib.axes._subplots.AxesSubplot object at 0x7fb0211b5090>,\n",
              "        <matplotlib.axes._subplots.AxesSubplot object at 0x7fb020fd6c50>,\n",
              "        <matplotlib.axes._subplots.AxesSubplot object at 0x7fb020f96310>],\n",
              "       [<matplotlib.axes._subplots.AxesSubplot object at 0x7fb020fc8990>,\n",
              "        <matplotlib.axes._subplots.AxesSubplot object at 0x7fb020f86050>,\n",
              "        <matplotlib.axes._subplots.AxesSubplot object at 0x7fb020f3e6d0>],\n",
              "       [<matplotlib.axes._subplots.AxesSubplot object at 0x7fb020ef1d50>,\n",
              "        <matplotlib.axes._subplots.AxesSubplot object at 0x7fb020eb3410>,\n",
              "        <matplotlib.axes._subplots.AxesSubplot object at 0x7fb020ebe510>]],\n",
              "      dtype=object)"
            ]
          },
          "metadata": {
            "tags": []
          },
          "execution_count": 9
        },
        {
          "output_type": "display_data",
          "data": {
            "image/png": "[encoded data removed]",
            "text/plain": [
              "<Figure size 1440x720 with 9 Axes>"
            ]
          },
          "metadata": {
            "tags": [],
            "needs_background": "light"
          }
        }
      ]
    },
    {
      "cell_type": "code",
      "metadata": {
        "cellView": "form",
        "id": "yFcjMVXsKd3S"
      },
      "source": [
        "#@title Clique aqui para ver a resposta.\n",
        "df_pedidos.hist(figsize=(20,10));"
      ],
      "execution_count": null,
      "outputs": []
    },
    {
      "cell_type": "markdown",
      "metadata": {
        "id": "K-5hv2grKk8z"
      },
      "source": [
        "#### **03.b.II.Variáveis categóricas.**"
      ]
    },
    {
      "cell_type": "markdown",
      "metadata": {
        "id": "8ECbBKKBLNsg"
      },
      "source": [
        "- 01.Use a biblioteca Matplotlib para construir um gráfico de barras para visualizar a quantidade de vendas de cada prato da coluna **PRATO_PEDIDO**.\n",
        "\n",
        "- 02.Customize o gráfico com os seguintes itens:\n",
        " - **Título:** Nome dos pratos.\n",
        " - **Legenda eixo Y:** Quantidade de pratos vendida.\n"
      ]
    },
    {
      "cell_type": "code",
      "metadata": {
        "id": "QeuRHDS6Lgot",
        "colab": {
          "base_uri": "https://localhost:8080/",
          "height": 413
        },
        "outputId": "7b13ffb4-cd0f-43fb-c75b-26a67501e11a"
      },
      "source": [
        "# Construindo um gráfico de barras para os pratos da coluna PRATO_PEDIDO.\n",
        "fig, ax_01 = plt.subplots()\n",
        "df_pedidos.PRATO_PEDIDO.value_counts().plot(kind=\"bar\", ax=ax_01)\n",
        "ax_01.set_title(\"Nome dos pratos\")\n",
        "ax_01.set_ylabel(\"Quantidade de pratos vendida\")\n"
      ],
      "execution_count": 12,
      "outputs": [
        {
          "output_type": "execute_result",
          "data": {
            "text/plain": [
              "Text(0, 0.5, 'Quantidade de pratos vendida')"
            ]
          },
          "metadata": {
            "tags": []
          },
          "execution_count": 12
        },
        {
          "output_type": "display_data",
          "data": {
            "image/png": "[encoded data removed]",
            "text/plain": [
              "<Figure size 432x288 with 1 Axes>"
            ]
          },
          "metadata": {
            "tags": [],
            "needs_background": "light"
          }
        }
      ]
    },
    {
      "cell_type": "code",
      "metadata": {
        "id": "Z1gyuMlyLp4E",
        "cellView": "form"
      },
      "source": [
        "#@title Clique aqui para ver a resposta.\n",
        "\n",
        "# 01.Criando os objetos figure e axes.\n",
        "fig, ax_01 = plt.subplots()\n",
        "\n",
        "# 02.Plotando o gráfico e o armazenando no axes criado.\n",
        "df_pedidos.PRATO_PEDIDO.value_counts().plot(kind='bar', ax=ax_01)\n",
        "\n",
        "# 03.Customizando o gráfico.\n",
        "# 03.a.Título.\n",
        "ax_01.set_title(\"Nome dos pratos\")\n",
        "\n",
        "# 03.b.Legenda eixo Y.\n",
        "ax_01.set_ylabel('Quantidade de pratos vendida')\n"
      ],
      "execution_count": null,
      "outputs": []
    },
    {
      "cell_type": "markdown",
      "metadata": {
        "id": "zPCKYuh0L9-O"
      },
      "source": [
        "## **04.RESPONDENDO OS PROBLEMAS DE NEGÓCIO.**"
      ]
    },
    {
      "cell_type": "markdown",
      "metadata": {
        "id": "JzF8cNm7NCl9"
      },
      "source": [
        "### **04.a.Entender os pratos que mais faturam.**"
      ]
    },
    {
      "cell_type": "markdown",
      "metadata": {
        "id": "MBlYPki4NLtD"
      },
      "source": [
        "- Use o método **`groupby( )`** para agregar as colunas TOTAL_DA_COMPRA e PRATO_PEDIDO e armazene em um objeto chamado **pratos_mais_faturam**."
      ]
    },
    {
      "cell_type": "code",
      "metadata": {
        "id": "rGFRjH79Nh4I"
      },
      "source": [
        "# Agragando as colunas TOTAL_DA_COMPRA e PRATO_PEDIDO no objeto pratos_mais_faturam\n",
        "df_pratos_mais_faturam = df_pedidos.TOTAL_DA_COMPRA.groupby([df_pedidos.PRATO_PEDIDO])"
      ],
      "execution_count": 13,
      "outputs": []
    },
    {
      "cell_type": "code",
      "metadata": {
        "cellView": "form",
        "id": "WTCSNq1vNrKU"
      },
      "source": [
        "#@title Clique aqui para ver a reposta.\n",
        "\n",
        "pratos_mais_faturam = df_pedidos['TOTAL_DA_COMPRA'].groupby(df_pedidos['PRATO_PEDIDO'])"
      ],
      "execution_count": null,
      "outputs": []
    },
    {
      "cell_type": "markdown",
      "metadata": {
        "id": "Qi7GIajDOHbp"
      },
      "source": [
        "- Use o objeto **`pratos_mais_faturam`** criado anteriormente para descobrir quais são os três pratos que mais faturam.\n",
        " - **Dica:** junto com a sua resposta, use o método **`sort_values(ascending=False)`** para ordenar a resposta do prato que mais fatura para aquele que menos fatura."
      ]
    },
    {
      "cell_type": "code",
      "metadata": {
        "id": "UuHHyNOQOhJz",
        "colab": {
          "base_uri": "https://localhost:8080/"
        },
        "outputId": "70453313-459e-40ac-dd84-598db43e6b24"
      },
      "source": [
        "# Descobrindo quais são os três pratos que mais faturam.\n",
        "df_pratos_mais_faturam.sum().sort_values(ascending=False)"
      ],
      "execution_count": 14,
      "outputs": [
        {
          "output_type": "execute_result",
          "data": {
            "text/plain": [
              "PRATO_PEDIDO\n",
              "SALADA_CAPRESE          40125.00\n",
              "SALADA_CAESAR           40080.00\n",
              "SALADA_FOLHAS_PARMA     35165.00\n",
              "PARMEGIANA_MIGNON       34740.99\n",
              "RISOTO_FRANGO           21249.00\n",
              "PARMEGIANA_CARNE        21153.49\n",
              "PARMEGIANA_FRANGO       19377.50\n",
              "RISOTO_SALMAO           17856.00\n",
              "RISOTO_MIGNON           14671.50\n",
              "RISOTO_QUEIJO           14439.50\n",
              "PARMEGIANA_BERINJELA    14184.50\n",
              "PARMEGIANA_TILAPIA       7271.50\n",
              "RISOTO_FUNGHI            3456.50\n",
              "Name: TOTAL_DA_COMPRA, dtype: float64"
            ]
          },
          "metadata": {
            "tags": []
          },
          "execution_count": 14
        }
      ]
    },
    {
      "cell_type": "code",
      "metadata": {
        "id": "yJcKYiHgN3c8",
        "cellView": "form"
      },
      "source": [
        "#@title Clique aqui para ver a resposta.\n",
        "pratos_mais_faturam.sum().sort_values(ascending=False)"
      ],
      "execution_count": null,
      "outputs": []
    },
    {
      "cell_type": "markdown",
      "metadata": {
        "id": "I22HoNzZN-1I"
      },
      "source": [
        "### **04.b.Preparando os dados.**"
      ]
    },
    {
      "cell_type": "markdown",
      "metadata": {
        "id": "qYdux6DTOz7x"
      },
      "source": [
        "- 01.Crie um *DataFrame* chamado **df_maiores_vendas** que contenha somente os três pratos que mais faturam.\n",
        " - **observação:** use o *DataFrame* **`df_pedidos`** para criar o *DataFrame* **`df_maiores_vendas`**.\n",
        " "
      ]
    },
    {
      "cell_type": "code",
      "metadata": {
        "id": "87tQENA5PgHz"
      },
      "source": [
        "# 01.Criando o DataFrame df_maiores_vendas.\n",
        "df_maiores_vendas = df_pedidos[(df_pedidos[\"PRATO_PEDIDO\"]== \"SALADA_CAPRESE\") |\n",
        "                               (df_pedidos[\"PRATO_PEDIDO\"] == \"SALADA_CAESAR\") |\n",
        "                               (df_pedidos[\"PRATO_PEDIDO\"] == \"SALADA_FOLHAS_PARMA\")]"
      ],
      "execution_count": 15,
      "outputs": []
    },
    {
      "cell_type": "code",
      "metadata": {
        "id": "_We0SSYeQmbU",
        "cellView": "form"
      },
      "source": [
        "#@title Clique aqui para ver a resposta.\n",
        "df_maiores_vendas = df_pedidos[(df_pedidos['PRATO_PEDIDO'] == 'SALADA_CAPRESE') |\n",
        "                               (df_pedidos['PRATO_PEDIDO'] == 'SALADA_CAESAR') |\n",
        "                               (df_pedidos['PRATO_PEDIDO'] == 'SALADA_FOLHAS_PARMA')]"
      ],
      "execution_count": null,
      "outputs": []
    },
    {
      "cell_type": "markdown",
      "metadata": {
        "id": "RpJlwmqfQguG"
      },
      "source": [
        "- 02.Use o método **`head()`** para visualizar as cinco primeiras entradas do *DataFrame*.\n",
        "\n"
      ]
    },
    {
      "cell_type": "code",
      "metadata": {
        "id": "JA12xykLQOhp",
        "colab": {
          "base_uri": "https://localhost:8080/",
          "height": 204
        },
        "outputId": "0f23f57e-9b6b-4cf9-aa92-ea700e4d53f0"
      },
      "source": [
        "# 02.Visualizando as cinco primeiras entradas do DataFrame.\n",
        "df_maiores_vendas.head(5)"
      ],
      "execution_count": 16,
      "outputs": [
        {
          "output_type": "execute_result",
          "data": {
            "text/html": [
              "<div>\n",
              "<style scoped>\n",
              "    .dataframe tbody tr th:only-of-type {\n",
              "        vertical-align: middle;\n",
              "    }\n",
              "\n",
              "    .dataframe tbody tr th {\n",
              "        vertical-align: top;\n",
              "    }\n",
              "\n",
              "    .dataframe thead th {\n",
              "        text-align: right;\n",
              "    }\n",
              "</style>\n",
              "<table border=\"1\" class=\"dataframe\">\n",
              "  <thead>\n",
              "    <tr style=\"text-align: right;\">\n",
              "      <th></th>\n",
              "      <th>DIA</th>\n",
              "      <th>MES</th>\n",
              "      <th>ANO</th>\n",
              "      <th>HORA</th>\n",
              "      <th>PRATO_PEDIDO</th>\n",
              "      <th>QUANTIDADE_DE_ITENS</th>\n",
              "      <th>TOTAL_DA_COMPRA</th>\n",
              "      <th>LATITUDE</th>\n",
              "      <th>LONGITUDE</th>\n",
              "      <th>CIDADE</th>\n",
              "      <th>FORMA_DE_PAGAMENTO</th>\n",
              "    </tr>\n",
              "  </thead>\n",
              "  <tbody>\n",
              "    <tr>\n",
              "      <th>2134</th>\n",
              "      <td>5</td>\n",
              "      <td>6</td>\n",
              "      <td>2020</td>\n",
              "      <td>11</td>\n",
              "      <td>SALADA_FOLHAS_PARMA</td>\n",
              "      <td>1</td>\n",
              "      <td>65.0</td>\n",
              "      <td>-23.445342</td>\n",
              "      <td>-47.456180</td>\n",
              "      <td>Sorocaba</td>\n",
              "      <td>Credito</td>\n",
              "    </tr>\n",
              "    <tr>\n",
              "      <th>2135</th>\n",
              "      <td>20</td>\n",
              "      <td>6</td>\n",
              "      <td>2020</td>\n",
              "      <td>12</td>\n",
              "      <td>SALADA_CAESAR</td>\n",
              "      <td>2</td>\n",
              "      <td>80.0</td>\n",
              "      <td>-23.499507</td>\n",
              "      <td>-47.430428</td>\n",
              "      <td>Sorocaba</td>\n",
              "      <td>Credito</td>\n",
              "    </tr>\n",
              "    <tr>\n",
              "      <th>2136</th>\n",
              "      <td>21</td>\n",
              "      <td>6</td>\n",
              "      <td>2020</td>\n",
              "      <td>13</td>\n",
              "      <td>SALADA_CAPRESE</td>\n",
              "      <td>2</td>\n",
              "      <td>75.0</td>\n",
              "      <td>-23.499507</td>\n",
              "      <td>-47.430428</td>\n",
              "      <td>Sorocaba</td>\n",
              "      <td>Credito</td>\n",
              "    </tr>\n",
              "    <tr>\n",
              "      <th>2137</th>\n",
              "      <td>5</td>\n",
              "      <td>6</td>\n",
              "      <td>2020</td>\n",
              "      <td>11</td>\n",
              "      <td>SALADA_FOLHAS_PARMA</td>\n",
              "      <td>1</td>\n",
              "      <td>65.0</td>\n",
              "      <td>-23.494847</td>\n",
              "      <td>-47.428832</td>\n",
              "      <td>Sorocaba</td>\n",
              "      <td>Credito</td>\n",
              "    </tr>\n",
              "    <tr>\n",
              "      <th>2138</th>\n",
              "      <td>20</td>\n",
              "      <td>6</td>\n",
              "      <td>2020</td>\n",
              "      <td>12</td>\n",
              "      <td>SALADA_CAESAR</td>\n",
              "      <td>2</td>\n",
              "      <td>80.0</td>\n",
              "      <td>-23.495833</td>\n",
              "      <td>-47.429457</td>\n",
              "      <td>Sorocaba</td>\n",
              "      <td>Credito</td>\n",
              "    </tr>\n",
              "  </tbody>\n",
              "</table>\n",
              "</div>"
            ],
            "text/plain": [
              "      DIA  MES   ANO  HORA  ...   LATITUDE  LONGITUDE    CIDADE  FORMA_DE_PAGAMENTO\n",
              "2134    5    6  2020    11  ... -23.445342 -47.456180  Sorocaba             Credito\n",
              "2135   20    6  2020    12  ... -23.499507 -47.430428  Sorocaba             Credito\n",
              "2136   21    6  2020    13  ... -23.499507 -47.430428  Sorocaba             Credito\n",
              "2137    5    6  2020    11  ... -23.494847 -47.428832  Sorocaba             Credito\n",
              "2138   20    6  2020    12  ... -23.495833 -47.429457  Sorocaba             Credito\n",
              "\n",
              "[5 rows x 11 columns]"
            ]
          },
          "metadata": {
            "tags": []
          },
          "execution_count": 16
        }
      ]
    },
    {
      "cell_type": "code",
      "metadata": {
        "cellView": "form",
        "id": "xCK4zBvbQ8wb"
      },
      "source": [
        "#@title Clique aqui para ver a resposta.\n",
        "df_maiores_vendas.head()"
      ],
      "execution_count": null,
      "outputs": []
    },
    {
      "cell_type": "markdown",
      "metadata": {
        "id": "SCJpBOgwQjQV"
      },
      "source": [
        "- 03.Use a propriedade **`shape`** para entender o formato do *DataFrame*.\n",
        "\n"
      ]
    },
    {
      "cell_type": "code",
      "metadata": {
        "id": "LkOpSmwvQTzh",
        "colab": {
          "base_uri": "https://localhost:8080/"
        },
        "outputId": "5c47fa8e-a976-405c-c005-8f39bb8e246b"
      },
      "source": [
        "# 03.Entendendo o formato do DataFrame.\n",
        "df_maiores_vendas.shape"
      ],
      "execution_count": 17,
      "outputs": [
        {
          "output_type": "execute_result",
          "data": {
            "text/plain": [
              "(1577, 11)"
            ]
          },
          "metadata": {
            "tags": []
          },
          "execution_count": 17
        }
      ]
    },
    {
      "cell_type": "code",
      "metadata": {
        "cellView": "form",
        "id": "yFyhRvIbQ9-p"
      },
      "source": [
        "#@title Clique aqui para ver a resposta.\n",
        "df_maiores_vendas.shape"
      ],
      "execution_count": null,
      "outputs": []
    },
    {
      "cell_type": "markdown",
      "metadata": {
        "id": "AUzAhLt7QlAG"
      },
      "source": [
        "- 04.Verifique a quantidade vendida de cada um dos pratos da coluna PRATO_PEDIDO."
      ]
    },
    {
      "cell_type": "code",
      "metadata": {
        "id": "CXJgkeLlQY4r",
        "colab": {
          "base_uri": "https://localhost:8080/"
        },
        "outputId": "3cff5306-df2b-4cdb-ec01-6bc163f66476"
      },
      "source": [
        "# 04.Verificando a quantidade de vendas para cada prato.\n",
        "df_maiores_vendas.PRATO_PEDIDO.value_counts()"
      ],
      "execution_count": 18,
      "outputs": [
        {
          "output_type": "execute_result",
          "data": {
            "text/plain": [
              "SALADA_FOLHAS_PARMA    541\n",
              "SALADA_CAPRESE         535\n",
              "SALADA_CAESAR          501\n",
              "Name: PRATO_PEDIDO, dtype: int64"
            ]
          },
          "metadata": {
            "tags": []
          },
          "execution_count": 18
        }
      ]
    },
    {
      "cell_type": "code",
      "metadata": {
        "id": "_YaXucceQ_IS"
      },
      "source": [
        "#@title Clique aqui para ver a resposta.\n",
        "df_maiores_vendas.PRATO_PEDIDO.value_counts()"
      ],
      "execution_count": null,
      "outputs": []
    },
    {
      "cell_type": "markdown",
      "metadata": {
        "id": "VoCBi7rDRzmF"
      },
      "source": [
        "### **04.c.Descobrindo qual a melhor localização para criar uma *dark kitchen*.**"
      ]
    },
    {
      "cell_type": "markdown",
      "metadata": {
        "id": "HUS0KR63SQ0N"
      },
      "source": [
        "- Use o método **`groupby( )`** para agregar/reunir a coluna **TOTAL_DA_COMPRA** com as colunas **LATITUDE** e **LONGITUDE** e as armazene em um objeto chamado **local_maior_faturamento**.\n",
        "\n"
      ]
    },
    {
      "cell_type": "code",
      "metadata": {
        "id": "4iEzEnRwToC1"
      },
      "source": [
        ""
      ],
      "execution_count": null,
      "outputs": []
    },
    {
      "cell_type": "code",
      "metadata": {
        "id": "j4LMbIeeS8pm"
      },
      "source": [
        "# Agragando as colunas TOTAL_PEDIDO com as colunas LATITUDE e LONGITUDE.\n",
        "local_maior_faturamento = df_maiores_vendas.TOTAL_DA_COMPRA.groupby([df_maiores_vendas.LATITUDE, df_maiores_vendas.LONGITUDE])"
      ],
      "execution_count": 20,
      "outputs": []
    },
    {
      "cell_type": "code",
      "metadata": {
        "cellView": "form",
        "id": "yViked6MTC_S"
      },
      "source": [
        "#@title Clique aqui para ver a resposta.\n",
        "local_maior_faturamento = df_maiores_vendas['TOTAL_DA_COMPRA'].groupby([df_maiores_vendas['LATITUDE'], df_maiores_vendas['LONGITUDE']])"
      ],
      "execution_count": null,
      "outputs": []
    },
    {
      "cell_type": "markdown",
      "metadata": {
        "id": "NTtjdR1EThtu"
      },
      "source": [
        "- Use o objeto **local_maior_faturamento** criado anteriormente para descobrir qual é a **LATITUDE** e a **LONGITUDE** onde há a maior soma de vendas.\n",
        " - **Dica:** para visualizar de forma mais fácil a **LATITUDE** e a **LONGITUDE** onde há maior soma de vendas, use o método **`sort_values(ascending=False)`**."
      ]
    },
    {
      "cell_type": "code",
      "metadata": {
        "id": "j-ucdrAiUNof",
        "colab": {
          "base_uri": "https://localhost:8080/"
        },
        "outputId": "057a0bcb-3761-4b2e-a8f8-a853d96b90db"
      },
      "source": [
        "# Calculando a LATITUDE e a LONGITUDE que tenha a maior soma de vendas.\n",
        "local_maior_faturamento.sum().sort_values(ascending=False)"
      ],
      "execution_count": 21,
      "outputs": [
        {
          "output_type": "execute_result",
          "data": {
            "text/plain": [
              "LATITUDE    LONGITUDE \n",
              "-23.495833  -47.429457    7210.0\n",
              "-23.490770  -47.430195    3875.0\n",
              "-23.499507  -47.430428    3630.0\n",
              "-23.483928  -47.458999    3545.0\n",
              "-23.491949  -47.415816    3380.0\n",
              "                           ...  \n",
              "-23.492314  -47.412316      65.0\n",
              "-23.529321  -47.471107      65.0\n",
              "-23.491773  -47.439388      65.0\n",
              "-23.490293  -47.410811      65.0\n",
              "-23.527534  -47.466620      65.0\n",
              "Name: TOTAL_DA_COMPRA, Length: 291, dtype: float64"
            ]
          },
          "metadata": {
            "tags": []
          },
          "execution_count": 21
        }
      ]
    },
    {
      "cell_type": "code",
      "metadata": {
        "cellView": "form",
        "id": "DRNCXp0DUYF6"
      },
      "source": [
        "#@title Clique aqui para ver a resposta.\n",
        "local_maior_faturamento.sum().sort_values(ascending=False)"
      ],
      "execution_count": null,
      "outputs": []
    },
    {
      "cell_type": "markdown",
      "metadata": {
        "id": "3IReanM-VV7S"
      },
      "source": [
        "### **04.d.Criando um mapa.**"
      ]
    },
    {
      "cell_type": "markdown",
      "metadata": {
        "id": "GMXSZZedtLDq"
      },
      "source": [
        "- **01.Use a biblioteca Folium para criar um mapa.**\n",
        " - **observação:** este mapa deve começar com os seguintes parêmetros:\n",
        "   - location=[-23.5028441,-47.4335729]\n",
        "   -  zoom_start=12"
      ]
    },
    {
      "cell_type": "code",
      "metadata": {
        "id": "xZ4x7fGHVZKf"
      },
      "source": [
        "# Criando um mapa com a biblioteca Folium\n",
        "mapa = folium.Map(location=[-23.5028441,-47.4335729], zoom_start=12)"
      ],
      "execution_count": 23,
      "outputs": []
    },
    {
      "cell_type": "code",
      "metadata": {
        "id": "zMwueyBntnHl"
      },
      "source": [
        "#@title Clique aqui para ver a resposta.\n",
        "mapa = folium.Map(location=[-23.5028441,-47.4335729], zoom_start=12)"
      ],
      "execution_count": null,
      "outputs": []
    },
    {
      "cell_type": "markdown",
      "metadata": {
        "id": "brW-F4wOtuTG"
      },
      "source": [
        "- **02.Visualize o mapa criado.**"
      ]
    },
    {
      "cell_type": "code",
      "metadata": {
        "id": "FeZ55P_9t8vW",
        "colab": {
          "base_uri": "https://localhost:8080/",
          "height": 760
        },
        "outputId": "e0ed548e-ebbb-4c54-8ed4-d0b126639f45"
      },
      "source": [
        "# Visualizando o mapa criado.\n",
        "mapa"
      ],
      "execution_count": 24,
      "outputs": [
        {
          "output_type": "execute_result",
          "data": {
            "text/html": [
              "<div style=\"width:100%;\"><div style=\"position:relative;width:100%;height:0;padding-bottom:60%;\"><span style=\"color:#565656\">Make this Notebook Trusted to load map: File -> Trust Notebook</span><iframe src=\"about:blank\" style=\"position:absolute;width:100%;height:100%;left:0;top:0;border:none !important;\" data-html=%3C%21DOCTYPE%20html%3E%0A%3Chead%3E%20%20%20%20%0A%20%20%20%20%3Cmeta%20http-equiv%3D%22content-type%22%20content%3D%22text/html%3B%20charset%3DUTF-8%22%20/%3E%0A%20%20%20%20%3Cscript%3EL_PREFER_CANVAS%3Dfalse%3B%20L_NO_TOUCH%3Dfalse%3B%20L_DISABLE_3D%3Dfalse%3B%3C/script%3E%0A%20%20%20%20%3Cscript%20src%3D%22https%3A//cdn.jsdelivr.net/npm/leaflet%401.4.0/dist/leaflet.js%22%3E%3C/script%3E%0A%20%20%20%20%3Cscript%20src%3D%22https%3A//code.jquery.com/jquery-1.12.4.min.js%22%3E%3C/script%3E%0A%20%20%20%20%3Cscript%20src%3D%22https%3A//maxcdn.bootstrapcdn.com/bootstrap/3.2.0/js/bootstrap.min.js%22%3E%3C/script%3E%0A%20%20%20%20%3Cscript%20src%3D%22https%3A//cdnjs.cloudflare.com/ajax/libs/Leaflet.awesome-markers/2.0.2/leaflet.awesome-markers.js%22%3E%3C/script%3E%0A%20%20%20%20%3Clink%20rel%3D%22stylesheet%22%20href%3D%22https%3A//cdn.jsdelivr.net/npm/leaflet%401.4.0/dist/leaflet.css%22/%3E%0A%20%20%20%20%3Clink%20rel%3D%22stylesheet%22%20href%3D%22https%3A//maxcdn.bootstrapcdn.com/bootstrap/3.2.0/css/bootstrap.min.css%22/%3E%0A%20%20%20%20%3Clink%20rel%3D%22stylesheet%22%20href%3D%22https%3A//maxcdn.bootstrapcdn.com/bootstrap/3.2.0/css/bootstrap-theme.min.css%22/%3E%0A%20%20%20%20%3Clink%20rel%3D%22stylesheet%22%20href%3D%22https%3A//maxcdn.bootstrapcdn.com/font-awesome/4.6.3/css/font-awesome.min.css%22/%3E%0A%20%20%20%20%3Clink%20rel%3D%22stylesheet%22%20href%3D%22https%3A//cdnjs.cloudflare.com/ajax/libs/Leaflet.awesome-markers/2.0.2/leaflet.awesome-markers.css%22/%3E%0A%20%20%20%20%3Clink%20rel%3D%22stylesheet%22%20href%3D%22https%3A//rawcdn.githack.com/python-visualization/folium/master/folium/templates/leaflet.awesome.rotate.css%22/%3E%0A%20%20%20%20%3Cstyle%3Ehtml%2C%20body%20%7Bwidth%3A%20100%25%3Bheight%3A%20100%25%3Bmargin%3A%200%3Bpadding%3A%200%3B%7D%3C/style%3E%0A%20%20%20%20%3Cstyle%3E%23map%20%7Bposition%3Aabsolute%3Btop%3A0%3Bbottom%3A0%3Bright%3A0%3Bleft%3A0%3B%7D%3C/style%3E%0A%20%20%20%20%0A%20%20%20%20%3Cmeta%20name%3D%22viewport%22%20content%3D%22width%3Ddevice-width%2C%0A%20%20%20%20%20%20%20%20initial-scale%3D1.0%2C%20maximum-scale%3D1.0%2C%20user-scalable%3Dno%22%20/%3E%0A%20%20%20%20%3Cstyle%3E%23map_ac22868012a24b1992b2cd10ecf0937c%20%7B%0A%20%20%20%20%20%20%20%20position%3A%20relative%3B%0A%20%20%20%20%20%20%20%20width%3A%20100.0%25%3B%0A%20%20%20%20%20%20%20%20height%3A%20100.0%25%3B%0A%20%20%20%20%20%20%20%20left%3A%200.0%25%3B%0A%20%20%20%20%20%20%20%20top%3A%200.0%25%3B%0A%20%20%20%20%20%20%20%20%7D%0A%20%20%20%20%3C/style%3E%0A%3C/head%3E%0A%3Cbody%3E%20%20%20%20%0A%20%20%20%20%0A%20%20%20%20%3Cdiv%20class%3D%22folium-map%22%20id%3D%22map_ac22868012a24b1992b2cd10ecf0937c%22%20%3E%3C/div%3E%0A%3C/body%3E%0A%3Cscript%3E%20%20%20%20%0A%20%20%20%20%0A%20%20%20%20%0A%20%20%20%20%20%20%20%20var%20bounds%20%3D%20null%3B%0A%20%20%20%20%0A%0A%20%20%20%20var%20map_ac22868012a24b1992b2cd10ecf0937c%20%3D%20L.map%28%0A%20%20%20%20%20%20%20%20%27map_ac22868012a24b1992b2cd10ecf0937c%27%2C%20%7B%0A%20%20%20%20%20%20%20%20center%3A%20%5B-23.5028441%2C%20-47.4335729%5D%2C%0A%20%20%20%20%20%20%20%20zoom%3A%2012%2C%0A%20%20%20%20%20%20%20%20maxBounds%3A%20bounds%2C%0A%20%20%20%20%20%20%20%20layers%3A%20%5B%5D%2C%0A%20%20%20%20%20%20%20%20worldCopyJump%3A%20false%2C%0A%20%20%20%20%20%20%20%20crs%3A%20L.CRS.EPSG3857%2C%0A%20%20%20%20%20%20%20%20zoomControl%3A%20true%2C%0A%20%20%20%20%20%20%20%20%7D%29%3B%0A%0A%0A%20%20%20%20%0A%20%20%20%20var%20tile_layer_a6fd37cd136c483fa850f9926a52f119%20%3D%20L.tileLayer%28%0A%20%20%20%20%20%20%20%20%27https%3A//%7Bs%7D.tile.openstreetmap.org/%7Bz%7D/%7Bx%7D/%7By%7D.png%27%2C%0A%20%20%20%20%20%20%20%20%7B%0A%20%20%20%20%20%20%20%20%22attribution%22%3A%20null%2C%0A%20%20%20%20%20%20%20%20%22detectRetina%22%3A%20false%2C%0A%20%20%20%20%20%20%20%20%22maxNativeZoom%22%3A%2018%2C%0A%20%20%20%20%20%20%20%20%22maxZoom%22%3A%2018%2C%0A%20%20%20%20%20%20%20%20%22minZoom%22%3A%200%2C%0A%20%20%20%20%20%20%20%20%22noWrap%22%3A%20false%2C%0A%20%20%20%20%20%20%20%20%22opacity%22%3A%201%2C%0A%20%20%20%20%20%20%20%20%22subdomains%22%3A%20%22abc%22%2C%0A%20%20%20%20%20%20%20%20%22tms%22%3A%20false%0A%7D%29.addTo%28map_ac22868012a24b1992b2cd10ecf0937c%29%3B%0A%3C/script%3E onload=\"this.contentDocument.open();this.contentDocument.write(    decodeURIComponent(this.getAttribute('data-html')));this.contentDocument.close();\" allowfullscreen webkitallowfullscreen mozallowfullscreen></iframe></div></div>"
            ],
            "text/plain": [
              "<folium.folium.Map at 0x7fb01c643dd0>"
            ]
          },
          "metadata": {
            "tags": []
          },
          "execution_count": 24
        }
      ]
    },
    {
      "cell_type": "code",
      "metadata": {
        "id": "LX6F31lZt_DJ"
      },
      "source": [
        "#@title Clique aqui para ver a resposta.\n",
        "mapa"
      ],
      "execution_count": null,
      "outputs": []
    },
    {
      "cell_type": "markdown",
      "metadata": {
        "id": "3E2nDcuZuLp3"
      },
      "source": [
        "- **03.Adicionando o mapa de calor.**"
      ]
    },
    {
      "cell_type": "markdown",
      "metadata": {
        "id": "Nlxu29iZuTvZ"
      },
      "source": [
        "  - 03.a.Crie as variáveis **latitude** e **longitude** para receberem os valores das colunas **LATITUDE** e **LONGITUDE** do *DataFrame* **df_maiores_vendas**.\n",
        "\n"
      ]
    },
    {
      "cell_type": "code",
      "metadata": {
        "id": "59IIZTQauzYj"
      },
      "source": [
        "# Criando as variáveis latitude e longitude.\n",
        "latitude = df_maiores_vendas.LATITUDE.values\n",
        "longitude = df_maiores_vendas.LONGITUDE.values\n",
        "\n"
      ],
      "execution_count": 25,
      "outputs": []
    },
    {
      "cell_type": "code",
      "metadata": {
        "cellView": "form",
        "id": "PQ9A1TaRu40y"
      },
      "source": [
        "#@title Clique aqui para ver a resposta.\n",
        "latitude = df_maiores_vendas.LATITUDE.values\n",
        "longitude = df_maiores_vendas.LONGITUDE.values"
      ],
      "execution_count": null,
      "outputs": []
    },
    {
      "cell_type": "markdown",
      "metadata": {
        "id": "Afq2xyGlu9z2"
      },
      "source": [
        " - 03.b.Crie uma lista vazia chamada **coordenadas**."
      ]
    },
    {
      "cell_type": "code",
      "metadata": {
        "id": "aENxVlfVvI1m"
      },
      "source": [
        "# Criando uma lista vazia.\n",
        "coordenadas = []"
      ],
      "execution_count": 26,
      "outputs": []
    },
    {
      "cell_type": "code",
      "metadata": {
        "cellView": "form",
        "id": "McXLGOhVvLI6"
      },
      "source": [
        "#@title Clique aqui para ver a resposta.\n",
        "coordenadas= []"
      ],
      "execution_count": null,
      "outputs": []
    },
    {
      "cell_type": "markdown",
      "metadata": {
        "id": "SwhKnpBfvQka"
      },
      "source": [
        " - 03.c.Use a estrutura **`for`** para preencher a lista criada com os valores das variáveis **latitude** e **longitude** criadas no item 03.a."
      ]
    },
    {
      "cell_type": "code",
      "metadata": {
        "id": "gt0TFAoGv1tt"
      },
      "source": [
        "# Preenchendo a lista coordenadas\n",
        "for lat,lon in zip(latitude,longitude): coordenadas.append([lat,lon])"
      ],
      "execution_count": 27,
      "outputs": []
    },
    {
      "cell_type": "code",
      "metadata": {
        "cellView": "form",
        "id": "rgqXlYjPv6Dz"
      },
      "source": [
        "#@title Clique aqui para ver a resposta.\n",
        "for lat,lon in zip(latitude,longitude):\n",
        "  coordenadas.append([lat,lon])"
      ],
      "execution_count": null,
      "outputs": []
    },
    {
      "cell_type": "markdown",
      "metadata": {
        "id": "NfX0h1zdwAmT"
      },
      "source": [
        "- 03.d.Adicione o mapa de calor."
      ]
    },
    {
      "cell_type": "code",
      "metadata": {
        "id": "3iPF48pfwJbb",
        "colab": {
          "base_uri": "https://localhost:8080/",
          "height": 760
        },
        "outputId": "d44a43f9-fc33-49eb-fb5a-53fdd28e6d34"
      },
      "source": [
        "# Adicionando o mapa de calor.\n",
        "mapa.add_child(plugins.HeatMap(coordenadas))"
      ],
      "execution_count": 30,
      "outputs": [
        {
          "output_type": "execute_result",
          "data": {
            "text/html": [
              "<div style=\"width:100%;\"><div style=\"position:relative;width:100%;height:0;padding-bottom:60%;\"><span style=\"color:#565656\">Make this Notebook Trusted to load map: File -> Trust Notebook</span><iframe src=\"about:blank\" style=\"position:absolute;width:100%;height:100%;left:0;top:0;border:none !important;\" data-html=%3C%21DOCTYPE%20html%3E%0A%3Chead%3E%20%20%20%20%0A%20%20%20%20%3Cmeta%20http-equiv%3D%22content-type%22%20content%3D%22text/html%3B%20charset%3DUTF-8%22%20/%3E%0A%20%20%20%20%3Cscript%3EL_PREFER_CANVAS%3Dfalse%3B%20L_NO_TOUCH%3Dfalse%3B%20L_DISABLE_3D%3Dfalse%3B%3C/script%3E%0A%20%20%20%20%3Cscript%20src%3D%22https%3A//cdn.jsdelivr.net/npm/leaflet%401.4.0/dist/leaflet.js%22%3E%3C/script%3E%0A%20%20%20%20%3Cscript%20src%3D%22https%3A//code.jquery.com/jquery-1.12.4.min.js%22%3E%3C/script%3E%0A%20%20%20%20%3Cscript%20src%3D%22https%3A//maxcdn.bootstrapcdn.com/bootstrap/3.2.0/js/bootstrap.min.js%22%3E%3C/script%3E%0A%20%20%20%20%3Cscript%20src%3D%22https%3A//cdnjs.cloudflare.com/ajax/libs/Leaflet.awesome-markers/2.0.2/leaflet.awesome-markers.js%22%3E%3C/script%3E%0A%20%20%20%20%3Clink%20rel%3D%22stylesheet%22%20href%3D%22https%3A//cdn.jsdelivr.net/npm/leaflet%401.4.0/dist/leaflet.css%22/%3E%0A%20%20%20%20%3Clink%20rel%3D%22stylesheet%22%20href%3D%22https%3A//maxcdn.bootstrapcdn.com/bootstrap/3.2.0/css/bootstrap.min.css%22/%3E%0A%20%20%20%20%3Clink%20rel%3D%22stylesheet%22%20href%3D%22https%3A//maxcdn.bootstrapcdn.com/bootstrap/3.2.0/css/bootstrap-theme.min.css%22/%3E%0A%20%20%20%20%3Clink%20rel%3D%22stylesheet%22%20href%3D%22https%3A//maxcdn.bootstrapcdn.com/font-awesome/4.6.3/css/font-awesome.min.css%22/%3E%0A%20%20%20%20%3Clink%20rel%3D%22stylesheet%22%20href%3D%22https%3A//cdnjs.cloudflare.com/ajax/libs/Leaflet.awesome-markers/2.0.2/leaflet.awesome-markers.css%22/%3E%0A%20%20%20%20%3Clink%20rel%3D%22stylesheet%22%20href%3D%22https%3A//rawcdn.githack.com/python-visualization/folium/master/folium/templates/leaflet.awesome.rotate.css%22/%3E%0A%20%20%20%20%3Cstyle%3Ehtml%2C%20body%20%7Bwidth%3A%20100%25%3Bheight%3A%20100%25%3Bmargin%3A%200%3Bpadding%3A%200%3B%7D%3C/style%3E%0A%20%20%20%20%3Cstyle%3E%23map%20%7Bposition%3Aabsolute%3Btop%3A0%3Bbottom%3A0%3Bright%3A0%3Bleft%3A0%3B%7D%3C/style%3E%0A%20%20%20%20%0A%20%20%20%20%3Cmeta%20name%3D%22viewport%22%20content%3D%22width%3Ddevice-width%2C%0A%20%20%20%20%20%20%20%20initial-scale%3D1.0%2C%20maximum-scale%3D1.0%2C%20user-scalable%3Dno%22%20/%3E%0A%20%20%20%20%3Cstyle%3E%23map_ac22868012a24b1992b2cd10ecf0937c%20%7B%0A%20%20%20%20%20%20%20%20position%3A%20relative%3B%0A%20%20%20%20%20%20%20%20width%3A%20100.0%25%3B%0A%20%20%20%20%20%20%20%20height%3A%20100.0%25%3B%0A%20%20%20%20%20%20%20%20left%3A%200.0%25%3B%0A%20%20%20%20%20%20%20%20top%3A%200.0%25%3B%0A%20%20%20%20%20%20%20%20%7D%0A%20%20%20%20%3C/style%3E%0A%20%20%20%20%3Cscript%20src%3D%22https%3A//leaflet.github.io/Leaflet.heat/dist/leaflet-heat.js%22%3E%3C/script%3E%0A%3C/head%3E%0A%3Cbody%3E%20%20%20%20%0A%20%20%20%20%0A%20%20%20%20%3Cdiv%20class%3D%22folium-map%22%20id%3D%22map_ac22868012a24b1992b2cd10ecf0937c%22%20%3E%3C/div%3E%0A%3C/body%3E%0A%3Cscript%3E%20%20%20%20%0A%20%20%20%20%0A%20%20%20%20%0A%20%20%20%20%20%20%20%20var%20bounds%20%3D%20null%3B%0A%20%20%20%20%0A%0A%20%20%20%20var%20map_ac22868012a24b1992b2cd10ecf0937c%20%3D%20L.map%28%0A%20%20%20%20%20%20%20%20%27map_ac22868012a24b1992b2cd10ecf0937c%27%2C%20%7B%0A%20%20%20%20%20%20%20%20center%3A%20%5B-23.5028441%2C%20-47.4335729%5D%2C%0A%20%20%20%20%20%20%20%20zoom%3A%2012%2C%0A%20%20%20%20%20%20%20%20maxBounds%3A%20bounds%2C%0A%20%20%20%20%20%20%20%20layers%3A%20%5B%5D%2C%0A%20%20%20%20%20%20%20%20worldCopyJump%3A%20false%2C%0A%20%20%20%20%20%20%20%20crs%3A%20L.CRS.EPSG3857%2C%0A%20%20%20%20%20%20%20%20zoomControl%3A%20true%2C%0A%20%20%20%20%20%20%20%20%7D%29%3B%0A%0A%0A%20%20%20%20%0A%20%20%20%20var%20tile_layer_a6fd37cd136c483fa850f9926a52f119%20%3D%20L.tileLayer%28%0A%20%20%20%20%20%20%20%20%27https%3A//%7Bs%7D.tile.openstreetmap.org/%7Bz%7D/%7Bx%7D/%7By%7D.png%27%2C%0A%20%20%20%20%20%20%20%20%7B%0A%20%20%20%20%20%20%20%20%22attribution%22%3A%20null%2C%0A%20%20%20%20%20%20%20%20%22detectRetina%22%3A%20false%2C%0A%20%20%20%20%20%20%20%20%22maxNativeZoom%22%3A%2018%2C%0A%20%20%20%20%20%20%20%20%22maxZoom%22%3A%2018%2C%0A%20%20%20%20%20%20%20%20%22minZoom%22%3A%200%2C%0A%20%20%20%20%20%20%20%20%22noWrap%22%3A%20false%2C%0A%20%20%20%20%20%20%20%20%22opacity%22%3A%201%2C%0A%20%20%20%20%20%20%20%20%22subdomains%22%3A%20%22abc%22%2C%0A%20%20%20%20%20%20%20%20%22tms%22%3A%20false%0A%7D%29.addTo%28map_ac22868012a24b1992b2cd10ecf0937c%29%3B%0A%20%20%20%20%0A%20%20%20%20%20%20%20%20%20%20%20%20var%20heat_map_a80488747f7748aabc978094da926a0e%20%3D%20L.heatLayer%28%0A%20%20%20%20%20%20%20%20%20%20%20%20%20%20%20%20%5B%5B-23.4453421%2C%20-47.4561804%5D%2C%20%5B-23.4995066%2C%20-47.4304281%5D%2C%20%5B-23.4995066%2C%20-47.4304281%5D%2C%20%5B-23.4948469%2C%20-47.4288321%5D%2C%20%5B-23.4958331%2C%20-47.429457%5D%2C%20%5B-23.4958331%2C%20-47.429457%5D%2C%20%5B-23.4789069%2C%20-47.4458224%5D%2C%20%5B-23.4776374%2C%20-47.416259%5D%2C%20%5B-23.5070958%2C%20-47.4613936%5D%2C%20%5B-23.4958331%2C%20-47.429457%5D%2C%20%5B-23.5157219%2C%20-47.4382419%5D%2C%20%5B-23.4988822%2C%20-47.4390821%5D%2C%20%5B-23.498359%2C%20-47.4267106%5D%2C%20%5B-23.4938766%2C%20-47.4393884%5D%2C%20%5B-23.4946111%2C%20-47.4205505%5D%2C%20%5B-23.4972918%2C%20-47.4296285%5D%2C%20%5B-23.5096651%2C%20-47.4269136%5D%2C%20%5B-23.4923003%2C%20-47.4112293%5D%2C%20%5B-23.5043899%2C%20-47.4472155%5D%2C%20%5B-23.4663209%2C%20-47.4337119%5D%2C%20%5B-23.5061609%2C%20-47.4930295%5D%2C%20%5B-23.4415006%2C%20-47.4233561%5D%2C%20%5B-23.4958331%2C%20-47.429457%5D%2C%20%5B-23.4958331%2C%20-47.429457%5D%2C%20%5B-23.507057%2C%20-47.4459756%5D%2C%20%5B-23.5081402%2C%20-47.4714682%5D%2C%20%5B-23.508342%2C%20-47.4376906%5D%2C%20%5B-23.5039298%2C%20-47.4251333%5D%2C%20%5B-23.4948469%2C%20-47.4288321%5D%2C%20%5B-23.4426629%2C%20-47.4731855%5D%2C%20%5B-23.478948%2C%20-47.435512%5D%2C%20%5B-23.478948%2C%20-47.435512%5D%2C%20%5B-23.4907698%2C%20-47.4301951%5D%2C%20%5B-23.5340941%2C%20-47.4888027%5D%2C%20%5B-23.4967002%2C%20-47.441533%5D%2C%20%5B-23.5096651%2C%20-47.4269136%5D%2C%20%5B-23.502865%2C%20-47.4153548%5D%2C%20%5B-23.4940881%2C%20-47.41838%5D%2C%20%5B-23.4903228%2C%20-47.4113638%5D%2C%20%5B-23.5032063%2C%20-47.4287075%5D%2C%20%5B-23.4958331%2C%20-47.429457%5D%2C%20%5B-23.4764792%2C%20-47.4269642%5D%2C%20%5B-23.4501203%2C%20-47.4596889%5D%2C%20%5B-23.4764792%2C%20-47.4269642%5D%2C%20%5B-23.4501203%2C%20-47.4596889%5D%2C%20%5B-23.4940881%2C%20-47.41838%5D%2C%20%5B-23.4923003%2C%20-47.4112293%5D%2C%20%5B-23.5171338%2C%20-47.4637441%5D%2C%20%5B-23.5171338%2C%20-47.4637441%5D%2C%20%5B-23.4715819%2C%20-47.4443671%5D%2C%20%5B-23.4907698%2C%20-47.4301951%5D%2C%20%5B-23.4791496%2C%20-47.4161101%5D%2C%20%5B-23.5077636%2C%20-47.4906653%5D%2C%20%5B-23.4937893%2C%20-47.4326931%5D%2C%20%5B-23.4578804%2C%20-47.4777923%5D%2C%20%5B-23.471781%2C%20-47.4878853%5D%2C%20%5B-23.5079094%2C%20-47.4292794%5D%2C%20%5B-23.4791496%2C%20-47.4161101%5D%2C%20%5B-23.4728557%2C%20-47.429356%5D%2C%20%5B-23.493797%2C%20-47.4072402%5D%2C%20%5B-23.4958331%2C%20-47.429457%5D%2C%20%5B-23.4928557%2C%20-47.4395241%5D%2C%20%5B-23.4961564%2C%20-47.4253742%5D%2C%20%5B-23.4501203%2C%20-47.4596889%5D%2C%20%5B-23.4728557%2C%20-47.429356%5D%2C%20%5B-23.498359%2C%20-47.4267106%5D%2C%20%5B-23.508342%2C%20-47.4376906%5D%2C%20%5B-23.4995066%2C%20-47.4304281%5D%2C%20%5B-23.5320589%2C%20-47.4976299%5D%2C%20%5B-23.4907698%2C%20-47.4301951%5D%2C%20%5B-23.507057%2C%20-47.4459756%5D%2C%20%5B-23.4988415%2C%20-47.4689608%5D%2C%20%5B-23.4948469%2C%20-47.4288321%5D%2C%20%5B-23.4919492%2C%20-47.4158162%5D%2C%20%5B-23.4826485%2C%20-47.4047095%5D%2C%20%5B-23.4952278%2C%20-47.4280218%5D%2C%20%5B-23.4874912%2C%20-47.4056971%5D%2C%20%5B-23.4989325%2C%20-47.4278245%5D%2C%20%5B-23.5096651%2C%20-47.4269136%5D%2C%20%5B-23.4542907%2C%20-47.4514528%5D%2C%20%5B-23.4936476%2C%20-47.4245303%5D%2C%20%5B-23.483928%2C%20-47.4589993%5D%2C%20%5B-23.4791496%2C%20-47.4161101%5D%2C%20%5B-23.4764792%2C%20-47.4269642%5D%2C%20%5B-23.5047759%2C%20-47.4485801%5D%2C%20%5B-23.483928%2C%20-47.4589993%5D%2C%20%5B-23.4826485%2C%20-47.4047095%5D%2C%20%5B-23.4914915%2C%20-47.4188662%5D%2C%20%5B-23.4940881%2C%20-47.41838%5D%2C%20%5B-23.5083184%2C%20-47.4757051%5D%2C%20%5B-23.4843392%2C%20-47.4141196%5D%2C%20%5B-23.4820675%2C%20-47.4254607%5D%2C%20%5B-23.5186122%2C%20-47.4387757%5D%2C%20%5B-23.5051648%2C%20-47.4220092%5D%2C%20%5B-23.507057%2C%20-47.4459756%5D%2C%20%5B-23.5081402%2C%20-47.4714682%5D%2C%20%5B-23.4907698%2C%20-47.4301951%5D%2C%20%5B-23.4948469%2C%20-47.4288321%5D%2C%20%5B-23.508342%2C%20-47.4376906%5D%2C%20%5B-23.446871%2C%20-47.4481971%5D%2C%20%5B-23.4907698%2C%20-47.4301951%5D%2C%20%5B-23.4936476%2C%20-47.4245303%5D%2C%20%5B-23.4785847%2C%20-47.4334242%5D%2C%20%5B-23.4715819%2C%20-47.4443671%5D%2C%20%5B-23.4948483%2C%20-47.4718414%5D%2C%20%5B-23.4791496%2C%20-47.4161101%5D%2C%20%5B-23.4542907%2C%20-47.4514528%5D%2C%20%5B-23.4812829%2C%20-47.4719006%5D%2C%20%5B-23.4453421%2C%20-47.4561804%5D%2C%20%5B-23.4453421%2C%20-47.4561804%5D%2C%20%5B-23.483928%2C%20-47.4589993%5D%2C%20%5B-23.4834523%2C%20-47.4465456%5D%2C%20%5B-23.4889746%2C%20-47.4037232%5D%2C%20%5B-23.4958331%2C%20-47.429457%5D%2C%20%5B-23.4941582%2C%20-47.4259102%5D%2C%20%5B-23.5001854%2C%20-47.4720816%5D%2C%20%5B-23.4903228%2C%20-47.4113638%5D%2C%20%5B-23.4995066%2C%20-47.4304281%5D%2C%20%5B-23.503978%2C%20-47.4657699%5D%2C%20%5B-23.4958331%2C%20-47.429457%5D%2C%20%5B-23.4995066%2C%20-47.4304281%5D%2C%20%5B-23.4907698%2C%20-47.4301951%5D%2C%20%5B-23.4907698%2C%20-47.4301951%5D%2C%20%5B-23.5164294%2C%20-47.4635967%5D%2C%20%5B-23.53283%2C%20-47.4700613%5D%2C%20%5B-23.483928%2C%20-47.4589993%5D%2C%20%5B-23.4826485%2C%20-47.4047095%5D%2C%20%5B-23.4995066%2C%20-47.4304281%5D%2C%20%5B-23.5096651%2C%20-47.4269136%5D%2C%20%5B-23.463314%2C%20-47.4688286%5D%2C%20%5B-23.4929056%2C%20-47.3980459%5D%2C%20%5B-23.4715819%2C%20-47.4443671%5D%2C%20%5B-23.4995066%2C%20-47.4304281%5D%2C%20%5B-23.5012033%2C%20-47.4570424%5D%2C%20%5B-23.5046247%2C%20-47.4345884%5D%2C%20%5B-23.5411381%2C%20-47.4593058%5D%2C%20%5B-23.5046247%2C%20-47.4345884%5D%2C%20%5B-23.5008747%2C%20-47.4378566%5D%2C%20%5B-23.5170386%2C%20-47.4850509%5D%2C%20%5B-23.4923003%2C%20-47.4112293%5D%2C%20%5B-23.4881678%2C%20-47.4510315%5D%2C%20%5B-23.5083697%2C%20-47.4700337%5D%2C%20%5B-23.5083697%2C%20-47.4700337%5D%2C%20%5B-23.4494136%2C%20-47.4528701%5D%2C%20%5B-23.5083697%2C%20-47.4700337%5D%2C%20%5B-23.4450614%2C%20-47.4172584%5D%2C%20%5B-23.4961564%2C%20-47.4253742%5D%2C%20%5B-23.5039298%2C%20-47.4251333%5D%2C%20%5B-23.507057%2C%20-47.4459756%5D%2C%20%5B-23.4873213%2C%20-47.4419011%5D%2C%20%5B-23.4501203%2C%20-47.4596889%5D%2C%20%5B-23.4415006%2C%20-47.4233561%5D%2C%20%5B-23.4958331%2C%20-47.429457%5D%2C%20%5B-23.5051648%2C%20-47.4220092%5D%2C%20%5B-23.502865%2C%20-47.4153548%5D%2C%20%5B-23.4791496%2C%20-47.4161101%5D%2C%20%5B-23.4958331%2C%20-47.429457%5D%2C%20%5B-23.5072873%2C%20-47.4303505%5D%2C%20%5B-23.4948469%2C%20-47.4288321%5D%2C%20%5B-23.4907698%2C%20-47.4301951%5D%2C%20%5B-23.4764792%2C%20-47.4269642%5D%2C%20%5B-23.5088909%2C%20-47.4317636%5D%2C%20%5B-23.4715819%2C%20-47.4443671%5D%2C%20%5B-23.5325862%2C%20-47.4670877%5D%2C%20%5B-23.4863168%2C%20-47.4571605%5D%2C%20%5B-23.5083184%2C%20-47.4757051%5D%2C%20%5B-23.4874912%2C%20-47.4056971%5D%2C%20%5B-23.5096651%2C%20-47.4269136%5D%2C%20%5B-23.5061465%2C%20-47.4435426%5D%2C%20%5B-23.5088909%2C%20-47.4317636%5D%2C%20%5B-23.4715819%2C%20-47.4443671%5D%2C%20%5B-23.5325862%2C%20-47.4670877%5D%2C%20%5B-23.4863168%2C%20-47.4571605%5D%2C%20%5B-23.5584647%2C%20-47.4806066%5D%2C%20%5B-23.5081402%2C%20-47.4714682%5D%2C%20%5B-23.5083184%2C%20-47.4757051%5D%2C%20%5B-23.4874912%2C%20-47.4056971%5D%2C%20%5B-23.5096651%2C%20-47.4269136%5D%2C%20%5B-23.5061465%2C%20-47.4435426%5D%2C%20%5B-23.493618%2C%20-47.418873%5D%2C%20%5B-23.5458282%2C%20-47.4670805%5D%2C%20%5B-23.5584647%2C%20-47.4806066%5D%2C%20%5B-23.5012033%2C%20-47.4570424%5D%2C%20%5B-23.4789069%2C%20-47.4458224%5D%2C%20%5B-23.463314%2C%20-47.4688286%5D%2C%20%5B-23.4834523%2C%20-47.4465456%5D%2C%20%5B-23.5406983%2C%20-47.4149132%5D%2C%20%5B-23.4728557%2C%20-47.429356%5D%2C%20%5B-23.4907698%2C%20-47.4301951%5D%2C%20%5B-23.5079094%2C%20-47.4292794%5D%2C%20%5B-23.4415006%2C%20-47.4233561%5D%2C%20%5B-23.4958331%2C%20-47.429457%5D%2C%20%5B-23.4843392%2C%20-47.4141196%5D%2C%20%5B-23.5051648%2C%20-47.4220092%5D%2C%20%5B-23.4789069%2C%20-47.4458224%5D%2C%20%5B-23.4907698%2C%20-47.4301951%5D%2C%20%5B-23.483928%2C%20-47.4589993%5D%2C%20%5B-23.4789069%2C%20-47.4458224%5D%2C%20%5B-23.4995066%2C%20-47.4304281%5D%2C%20%5B-23.4501203%2C%20-47.4596889%5D%2C%20%5B-23.5176015%2C%20-47.4715664%5D%2C%20%5B-23.4758087%2C%20-47.446665%5D%2C%20%5B-23.5081402%2C%20-47.4714682%5D%2C%20%5B-23.5008747%2C%20-47.4378566%5D%2C%20%5B-23.4715819%2C%20-47.4443671%5D%2C%20%5B-23.4990271%2C%20-47.4302293%5D%2C%20%5B-23.4764792%2C%20-47.4269642%5D%2C%20%5B-23.4791496%2C%20-47.4161101%5D%2C%20%5B-23.5096651%2C%20-47.4269136%5D%2C%20%5B-23.5012033%2C%20-47.4570424%5D%2C%20%5B-23.4958331%2C%20-47.429457%5D%2C%20%5B-23.4972918%2C%20-47.4296285%5D%2C%20%5B-23.4903228%2C%20-47.4113638%5D%2C%20%5B-23.4938766%2C%20-47.4393884%5D%2C%20%5B-23.5096651%2C%20-47.4269136%5D%2C%20%5B-23.4958331%2C%20-47.429457%5D%2C%20%5B-23.4951542%2C%20-47.4252976%5D%2C%20%5B-23.4872734%2C%20-47.4063118%5D%2C%20%5B-23.529889%2C%20-47.4847231%5D%2C%20%5B-23.5022903%2C%20-47.4738656%5D%2C%20%5B-23.5022903%2C%20-47.4738656%5D%2C%20%5B-23.5081402%2C%20-47.4714682%5D%2C%20%5B-23.5008747%2C%20-47.4378566%5D%2C%20%5B-23.4715819%2C%20-47.4443671%5D%2C%20%5B-23.4990271%2C%20-47.4302293%5D%2C%20%5B-23.4764792%2C%20-47.4269642%5D%2C%20%5B-23.4791496%2C%20-47.4161101%5D%2C%20%5B-23.5012033%2C%20-47.4570424%5D%2C%20%5B-23.4958331%2C%20-47.429457%5D%2C%20%5B-23.4972918%2C%20-47.4296285%5D%2C%20%5B-23.4903228%2C%20-47.4113638%5D%2C%20%5B-23.4938766%2C%20-47.4393884%5D%2C%20%5B-23.4872734%2C%20-47.4063118%5D%2C%20%5B-23.4958331%2C%20-47.429457%5D%2C%20%5B-23.4951542%2C%20-47.4252976%5D%2C%20%5B-23.529889%2C%20-47.4847231%5D%2C%20%5B-23.5022903%2C%20-47.4738656%5D%2C%20%5B-23.5022903%2C%20-47.4738656%5D%2C%20%5B-23.4753031%2C%20-47.4554645%5D%2C%20%5B-23.4922199%2C%20-47.4219287%5D%2C%20%5B-23.4776374%2C%20-47.416259%5D%2C%20%5B-23.4989226%2C%20-47.462124%5D%2C%20%5B-23.4958331%2C%20-47.429457%5D%2C%20%5B-23.5096651%2C%20-47.4269136%5D%2C%20%5B-23.5458282%2C%20-47.4670805%5D%2C%20%5B-23.5083184%2C%20-47.4757051%5D%2C%20%5B-23.5320589%2C%20-47.4976299%5D%2C%20%5B-23.5122055%2C%20-47.4795892%5D%2C%20%5B-23.483928%2C%20-47.4589993%5D%2C%20%5B-23.5083763%2C%20-47.4255274%5D%2C%20%5B-23.5081402%2C%20-47.4714682%5D%2C%20%5B-23.5088909%2C%20-47.4317636%5D%2C%20%5B-23.4995066%2C%20-47.4304281%5D%2C%20%5B-23.5084281%2C%20-47.4579077%5D%2C%20%5B-23.4948469%2C%20-47.4288321%5D%2C%20%5B-23.4923003%2C%20-47.4112293%5D%2C%20%5B-23.4715819%2C%20-47.4443671%5D%2C%20%5B-23.5051648%2C%20-47.4220092%5D%2C%20%5B-23.4958331%2C%20-47.429457%5D%2C%20%5B-23.4542907%2C%20-47.4514528%5D%2C%20%5B-23.5083184%2C%20-47.4757051%5D%2C%20%5B-23.4791496%2C%20-47.4161101%5D%2C%20%5B-23.5039298%2C%20-47.4251333%5D%2C%20%5B-23.5115574%2C%20-47.4911894%5D%2C%20%5B-23.5084281%2C%20-47.4579077%5D%2C%20%5B-23.4958331%2C%20-47.429457%5D%2C%20%5B-23.4995066%2C%20-47.4304281%5D%2C%20%5B-23.5241393%2C%20-47.4550302%5D%2C%20%5B-23.540286%2C%20-47.4445978%5D%2C%20%5B-23.4889746%2C%20-47.4037232%5D%2C%20%5B-23.4791496%2C%20-47.4161101%5D%2C%20%5B-23.5008747%2C%20-47.4378566%5D%2C%20%5B-23.5322472%2C%20-47.4292794%5D%2C%20%5B-23.4995066%2C%20-47.4304281%5D%2C%20%5B-23.4953305%2C%20-47.4338742%5D%2C%20%5B-23.4995066%2C%20-47.4304281%5D%2C%20%5B-23.4791496%2C%20-47.4161101%5D%2C%20%5B-23.4791496%2C%20-47.4161101%5D%2C%20%5B-23.4663209%2C%20-47.4337119%5D%2C%20%5B-23.4958331%2C%20-47.429457%5D%2C%20%5B-23.5165954%2C%20-47.4768547%5D%2C%20%5B-23.483928%2C%20-47.4589993%5D%2C%20%5B-23.4958331%2C%20-47.429457%5D%2C%20%5B-23.4902929%2C%20-47.4108111%5D%2C%20%5B-23.4826485%2C%20-47.4047095%5D%2C%20%5B-23.5083184%2C%20-47.4757051%5D%2C%20%5B-23.4953305%2C%20-47.4338742%5D%2C%20%5B-23.493618%2C%20-47.418873%5D%2C%20%5B-23.5067691%2C%20-47.423982%5D%2C%20%5B-23.5094647%2C%20-47.4240725%5D%2C%20%5B-23.4995066%2C%20-47.4304281%5D%2C%20%5B-23.4715819%2C%20-47.4443671%5D%2C%20%5B-23.4799174%2C%20-47.4340859%5D%2C%20%5B-23.4907698%2C%20-47.4301951%5D%2C%20%5B-23.4995066%2C%20-47.4304281%5D%2C%20%5B-23.4995066%2C%20-47.4304281%5D%2C%20%5B-23.507057%2C%20-47.4459756%5D%2C%20%5B-23.4889746%2C%20-47.4037232%5D%2C%20%5B-23.5096651%2C%20-47.4269136%5D%2C%20%5B-23.5483543%2C%20-47.4752855%5D%2C%20%5B-23.4764792%2C%20-47.4269642%5D%2C%20%5B-23.4958331%2C%20-47.429457%5D%2C%20%5B-23.502865%2C%20-47.4153548%5D%2C%20%5B-23.4948469%2C%20-47.4288321%5D%2C%20%5B-23.5008747%2C%20-47.4378566%5D%2C%20%5B-23.4826485%2C%20-47.4047095%5D%2C%20%5B-23.5039298%2C%20-47.4251333%5D%2C%20%5B-23.4729601%2C%20-47.4394067%5D%2C%20%5B-23.4868505%2C%20-47.4403031%5D%2C%20%5B-23.4715819%2C%20-47.4443671%5D%2C%20%5B-23.5039298%2C%20-47.4251333%5D%2C%20%5B-23.4877398%2C%20-47.5112824%5D%2C%20%5B-23.4789069%2C%20-47.4458224%5D%2C%20%5B-23.483928%2C%20-47.4589993%5D%2C%20%5B-23.5012033%2C%20-47.4570424%5D%2C%20%5B-23.4889746%2C%20-47.4037232%5D%2C%20%5B-23.4958331%2C%20-47.429457%5D%2C%20%5B-23.5087363%2C%20-47.4427354%5D%2C%20%5B-23.5275342%2C%20-47.4666201%5D%2C%20%5B-23.4356395%2C%20-47.4804231%5D%2C%20%5B-23.5008747%2C%20-47.4378566%5D%2C%20%5B-23.4979776%2C%20-47.4274416%5D%2C%20%5B-23.5087363%2C%20-47.4427354%5D%2C%20%5B-23.5012033%2C%20-47.4570424%5D%2C%20%5B-23.5210413%2C%20-47.4630735%5D%2C%20%5B-23.4907698%2C%20-47.4301951%5D%2C%20%5B-23.483928%2C%20-47.4589993%5D%2C%20%5B-23.4958331%2C%20-47.429457%5D%2C%20%5B-23.4542907%2C%20-47.4514528%5D%2C%20%5B-23.5180018%2C%20-47.4530326%5D%2C%20%5B-23.4958331%2C%20-47.429457%5D%2C%20%5B-23.5088909%2C%20-47.4317636%5D%2C%20%5B-23.5126099%2C%20-47.4453385%5D%2C%20%5B-23.5052091%2C%20-47.4409203%5D%2C%20%5B-23.4947356%2C%20-47.4243742%5D%2C%20%5B-23.4826485%2C%20-47.4047095%5D%2C%20%5B-23.5061465%2C%20-47.4435426%5D%2C%20%5B-23.4785847%2C%20-47.4334242%5D%2C%20%5B-23.4948469%2C%20-47.4288321%5D%2C%20%5B-23.4923003%2C%20-47.4112293%5D%2C%20%5B-23.4791496%2C%20-47.4161101%5D%2C%20%5B-23.4791496%2C%20-47.4161101%5D%2C%20%5B-23.4958331%2C%20-47.429457%5D%2C%20%5B-23.4907698%2C%20-47.4301951%5D%2C%20%5B-23.4789888%2C%20-47.4110604%5D%2C%20%5B-23.4415006%2C%20-47.4233561%5D%2C%20%5B-23.5039298%2C%20-47.4251333%5D%2C%20%5B-23.4958331%2C%20-47.429457%5D%2C%20%5B-23.4907698%2C%20-47.4301951%5D%2C%20%5B-23.4948469%2C%20-47.4288321%5D%2C%20%5B-23.4958331%2C%20-47.429457%5D%2C%20%5B-23.540286%2C%20-47.4445978%5D%2C%20%5B-23.5008747%2C%20-47.4378566%5D%2C%20%5B-23.5176015%2C%20-47.4715664%5D%2C%20%5B-23.4958331%2C%20-47.429457%5D%2C%20%5B-23.5270584%2C%20-47.4991802%5D%2C%20%5B-23.5083184%2C%20-47.4757051%5D%2C%20%5B-23.4914915%2C%20-47.4188662%5D%2C%20%5B-23.516532%2C%20-47.4415112%5D%2C%20%5B-23.4907698%2C%20-47.4301951%5D%2C%20%5B-23.540286%2C%20-47.4445978%5D%2C%20%5B-23.4764792%2C%20-47.4269642%5D%2C%20%5B-23.4948469%2C%20-47.4288321%5D%2C%20%5B-23.507057%2C%20-47.4459756%5D%2C%20%5B-23.4213702%2C%20-47.4102155%5D%2C%20%5B-23.4948469%2C%20-47.4288321%5D%2C%20%5B-23.5008747%2C%20-47.4378566%5D%2C%20%5B-23.4789888%2C%20-47.4110604%5D%2C%20%5B-23.5047759%2C%20-47.4485801%5D%2C%20%5B-23.4843392%2C%20-47.4141196%5D%2C%20%5B-23.4663209%2C%20-47.4337119%5D%2C%20%5B-23.4843392%2C%20-47.4141196%5D%2C%20%5B-23.4868505%2C%20-47.4403031%5D%2C%20%5B-23.483928%2C%20-47.4589993%5D%2C%20%5B-23.5039298%2C%20-47.4251333%5D%2C%20%5B-23.4979776%2C%20-47.4274416%5D%2C%20%5B-23.4826485%2C%20-47.4047095%5D%2C%20%5B-23.4958331%2C%20-47.429457%5D%2C%20%5B-23.5458282%2C%20-47.4670805%5D%2C%20%5B-23.4989325%2C%20-47.4278245%5D%2C%20%5B-23.4786295%2C%20-47.433429%5D%2C%20%5B-23.4958331%2C%20-47.429457%5D%2C%20%5B-23.4948469%2C%20-47.4288321%5D%2C%20%5B-23.5072034%2C%20-47.4274577%5D%2C%20%5B-23.4889746%2C%20-47.4037232%5D%2C%20%5B-23.5083184%2C%20-47.4757051%5D%2C%20%5B-23.5083184%2C%20-47.4757051%5D%2C%20%5B-23.5584647%2C%20-47.4806066%5D%2C%20%5B-23.5083184%2C%20-47.4757051%5D%2C%20%5B-23.5083184%2C%20-47.4757051%5D%2C%20%5B-23.4889746%2C%20-47.4037232%5D%2C%20%5B-23.5584647%2C%20-47.4806066%5D%2C%20%5B-23.5320589%2C%20-47.4976299%5D%2C%20%5B-23.5584647%2C%20-47.4806066%5D%2C%20%5B-23.5320589%2C%20-47.4976299%5D%2C%20%5B-23.5059782%2C%20-47.5160199%5D%2C%20%5B-23.4715819%2C%20-47.4443671%5D%2C%20%5B-23.5584647%2C%20-47.4806066%5D%2C%20%5B-23.4948469%2C%20-47.4288321%5D%2C%20%5B-23.483928%2C%20-47.4589993%5D%2C%20%5B-23.5008747%2C%20-47.4378566%5D%2C%20%5B-23.5008747%2C%20-47.4378566%5D%2C%20%5B-23.4663209%2C%20-47.4337119%5D%2C%20%5B-23.4958331%2C%20-47.429457%5D%2C%20%5B-23.4984674%2C%20-47.4262165%5D%2C%20%5B-23.5210413%2C%20-47.4630735%5D%2C%20%5B-23.5584647%2C%20-47.4806066%5D%2C%20%5B-23.5320589%2C%20-47.4976299%5D%2C%20%5B-23.5059782%2C%20-47.5160199%5D%2C%20%5B-23.4715819%2C%20-47.4443671%5D%2C%20%5B-23.5584647%2C%20-47.4806066%5D%2C%20%5B-23.4948469%2C%20-47.4288321%5D%2C%20%5B-23.483928%2C%20-47.4589993%5D%2C%20%5B-23.5008747%2C%20-47.4378566%5D%2C%20%5B-23.5008747%2C%20-47.4378566%5D%2C%20%5B-23.4663209%2C%20-47.4337119%5D%2C%20%5B-23.4958331%2C%20-47.429457%5D%2C%20%5B-23.4984674%2C%20-47.4262165%5D%2C%20%5B-23.5210413%2C%20-47.4630735%5D%2C%20%5B-23.4889746%2C%20-47.4037232%5D%2C%20%5B-23.4896928%2C%20-47.4561067%5D%2C%20%5B-23.4820675%2C%20-47.4254607%5D%2C%20%5B-23.4494136%2C%20-47.4528701%5D%2C%20%5B-23.4958331%2C%20-47.429457%5D%2C%20%5B-23.4907698%2C%20-47.4301951%5D%2C%20%5B-23.498359%2C%20-47.4267106%5D%2C%20%5B-23.4995066%2C%20-47.4304281%5D%2C%20%5B-23.5084281%2C%20-47.4579077%5D%2C%20%5B-23.5061465%2C%20-47.4435426%5D%2C%20%5B-23.5210413%2C%20-47.4630735%5D%2C%20%5B-23.5062012%2C%20-47.439848%5D%2C%20%5B-23.5083184%2C%20-47.4757051%5D%2C%20%5B-23.502865%2C%20-47.4153548%5D%2C%20%5B-23.5039298%2C%20-47.4251333%5D%2C%20%5B-23.5325862%2C%20-47.4670877%5D%2C%20%5B-23.5043899%2C%20-47.4472155%5D%2C%20%5B-23.5399878%2C%20-47.4732164%5D%2C%20%5B-23.4826485%2C%20-47.4047095%5D%2C%20%5B-23.516532%2C%20-47.4415112%5D%2C%20%5B-23.5399878%2C%20-47.4732164%5D%2C%20%5B-23.4844833%2C%20-47.4134307%5D%2C%20%5B-23.4995066%2C%20-47.4304281%5D%2C%20%5B-23.5062012%2C%20-47.439848%5D%2C%20%5B-23.4889746%2C%20-47.4037232%5D%2C%20%5B-23.5083184%2C%20-47.4757051%5D%2C%20%5B-23.5098151%2C%20-47.4295857%5D%2C%20%5B-23.5394773%2C%20-47.4527309%5D%2C%20%5B-23.5325862%2C%20-47.4670877%5D%2C%20%5B-23.5043899%2C%20-47.4472155%5D%2C%20%5B-23.4919492%2C%20-47.4158162%5D%2C%20%5B-23.4995066%2C%20-47.4304281%5D%2C%20%5B-23.4832369%2C%20-47.4679953%5D%2C%20%5B-23.5399878%2C%20-47.4732164%5D%2C%20%5B-23.4826485%2C%20-47.4047095%5D%2C%20%5B-23.516532%2C%20-47.4415112%5D%2C%20%5B-23.4844833%2C%20-47.4134307%5D%2C%20%5B-23.4995066%2C%20-47.4304281%5D%2C%20%5B-23.4889746%2C%20-47.4037232%5D%2C%20%5B-23.5098151%2C%20-47.4295857%5D%2C%20%5B-23.5394773%2C%20-47.4527309%5D%2C%20%5B-23.4919492%2C%20-47.4158162%5D%2C%20%5B-23.4995066%2C%20-47.4304281%5D%2C%20%5B-23.4832369%2C%20-47.4679953%5D%2C%20%5B-23.4889746%2C%20-47.4037232%5D%2C%20%5B-23.4951542%2C%20-47.4252976%5D%2C%20%5B-23.5399878%2C%20-47.4732164%5D%2C%20%5B-23.4501203%2C%20-47.4596889%5D%2C%20%5B-23.4921941%2C%20-47.4291285%5D%2C%20%5B-23.4791496%2C%20-47.4161101%5D%2C%20%5B-23.5027836%2C%20-47.4255281%5D%2C%20%5B-23.5010027%2C%20-47.440602%5D%2C%20%5B-23.5170386%2C%20-47.4850509%5D%2C%20%5B-23.483928%2C%20-47.4589993%5D%2C%20%5B-23.4840602%2C%20-47.4343471%5D%2C%20%5B-23.518635%2C%20-47.486743%5D%2C%20%5B-23.4676305%2C%20-47.4390821%5D%2C%20%5B-23.507057%2C%20-47.4459756%5D%2C%20%5B-23.4948483%2C%20-47.4718414%5D%2C%20%5B-23.5210413%2C%20-47.4630735%5D%2C%20%5B-23.4928557%2C%20-47.4395241%5D%2C%20%5B-23.4922199%2C%20-47.4219287%5D%2C%20%5B-23.502865%2C%20-47.4153548%5D%2C%20%5B-23.4922199%2C%20-47.4219287%5D%2C%20%5B-23.4907698%2C%20-47.4301951%5D%2C%20%5B-23.493618%2C%20-47.418873%5D%2C%20%5B-23.5294481%2C%20-47.4410827%5D%2C%20%5B-23.4832369%2C%20-47.4679953%5D%2C%20%5B-23.5081402%2C%20-47.4714682%5D%2C%20%5B-23.4791496%2C%20-47.4161101%5D%2C%20%5B-23.4501203%2C%20-47.4596889%5D%2C%20%5B-23.4844833%2C%20-47.4134307%5D%2C%20%5B-23.5076996%2C%20-47.4393884%5D%2C%20%5B-23.4889746%2C%20-47.4037232%5D%2C%20%5B-23.5096651%2C%20-47.4269136%5D%2C%20%5B-23.5022903%2C%20-47.4738656%5D%2C%20%5B-23.5061523%2C%20-47.4234805%5D%2C%20%5B-23.5043899%2C%20-47.4472155%5D%2C%20%5B-23.540286%2C%20-47.4445978%5D%2C%20%5B-23.4826485%2C%20-47.4047095%5D%2C%20%5B-23.4896387%2C%20-47.4473545%5D%2C%20%5B-23.4707696%2C%20-47.4384716%5D%2C%20%5B-23.4947356%2C%20-47.4243742%5D%2C%20%5B-23.4605099891%2C%20-47.4127569%5D%2C%20%5B-23.4676305%2C%20-47.4390821%5D%2C%20%5B-23.5165954%2C%20-47.4768547%5D%2C%20%5B-23.4947389%2C%20-47.432789%5D%2C%20%5B-23.4779292%2C%20-47.3982922%5D%2C%20%5B-23.4919492%2C%20-47.4158162%5D%2C%20%5B-23.4903228%2C%20-47.4113638%5D%2C%20%5B-23.4826485%2C%20-47.4047095%5D%2C%20%5B-23.53418%2C%20-47.4726643%5D%2C%20%5B-23.4907698%2C%20-47.4301951%5D%2C%20%5B-23.4989325%2C%20-47.4278245%5D%2C%20%5B-23.5090209%2C%20-47.4626058%5D%2C%20%5B-23.4958914%2C%20-47.5038072%5D%2C%20%5B-23.5320589%2C%20-47.4976299%5D%2C%20%5B-23.483928%2C%20-47.4589993%5D%2C%20%5B-23.483928%2C%20-47.4589993%5D%2C%20%5B-23.483928%2C%20-47.4589993%5D%2C%20%5B-23.5088909%2C%20-47.4317636%5D%2C%20%5B-23.4840602%2C%20-47.4343471%5D%2C%20%5B-23.5083184%2C%20-47.4757051%5D%2C%20%5B-23.4853403%2C%20-47.4144102%5D%2C%20%5B-23.4907698%2C%20-47.4301951%5D%2C%20%5B-23.5047759%2C%20-47.4485801%5D%2C%20%5B-23.4542907%2C%20-47.4514528%5D%2C%20%5B-23.5094647%2C%20-47.4240725%5D%2C%20%5B-23.4859768%2C%20-47.4409203%5D%2C%20%5B-23.4958331%2C%20-47.429457%5D%2C%20%5B-23.4580384%2C%20-47.4759386%5D%2C%20%5B-23.4958331%2C%20-47.429457%5D%2C%20%5B-23.4889746%2C%20-47.4037232%5D%2C%20%5B-23.5039298%2C%20-47.4251333%5D%2C%20%5B-23.4834523%2C%20-47.4465456%5D%2C%20%5B-23.4874912%2C%20-47.4056971%5D%2C%20%5B-23.4995066%2C%20-47.4304281%5D%2C%20%5B-23.4907698%2C%20-47.4301951%5D%2C%20%5B-23.5083184%2C%20-47.4757051%5D%2C%20%5B-23.4961564%2C%20-47.4253742%5D%2C%20%5B-23.4958331%2C%20-47.429457%5D%2C%20%5B-23.4979776%2C%20-47.4274416%5D%2C%20%5B-23.4955386%2C%20-47.4100543%5D%2C%20%5B-23.4889746%2C%20-47.4037232%5D%2C%20%5B-23.5096651%2C%20-47.4269136%5D%2C%20%5B-23.5039298%2C%20-47.4251333%5D%2C%20%5B-23.5088191%2C%20-47.4301983%5D%2C%20%5B-23.5320589%2C%20-47.4976299%5D%2C%20%5B-23.4903228%2C%20-47.4113638%5D%2C%20%5B-23.4356395%2C%20-47.4804231%5D%2C%20%5B-23.4958331%2C%20-47.429457%5D%2C%20%5B-23.4958331%2C%20-47.429457%5D%2C%20%5B-23.4543741%2C%20-47.5023699%5D%2C%20%5B-23.4460627%2C%20-47.4596889%5D%2C%20%5B-23.4822089%2C%20-47.4086207%5D%2C%20%5B-23.4415006%2C%20-47.4233561%5D%2C%20%5B-23.5088191%2C%20-47.4301983%5D%2C%20%5B-23.4826485%2C%20-47.4047095%5D%2C%20%5B-23.4213702%2C%20-47.4102155%5D%2C%20%5B-23.507057%2C%20-47.4459756%5D%2C%20%5B-23.5087363%2C%20-47.4427354%5D%2C%20%5B-23.4791496%2C%20-47.4161101%5D%2C%20%5B-23.4950013%2C%20-47.505656%5D%2C%20%5B-23.4950013%2C%20-47.505656%5D%2C%20%5B-23.5320589%2C%20-47.4976299%5D%2C%20%5B-23.4948469%2C%20-47.4288321%5D%2C%20%5B-23.4543741%2C%20-47.5023699%5D%2C%20%5B-23.4415006%2C%20-47.4233561%5D%2C%20%5B-23.5088191%2C%20-47.4301983%5D%2C%20%5B-23.4889746%2C%20-47.4037232%5D%2C%20%5B-23.5763949%2C%20-47.4682391%5D%2C%20%5B-23.4789069%2C%20-47.4458224%5D%2C%20%5B-23.4889746%2C%20-47.4037232%5D%2C%20%5B-23.5043899%2C%20-47.4472155%5D%2C%20%5B-23.4542907%2C%20-47.4514528%5D%2C%20%5B-23.5039298%2C%20-47.4251333%5D%2C%20%5B-23.4923003%2C%20-47.4112293%5D%2C%20%5B-23.5043899%2C%20-47.4472155%5D%2C%20%5B-23.4542907%2C%20-47.4514528%5D%2C%20%5B-23.5039298%2C%20-47.4251333%5D%2C%20%5B-23.4923003%2C%20-47.4112293%5D%2C%20%5B-23.5039298%2C%20-47.4251333%5D%2C%20%5B-23.4990271%2C%20-47.4302293%5D%2C%20%5B-23.4990271%2C%20-47.4302293%5D%2C%20%5B-23.4923003%2C%20-47.4112293%5D%2C%20%5B-23.4919492%2C%20-47.4158162%5D%2C%20%5B-23.4958331%2C%20-47.429457%5D%2C%20%5B-23.483928%2C%20-47.4589993%5D%2C%20%5B-23.5458282%2C%20-47.4670805%5D%2C%20%5B-23.4853403%2C%20-47.4144102%5D%2C%20%5B-23.5084945%2C%20-47.4964031%5D%2C%20%5B-23.5008747%2C%20-47.4378566%5D%2C%20%5B-23.5039298%2C%20-47.4251333%5D%2C%20%5B-23.5117506%2C%20-47.4272724%5D%2C%20%5B-23.4948469%2C%20-47.4288321%5D%2C%20%5B-23.5012033%2C%20-47.4570424%5D%2C%20%5B-23.5083763%2C%20-47.4255274%5D%2C%20%5B-23.4958331%2C%20-47.429457%5D%2C%20%5B-23.4907698%2C%20-47.4301951%5D%2C%20%5B-23.5117742%2C%20-47.4929595%5D%2C%20%5B-23.4751817%2C%20-47.4451502%5D%2C%20%5B-23.5320589%2C%20-47.4976299%5D%2C%20%5B-23.5210413%2C%20-47.4630735%5D%2C%20%5B-23.4907698%2C%20-47.4301951%5D%2C%20%5B-23.4776374%2C%20-47.416259%5D%2C%20%5B-23.5139138%2C%20-47.4623707%5D%2C%20%5B-23.5117742%2C%20-47.4929595%5D%2C%20%5B-23.5117742%2C%20-47.4929595%5D%2C%20%5B-23.4917731%2C%20-47.4393884%5D%2C%20%5B-23.4543741%2C%20-47.5023699%5D%2C%20%5B-23.4543741%2C%20-47.5023699%5D%2C%20%5B-23.508342%2C%20-47.4376906%5D%2C%20%5B-23.4676305%2C%20-47.4390821%5D%2C%20%5B-23.5008747%2C%20-47.4378566%5D%2C%20%5B-23.5325862%2C%20-47.4670877%5D%2C%20%5B-23.4860465%2C%20-47.4756525%5D%2C%20%5B-23.4764792%2C%20-47.4269642%5D%2C%20%5B-23.4961564%2C%20-47.4253742%5D%2C%20%5B-23.4958331%2C%20-47.429457%5D%2C%20%5B-23.4881747%2C%20-47.4574498%5D%2C%20%5B-23.4881747%2C%20-47.4574498%5D%2C%20%5B-23.4922199%2C%20-47.4219287%5D%2C%20%5B-23.5248825%2C%20-47.4464493%5D%2C%20%5B-23.4923003%2C%20-47.4112293%5D%2C%20%5B-23.4663209%2C%20-47.4337119%5D%2C%20%5B-23.4958331%2C%20-47.429457%5D%2C%20%5B-23.5134556%2C%20-47.4614657%5D%2C%20%5B-23.5248825%2C%20-47.4464493%5D%2C%20%5B-23.4907698%2C%20-47.4301951%5D%2C%20%5B-23.483928%2C%20-47.4589993%5D%2C%20%5B-23.5096651%2C%20-47.4269136%5D%2C%20%5B-23.483928%2C%20-47.4589993%5D%2C%20%5B-23.4904925%2C%20-47.4651292%5D%2C%20%5B-23.5085484%2C%20-47.4302248%5D%2C%20%5B-23.5009594%2C%20-47.4417348%5D%2C%20%5B-23.5008747%2C%20-47.4378566%5D%2C%20%5B-23.5094647%2C%20-47.4240725%5D%2C%20%5B-23.5096651%2C%20-47.4269136%5D%2C%20%5B-23.5008747%2C%20-47.4378566%5D%2C%20%5B-23.4907698%2C%20-47.4301951%5D%2C%20%5B-23.4958331%2C%20-47.429457%5D%2C%20%5B-23.5074155%2C%20-47.4412266%5D%2C%20%5B-23.483928%2C%20-47.4589993%5D%2C%20%5B-23.507057%2C%20-47.4459756%5D%2C%20%5B-23.4995066%2C%20-47.4304281%5D%2C%20%5B-23.4676305%2C%20-47.4390821%5D%2C%20%5B-23.4922199%2C%20-47.4219287%5D%2C%20%5B-23.5008747%2C%20-47.4378566%5D%2C%20%5B-23.4889746%2C%20-47.4037232%5D%2C%20%5B-23.4954875%2C%20-47.4103527%5D%2C%20%5B-23.4826485%2C%20-47.4047095%5D%2C%20%5B-23.4477816%2C%20-47.4517689%5D%2C%20%5B-23.4715819%2C%20-47.4443671%5D%2C%20%5B-23.5088191%2C%20-47.4301983%5D%2C%20%5B-23.4543741%2C%20-47.5023699%5D%2C%20%5B-23.4989325%2C%20-47.4278245%5D%2C%20%5B-23.4948469%2C%20-47.4288321%5D%2C%20%5B-23.4764792%2C%20-47.4269642%5D%2C%20%5B-23.5039298%2C%20-47.4251333%5D%2C%20%5B-23.4919492%2C%20-47.4158162%5D%2C%20%5B-23.5030177%2C%20-47.4478705%5D%2C%20%5B-23.4954875%2C%20-47.4103527%5D%2C%20%5B-23.483928%2C%20-47.4589993%5D%2C%20%5B-23.4995066%2C%20-47.4304281%5D%2C%20%5B-23.5199521%2C%20-47.4809128%5D%2C%20%5B-23.5325862%2C%20-47.4670877%5D%2C%20%5B-23.4889746%2C%20-47.4037232%5D%2C%20%5B-23.4460627%2C%20-47.4596889%5D%2C%20%5B-23.4889746%2C%20-47.4037232%5D%2C%20%5B-23.5205801%2C%20-47.448352%5D%2C%20%5B-23.507057%2C%20-47.4459756%5D%2C%20%5B-23.5088191%2C%20-47.4301983%5D%2C%20%5B-23.4543741%2C%20-47.5023699%5D%2C%20%5B-23.5008747%2C%20-47.4378566%5D%2C%20%5B-23.4676305%2C%20-47.4390821%5D%2C%20%5B-23.4922199%2C%20-47.4219287%5D%2C%20%5B-23.4995066%2C%20-47.4304281%5D%2C%20%5B-23.4477816%2C%20-47.4517689%5D%2C%20%5B-23.4715819%2C%20-47.4443671%5D%2C%20%5B-23.4989325%2C%20-47.4278245%5D%2C%20%5B-23.4948469%2C%20-47.4288321%5D%2C%20%5B-23.4889746%2C%20-47.4037232%5D%2C%20%5B-23.4954875%2C%20-47.4103527%5D%2C%20%5B-23.4826485%2C%20-47.4047095%5D%2C%20%5B-23.4764792%2C%20-47.4269642%5D%2C%20%5B-23.5039298%2C%20-47.4251333%5D%2C%20%5B-23.5030177%2C%20-47.4478705%5D%2C%20%5B-23.4954875%2C%20-47.4103527%5D%2C%20%5B-23.4919492%2C%20-47.4158162%5D%2C%20%5B-23.483928%2C%20-47.4589993%5D%2C%20%5B-23.4995066%2C%20-47.4304281%5D%2C%20%5B-23.5199521%2C%20-47.4809128%5D%2C%20%5B-23.5325862%2C%20-47.4670877%5D%2C%20%5B-23.4889746%2C%20-47.4037232%5D%2C%20%5B-23.4460627%2C%20-47.4596889%5D%2C%20%5B-23.4889746%2C%20-47.4037232%5D%2C%20%5B-23.5205801%2C%20-47.448352%5D%2C%20%5B-23.507057%2C%20-47.4459756%5D%2C%20%5B-23.4889746%2C%20-47.4037232%5D%2C%20%5B-23.4460627%2C%20-47.4596889%5D%2C%20%5B-23.4889746%2C%20-47.4037232%5D%2C%20%5B-23.5205801%2C%20-47.448352%5D%2C%20%5B-23.507057%2C%20-47.4459756%5D%2C%20%5B-23.5008747%2C%20-47.4378566%5D%2C%20%5B-23.4995066%2C%20-47.4304281%5D%2C%20%5B-23.4676305%2C%20-47.4390821%5D%2C%20%5B-23.4922199%2C%20-47.4219287%5D%2C%20%5B-23.4889746%2C%20-47.4037232%5D%2C%20%5B-23.4954875%2C%20-47.4103527%5D%2C%20%5B-23.4826485%2C%20-47.4047095%5D%2C%20%5B-23.4477816%2C%20-47.4517689%5D%2C%20%5B-23.4715819%2C%20-47.4443671%5D%2C%20%5B-23.5088191%2C%20-47.4301983%5D%2C%20%5B-23.4543741%2C%20-47.5023699%5D%2C%20%5B-23.4989325%2C%20-47.4278245%5D%2C%20%5B-23.4948469%2C%20-47.4288321%5D%2C%20%5B-23.5039298%2C%20-47.4251333%5D%2C%20%5B-23.4764792%2C%20-47.4269642%5D%2C%20%5B-23.5030177%2C%20-47.4478705%5D%2C%20%5B-23.4954875%2C%20-47.4103527%5D%2C%20%5B-23.483928%2C%20-47.4589993%5D%2C%20%5B-23.4995066%2C%20-47.4304281%5D%2C%20%5B-23.5199521%2C%20-47.4809128%5D%2C%20%5B-23.5325862%2C%20-47.4670877%5D%2C%20%5B-23.4889746%2C%20-47.4037232%5D%2C%20%5B-23.4919492%2C%20-47.4158162%5D%2C%20%5B-23.4460627%2C%20-47.4596889%5D%2C%20%5B-23.4889746%2C%20-47.4037232%5D%2C%20%5B-23.5205801%2C%20-47.448352%5D%2C%20%5B-23.507057%2C%20-47.4459756%5D%2C%20%5B-23.507057%2C%20-47.4459756%5D%2C%20%5B-23.507057%2C%20-47.4459756%5D%2C%20%5B-23.4764792%2C%20-47.4269642%5D%2C%20%5B-23.5030177%2C%20-47.4478705%5D%2C%20%5B-23.4954875%2C%20-47.4103527%5D%2C%20%5B-23.483928%2C%20-47.4589993%5D%2C%20%5B-23.4995066%2C%20-47.4304281%5D%2C%20%5B-23.5199521%2C%20-47.4809128%5D%2C%20%5B-23.5325862%2C%20-47.4670877%5D%2C%20%5B-23.4889746%2C%20-47.4037232%5D%2C%20%5B-23.4919492%2C%20-47.4158162%5D%2C%20%5B-23.4460627%2C%20-47.4596889%5D%2C%20%5B-23.4889746%2C%20-47.4037232%5D%2C%20%5B-23.5205801%2C%20-47.448352%5D%2C%20%5B-23.507057%2C%20-47.4459756%5D%2C%20%5B-23.507057%2C%20-47.4459756%5D%2C%20%5B-23.507057%2C%20-47.4459756%5D%2C%20%5B-23.5030177%2C%20-47.4478705%5D%2C%20%5B-23.4954875%2C%20-47.4103527%5D%2C%20%5B-23.483928%2C%20-47.4589993%5D%2C%20%5B-23.4995066%2C%20-47.4304281%5D%2C%20%5B-23.5199521%2C%20-47.4809128%5D%2C%20%5B-23.5325862%2C%20-47.4670877%5D%2C%20%5B-23.4889746%2C%20-47.4037232%5D%2C%20%5B-23.4460627%2C%20-47.4596889%5D%2C%20%5B-23.4889746%2C%20-47.4037232%5D%2C%20%5B-23.5205801%2C%20-47.448352%5D%2C%20%5B-23.507057%2C%20-47.4459756%5D%2C%20%5B-23.4919492%2C%20-47.4158162%5D%2C%20%5B-23.507057%2C%20-47.4459756%5D%2C%20%5B-23.507057%2C%20-47.4459756%5D%2C%20%5B-23.507057%2C%20-47.4459756%5D%2C%20%5B-23.4919492%2C%20-47.4158162%5D%2C%20%5B-23.5030177%2C%20-47.4478705%5D%2C%20%5B-23.4954875%2C%20-47.4103527%5D%2C%20%5B-23.4764792%2C%20-47.4269642%5D%2C%20%5B-23.483928%2C%20-47.4589993%5D%2C%20%5B-23.4995066%2C%20-47.4304281%5D%2C%20%5B-23.5199521%2C%20-47.4809128%5D%2C%20%5B-23.5325862%2C%20-47.4670877%5D%2C%20%5B-23.4889746%2C%20-47.4037232%5D%2C%20%5B-23.4460627%2C%20-47.4596889%5D%2C%20%5B-23.4889746%2C%20-47.4037232%5D%2C%20%5B-23.5205801%2C%20-47.448352%5D%2C%20%5B-23.507057%2C%20-47.4459756%5D%2C%20%5B-23.4460627%2C%20-47.4596889%5D%2C%20%5B-23.4889746%2C%20-47.4037232%5D%2C%20%5B-23.5205801%2C%20-47.448352%5D%2C%20%5B-23.507057%2C%20-47.4459756%5D%2C%20%5B-23.507057%2C%20-47.4459756%5D%2C%20%5B-23.5030177%2C%20-47.4478705%5D%2C%20%5B-23.4954875%2C%20-47.4103527%5D%2C%20%5B-23.483928%2C%20-47.4589993%5D%2C%20%5B-23.4995066%2C%20-47.4304281%5D%2C%20%5B-23.5199521%2C%20-47.4809128%5D%2C%20%5B-23.5325862%2C%20-47.4670877%5D%2C%20%5B-23.4889746%2C%20-47.4037232%5D%2C%20%5B-23.4460627%2C%20-47.4596889%5D%2C%20%5B-23.4889746%2C%20-47.4037232%5D%2C%20%5B-23.5205801%2C%20-47.448352%5D%2C%20%5B-23.507057%2C%20-47.4459756%5D%2C%20%5B-23.4919492%2C%20-47.4158162%5D%2C%20%5B-23.507057%2C%20-47.4459756%5D%2C%20%5B-23.507057%2C%20-47.4459756%5D%2C%20%5B-23.507057%2C%20-47.4459756%5D%2C%20%5B-23.507057%2C%20-47.4459756%5D%2C%20%5B-23.507057%2C%20-47.4459756%5D%2C%20%5B-23.507057%2C%20-47.4459756%5D%2C%20%5B-23.507057%2C%20-47.4459756%5D%2C%20%5B-23.507057%2C%20-47.4459756%5D%2C%20%5B-23.507057%2C%20-47.4459756%5D%2C%20%5B-23.507057%2C%20-47.4459756%5D%2C%20%5B-23.5190156%2C%20-47.4390821%5D%2C%20%5B-23.4890673%2C%20-47.4743255%5D%2C%20%5B-23.4791496%2C%20-47.4161101%5D%2C%20%5B-23.4791496%2C%20-47.4161101%5D%2C%20%5B-23.4919492%2C%20-47.4158162%5D%2C%20%5B-23.5190156%2C%20-47.4390821%5D%2C%20%5B-23.526682%2C%20-47.4633953%5D%2C%20%5B-23.4741501%2C%20-47.4337245%5D%2C%20%5B-23.5122055%2C%20-47.4795892%5D%2C%20%5B-23.4741501%2C%20-47.4337245%5D%2C%20%5B-23.5051648%2C%20-47.4220092%5D%2C%20%5B-23.4501203%2C%20-47.4596889%5D%2C%20%5B-23.4995066%2C%20-47.4304281%5D%2C%20%5B-23.5401881%2C%20-47.4540193%5D%2C%20%5B-23.4995066%2C%20-47.4304281%5D%2C%20%5B-23.4501203%2C%20-47.4596889%5D%2C%20%5B-23.4995066%2C%20-47.4304281%5D%2C%20%5B-23.5401881%2C%20-47.4540193%5D%2C%20%5B-23.5051648%2C%20-47.4220092%5D%2C%20%5B-23.5698961%2C%20-47.4953986%5D%2C%20%5B-23.4995066%2C%20-47.4304281%5D%2C%20%5B-23.5329127%2C%20-47.4689929%5D%2C%20%5B-23.5340941%2C%20-47.4888027%5D%2C%20%5B-23.540286%2C%20-47.4445978%5D%2C%20%5B-23.5340941%2C%20-47.4888027%5D%2C%20%5B-23.5051648%2C%20-47.4220092%5D%2C%20%5B-23.5698961%2C%20-47.4953986%5D%2C%20%5B-23.4995066%2C%20-47.4304281%5D%2C%20%5B-23.5329127%2C%20-47.4689929%5D%2C%20%5B-23.4859768%2C%20-47.4409203%5D%2C%20%5B-23.5232281%2C%20-47.4964031%5D%2C%20%5B-23.4919492%2C%20-47.4158162%5D%2C%20%5B-23.5038279%2C%20-47.4547088%5D%2C%20%5B-23.4489537%2C%20-47.4703402%5D%2C%20%5B-23.5414946%2C%20-47.4869567%5D%2C%20%5B-23.4995066%2C%20-47.4304281%5D%2C%20%5B-23.493618%2C%20-47.418873%5D%2C%20%5B-23.4931323%2C%20-47.505298%5D%2C%20%5B-23.4729601%2C%20-47.4394067%5D%2C%20%5B-23.4776374%2C%20-47.416259%5D%2C%20%5B-23.4919492%2C%20-47.4158162%5D%2C%20%5B-23.4501203%2C%20-47.4596889%5D%2C%20%5B-23.4919492%2C%20-47.4158162%5D%2C%20%5B-23.5363861%2C%20-47.4545556%5D%2C%20%5B-23.4958331%2C%20-47.429457%5D%2C%20%5B-23.5039298%2C%20-47.4251333%5D%2C%20%5B-23.4494136%2C%20-47.4528701%5D%2C%20%5B-23.4958331%2C%20-47.429457%5D%2C%20%5B-23.5039298%2C%20-47.4251333%5D%2C%20%5B-23.4501203%2C%20-47.4596889%5D%2C%20%5B-23.4995066%2C%20-47.4304281%5D%2C%20%5B-23.5401881%2C%20-47.4540193%5D%2C%20%5B-23.5051648%2C%20-47.4220092%5D%2C%20%5B-23.5698961%2C%20-47.4953986%5D%2C%20%5B-23.4995066%2C%20-47.4304281%5D%2C%20%5B-23.5329127%2C%20-47.4689929%5D%2C%20%5B-23.5340941%2C%20-47.4888027%5D%2C%20%5B-23.540286%2C%20-47.4445978%5D%2C%20%5B-23.5340941%2C%20-47.4888027%5D%2C%20%5B-23.4542907%2C%20-47.4514528%5D%2C%20%5B-23.4542907%2C%20-47.4514528%5D%2C%20%5B-23.5458282%2C%20-47.4670805%5D%2C%20%5B-23.4789444%2C%20-47.4620642%5D%2C%20%5B-23.4789444%2C%20-47.4620642%5D%2C%20%5B-23.4789444%2C%20-47.4620642%5D%2C%20%5B-23.526682%2C%20-47.4633953%5D%2C%20%5B-23.5038279%2C%20-47.4547088%5D%2C%20%5B-23.4919492%2C%20-47.4158162%5D%2C%20%5B-23.5190156%2C%20-47.4390821%5D%2C%20%5B-23.4890673%2C%20-47.4743255%5D%2C%20%5B-23.4791496%2C%20-47.4161101%5D%2C%20%5B-23.4791496%2C%20-47.4161101%5D%2C%20%5B-23.4919492%2C%20-47.4158162%5D%2C%20%5B-23.5190156%2C%20-47.4390821%5D%2C%20%5B-23.526682%2C%20-47.4633953%5D%2C%20%5B-23.4741501%2C%20-47.4337245%5D%2C%20%5B-23.5122055%2C%20-47.4795892%5D%2C%20%5B-23.4741501%2C%20-47.4337245%5D%2C%20%5B-23.5122055%2C%20-47.4795892%5D%2C%20%5B-23.483928%2C%20-47.4589993%5D%2C%20%5B-23.4953305%2C%20-47.4338742%5D%2C%20%5B-23.5342804%2C%20-47.4665264%5D%2C%20%5B-23.4881678%2C%20-47.4510315%5D%2C%20%5B-23.4931323%2C%20-47.505298%5D%2C%20%5B-23.4931323%2C%20-47.505298%5D%2C%20%5B-23.4729601%2C%20-47.4394067%5D%2C%20%5B-23.4931323%2C%20-47.505298%5D%2C%20%5B-23.493618%2C%20-47.418873%5D%2C%20%5B-23.4931323%2C%20-47.505298%5D%2C%20%5B-23.4729601%2C%20-47.4394067%5D%2C%20%5B-23.4776374%2C%20-47.416259%5D%2C%20%5B-23.4919492%2C%20-47.4158162%5D%2C%20%5B-23.4501203%2C%20-47.4596889%5D%2C%20%5B-23.4919492%2C%20-47.4158162%5D%2C%20%5B-23.5363861%2C%20-47.4545556%5D%2C%20%5B-23.4958331%2C%20-47.429457%5D%2C%20%5B-23.5039298%2C%20-47.4251333%5D%2C%20%5B-23.4494136%2C%20-47.4528701%5D%2C%20%5B-23.4958331%2C%20-47.429457%5D%2C%20%5B-23.5039298%2C%20-47.4251333%5D%2C%20%5B-23.4494136%2C%20-47.4528701%5D%2C%20%5B-23.4494136%2C%20-47.4528701%5D%2C%20%5B-23.540286%2C%20-47.4445978%5D%2C%20%5B-23.540286%2C%20-47.4445978%5D%2C%20%5B-23.4903228%2C%20-47.4113638%5D%2C%20%5B-23.4923003%2C%20-47.4112293%5D%2C%20%5B-23.4958331%2C%20-47.429457%5D%2C%20%5B-23.4903228%2C%20-47.4113638%5D%2C%20%5B-23.4958331%2C%20-47.429457%5D%2C%20%5B-23.4889746%2C%20-47.4037232%5D%2C%20%5B-23.4989325%2C%20-47.4278245%5D%2C%20%5B-23.5320589%2C%20-47.4976299%5D%2C%20%5B-23.4958331%2C%20-47.429457%5D%2C%20%5B-23.5062946%2C%20-47.4970165%5D%2C%20%5B-23.5062946%2C%20-47.4970165%5D%2C%20%5B-23.5205801%2C%20-47.448352%5D%2C%20%5B-23.4837704%2C%20-47.4522572%5D%2C%20%5B-23.4826485%2C%20-47.4047095%5D%2C%20%5B-23.4938766%2C%20-47.4393884%5D%2C%20%5B-23.5342804%2C%20-47.4665264%5D%2C%20%5B-23.4837704%2C%20-47.4522572%5D%2C%20%5B-23.5698961%2C%20-47.4953986%5D%2C%20%5B-23.5698961%2C%20-47.4953986%5D%2C%20%5B-23.4995066%2C%20-47.4304281%5D%2C%20%5B-23.5698961%2C%20-47.4953986%5D%2C%20%5B-23.5414946%2C%20-47.4869567%5D%2C%20%5B-23.478948%2C%20-47.435512%5D%2C%20%5B-23.4995066%2C%20-47.4304281%5D%2C%20%5B-23.498359%2C%20-47.4267106%5D%2C%20%5B-23.4872734%2C%20-47.4063118%5D%2C%20%5B-23.4872734%2C%20-47.4063118%5D%2C%20%5B-23.4995066%2C%20-47.4304281%5D%2C%20%5B-23.5096651%2C%20-47.4269136%5D%2C%20%5B-23.5004475%2C%20-47.4733956%5D%2C%20%5B-23.4625834%2C%20-47.4706468%5D%2C%20%5B-23.4877398%2C%20-47.5112824%5D%2C%20%5B-23.5072385%2C%20-47.478311%5D%2C%20%5B-23.5205801%2C%20-47.448352%5D%2C%20%5B-23.483928%2C%20-47.4589993%5D%2C%20%5B-23.537058%2C%20-47.4711249%5D%2C%20%5B-23.4958331%2C%20-47.429457%5D%2C%20%5B-23.5039298%2C%20-47.4251333%5D%2C%20%5B-23.4494136%2C%20-47.4528701%5D%2C%20%5B-23.4494136%2C%20-47.4528701%5D%2C%20%5B-23.5072385%2C%20-47.478311%5D%2C%20%5B-23.4889746%2C%20-47.4037232%5D%2C%20%5B-23.5096651%2C%20-47.4269136%5D%2C%20%5B-23.5013767%2C%20-47.4724861%5D%2C%20%5B-23.5013767%2C%20-47.4724861%5D%2C%20%5B-23.502%2C%20-47.4525040927%5D%2C%20%5B-23.5342804%2C%20-47.4665264%5D%2C%20%5B-23.498359%2C%20-47.4267106%5D%2C%20%5B-23.5342804%2C%20-47.4665264%5D%2C%20%5B-23.5221167%2C%20-47.4791523%5D%2C%20%5B-23.4149212%2C%20-47.4180585%5D%2C%20%5B-23.4826485%2C%20-47.4047095%5D%2C%20%5B-23.4948469%2C%20-47.4288321%5D%2C%20%5B-23.5221167%2C%20-47.4791523%5D%2C%20%5B-23.4494136%2C%20-47.4528701%5D%2C%20%5B-23.4542907%2C%20-47.4514528%5D%2C%20%5B-23.4919492%2C%20-47.4158162%5D%2C%20%5B-23.4989325%2C%20-47.4278245%5D%2C%20%5B-23.5088191%2C%20-47.4301983%5D%2C%20%5B-23.4903228%2C%20-47.4113638%5D%2C%20%5B-23.4678352%2C%20-47.4218808%5D%2C%20%5B-23.5087626%2C%20-47.4720659%5D%2C%20%5B-23.493361%2C%20-47.4732362%5D%2C%20%5B-23.4919492%2C%20-47.4158162%5D%2C%20%5B-23.4958331%2C%20-47.429457%5D%2C%20%5B-23.5072873%2C%20-47.4303505%5D%2C%20%5B-23.4791496%2C%20-47.4161101%5D%2C%20%5B-23.4149212%2C%20-47.4180585%5D%2C%20%5B-23.4515099%2C%20-47.4519508%5D%2C%20%5B-23.4859768%2C%20-47.4409203%5D%2C%20%5B-23.5232281%2C%20-47.4964031%5D%2C%20%5B-23.4919492%2C%20-47.4158162%5D%2C%20%5B-23.5038279%2C%20-47.4547088%5D%2C%20%5B-23.4489537%2C%20-47.4703402%5D%2C%20%5B-23.5414946%2C%20-47.4869567%5D%2C%20%5B-23.4995066%2C%20-47.4304281%5D%2C%20%5B-23.505947%2C%20-47.4679646%5D%2C%20%5B-23.4958331%2C%20-47.429457%5D%2C%20%5B-23.4904925%2C%20-47.4651292%5D%2C%20%5B-23.5122055%2C%20-47.4795892%5D%2C%20%5B-23.4919492%2C%20-47.4158162%5D%2C%20%5B-23.5208785%2C%20-47.4865996%5D%2C%20%5B-23.526682%2C%20-47.4633953%5D%2C%20%5B-23.5077764%2C%20-47.4709533%5D%2C%20%5B-23.4791496%2C%20-47.4161101%5D%2C%20%5B-23.502%2C%20-47.4525040927%5D%2C%20%5B-23.4981495%2C%20-47.4422454%5D%2C%20%5B-23.505947%2C%20-47.4679646%5D%2C%20%5B-23.4958331%2C%20-47.429457%5D%2C%20%5B-23.4904925%2C%20-47.4651292%5D%2C%20%5B-23.5122055%2C%20-47.4795892%5D%2C%20%5B-23.4919492%2C%20-47.4158162%5D%2C%20%5B-23.4981495%2C%20-47.4422454%5D%2C%20%5B-23.4958331%2C%20-47.429457%5D%2C%20%5B-23.4847384%2C%20-47.4139665%5D%2C%20%5B-23.5218498%2C%20-47.5111266%5D%2C%20%5B-23.4904925%2C%20-47.4651292%5D%2C%20%5B-23.5122055%2C%20-47.4795892%5D%2C%20%5B-23.4919492%2C%20-47.4158162%5D%2C%20%5B-23.5184089%2C%20-47.4274416%5D%2C%20%5B-23.4826485%2C%20-47.4047095%5D%2C%20%5B-23.4948469%2C%20-47.4288321%5D%2C%20%5B-23.4950013%2C%20-47.505656%5D%2C%20%5B-23.5483543%2C%20-47.4752855%5D%2C%20%5B-23.444435%2C%20-47.4722196%5D%2C%20%5B-23.5237014%2C%20-47.4922212%5D%2C%20%5B-23.4919492%2C%20-47.4158162%5D%2C%20%5B-23.4948469%2C%20-47.4288321%5D%2C%20%5B-23.4950013%2C%20-47.505656%5D%2C%20%5B-23.5483543%2C%20-47.4752855%5D%2C%20%5B-23.444435%2C%20-47.4722196%5D%2C%20%5B-23.5237014%2C%20-47.4922212%5D%2C%20%5B-23.4919492%2C%20-47.4158162%5D%2C%20%5B-23.4948469%2C%20-47.4288321%5D%2C%20%5B-23.5012033%2C%20-47.4570424%5D%2C%20%5B-23.5096642%2C%20-47.4252293%5D%2C%20%5B-23.4958331%2C%20-47.429457%5D%2C%20%5B-23.4958331%2C%20-47.429457%5D%2C%20%5B-23.5171338%2C%20-47.4637441%5D%2C%20%5B-23.5039298%2C%20-47.4251333%5D%2C%20%5B-23.5008747%2C%20-47.4378566%5D%2C%20%5B-23.5012033%2C%20-47.4570424%5D%2C%20%5B-23.4826485%2C%20-47.4047095%5D%2C%20%5B-23.5122728%2C%20-47.4467416%5D%2C%20%5B-23.4919492%2C%20-47.4158162%5D%2C%20%5B-23.4958331%2C%20-47.429457%5D%2C%20%5B-23.4907698%2C%20-47.4301951%5D%2C%20%5B-23.5057667%2C%20-47.4819902%5D%2C%20%5B-23.5342804%2C%20-47.4665264%5D%2C%20%5B-23.5036689%2C%20-47.4758378%5D%2C%20%5B-23.529321%2C%20-47.4711066%5D%2C%20%5B-23.4923003%2C%20-47.4112293%5D%2C%20%5B-23.4794922%2C%20-47.4439841%5D%2C%20%5B-23.4958331%2C%20-47.429457%5D%2C%20%5B-23.4889746%2C%20-47.4037232%5D%2C%20%5B-23.4494136%2C%20-47.4528701%5D%2C%20%5B-23.4844833%2C%20-47.4134307%5D%2C%20%5B-23.4826485%2C%20-47.4047095%5D%2C%20%5B-23.5077636%2C%20-47.4906653%5D%2C%20%5B-23.4919492%2C%20-47.4158162%5D%2C%20%5B-23.4958331%2C%20-47.429457%5D%2C%20%5B-23.5342804%2C%20-47.4665264%5D%2C%20%5B-23.5237014%2C%20-47.4922212%5D%2C%20%5B-23.4907698%2C%20-47.4301951%5D%2C%20%5B-23.478948%2C%20-47.435512%5D%2C%20%5B-23.4489918%2C%20-47.4479265%5D%2C%20%5B-23.4923003%2C%20-47.4112293%5D%2C%20%5B-23.4990271%2C%20-47.4302293%5D%2C%20%5B-23.4987809%2C%20-47.437003%5D%2C%20%5B-23.4844833%2C%20-47.4134307%5D%2C%20%5B-23.5051648%2C%20-47.4220092%5D%2C%20%5B-23.5032063%2C%20-47.4287075%5D%2C%20%5B-23.4989118%2C%20-47.4311173%5D%2C%20%5B-23.4989325%2C%20-47.4278245%5D%2C%20%5B-23.4872734%2C%20-47.4063118%5D%2C%20%5B-23.4872734%2C%20-47.4063118%5D%2C%20%5B-23.5122674%2C%20-47.5057239%5D%2C%20%5B-23.4874912%2C%20-47.4056971%5D%2C%20%5B-23.4923003%2C%20-47.4112293%5D%2C%20%5B-23.5047759%2C%20-47.4485801%5D%2C%20%5B-23.4919492%2C%20-47.4158162%5D%2C%20%5B-23.5429767%2C%20-47.4499633%5D%2C%20%5B-23.5214363%2C%20-47.4632902%5D%2C%20%5B-23.5214363%2C%20-47.4632902%5D%2C%20%5B-23.4907698%2C%20-47.4301951%5D%2C%20%5B-23.5122055%2C%20-47.4795892%5D%2C%20%5B-23.518635%2C%20-47.486743%5D%2C%20%5B-23.4958331%2C%20-47.429457%5D%2C%20%5B-23.4793839%2C%20-47.4829895%5D%2C%20%5B-23.4995066%2C%20-47.4304281%5D%2C%20%5B-23.5047759%2C%20-47.4485801%5D%2C%20%5B-23.4744322%2C%20-47.4386578%5D%2C%20%5B-23.4958331%2C%20-47.429457%5D%2C%20%5B-23.4793839%2C%20-47.4829895%5D%2C%20%5B-23.4995066%2C%20-47.4304281%5D%2C%20%5B-23.5047759%2C%20-47.4485801%5D%2C%20%5B-23.4744322%2C%20-47.4386578%5D%2C%20%5B-23.4912922%2C%20-47.435942%5D%2C%20%5B-23.4489918%2C%20-47.4479265%5D%2C%20%5B-23.4489918%2C%20-47.4479265%5D%2C%20%5B-23.4919492%2C%20-47.4158162%5D%2C%20%5B-23.507057%2C%20-47.4459756%5D%2C%20%5B-23.4907698%2C%20-47.4301951%5D%2C%20%5B-23.4907698%2C%20-47.4301951%5D%2C%20%5B-23.4907698%2C%20-47.4301951%5D%2C%20%5B-23.4958331%2C%20-47.429457%5D%2C%20%5B-23.4958331%2C%20-47.429457%5D%2C%20%5B-23.4919492%2C%20-47.4158162%5D%2C%20%5B-23.4958331%2C%20-47.429457%5D%2C%20%5B-23.5088909%2C%20-47.4317636%5D%2C%20%5B-23.5414946%2C%20-47.4869567%5D%2C%20%5B-23.4958331%2C%20-47.429457%5D%2C%20%5B-23.5088909%2C%20-47.4317636%5D%2C%20%5B-23.5414946%2C%20-47.4869567%5D%2C%20%5B-23.4936476%2C%20-47.4245303%5D%2C%20%5B-23.4948469%2C%20-47.4288321%5D%2C%20%5B-23.483928%2C%20-47.4589993%5D%2C%20%5B-23.4907698%2C%20-47.4301951%5D%2C%20%5B-23.5164294%2C%20-47.4635967%5D%2C%20%5B-23.4766192%2C%20-47.4477375%5D%2C%20%5B-23.4958331%2C%20-47.429457%5D%2C%20%5B-23.4791496%2C%20-47.4161101%5D%2C%20%5B-23.4494136%2C%20-47.4528701%5D%2C%20%5B-23.5004475%2C%20-47.4733956%5D%2C%20%5B-23.4826502%2C%20-47.4418867%5D%2C%20%5B-23.4919492%2C%20-47.4158162%5D%2C%20%5B-23.4453421%2C%20-47.4561804%5D%2C%20%5B-23.4914915%2C%20-47.4188662%5D%2C%20%5B-23.5128052%2C%20-47.4673515%5D%2C%20%5B-23.4955444%2C%20-47.4354059%5D%2C%20%5B-23.5012033%2C%20-47.4570424%5D%2C%20%5B-23.5399878%2C%20-47.4732164%5D%2C%20%5B-23.483928%2C%20-47.4589993%5D%2C%20%5B-23.4453421%2C%20-47.4561804%5D%2C%20%5B-23.4558061%2C%20-47.500467%5D%2C%20%5B-23.4914915%2C%20-47.4188662%5D%2C%20%5B-23.5128052%2C%20-47.4673515%5D%2C%20%5B-23.4955444%2C%20-47.4354059%5D%2C%20%5B-23.4791496%2C%20-47.4161101%5D%2C%20%5B-23.4907698%2C%20-47.4301951%5D%2C%20%5B-23.4936476%2C%20-47.4245303%5D%2C%20%5B-23.4919492%2C%20-47.4158162%5D%2C%20%5B-23.483928%2C%20-47.4589993%5D%2C%20%5B-23.4907698%2C%20-47.4301951%5D%2C%20%5B-23.5012033%2C%20-47.4570424%5D%2C%20%5B-23.5128052%2C%20-47.4673515%5D%2C%20%5B-23.5088909%2C%20-47.4317636%5D%2C%20%5B-23.5320589%2C%20-47.4976299%5D%2C%20%5B-23.4625834%2C%20-47.4706468%5D%2C%20%5B-23.4914915%2C%20-47.4188662%5D%2C%20%5B-23.4652668%2C%20-47.4320362%5D%2C%20%5B-23.4826485%2C%20-47.4047095%5D%2C%20%5B-23.4958331%2C%20-47.429457%5D%2C%20%5B-23.5180018%2C%20-47.4530326%5D%2C%20%5B-23.4958331%2C%20-47.429457%5D%2C%20%5B-23.4958331%2C%20-47.429457%5D%2C%20%5B-23.4834523%2C%20-47.4465456%5D%2C%20%5B-23.4950013%2C%20-47.505656%5D%2C%20%5B-23.5122133%2C%20-47.4976299%5D%2C%20%5B-23.4907698%2C%20-47.4301951%5D%2C%20%5B-23.483928%2C%20-47.4589993%5D%2C%20%5B-23.4791496%2C%20-47.4161101%5D%2C%20%5B-23.5039298%2C%20-47.4251333%5D%2C%20%5B-23.4837704%2C%20-47.4522572%5D%2C%20%5B-23.5414946%2C%20-47.4869567%5D%2C%20%5B-23.508342%2C%20-47.4376906%5D%2C%20%5B-23.4742167%2C%20-47.434664%5D%2C%20%5B-23.4834523%2C%20-47.4465456%5D%2C%20%5B-23.522562%2C%20-47.4690662%5D%2C%20%5B-23.4967002%2C%20-47.441533%5D%2C%20%5B-23.5064%2C%20-47.4740189%5D%2C%20%5B-23.4919492%2C%20-47.4158162%5D%2C%20%5B-23.5165954%2C%20-47.4768547%5D%2C%20%5B-23.507057%2C%20-47.4459756%5D%2C%20%5B-23.5061465%2C%20-47.4435426%5D%2C%20%5B-23.4826485%2C%20-47.4047095%5D%2C%20%5B-23.4494136%2C%20-47.4528701%5D%2C%20%5B-23.5325862%2C%20-47.4670877%5D%2C%20%5B-23.4779292%2C%20-47.3982922%5D%2C%20%5B-23.5032063%2C%20-47.4287075%5D%2C%20%5B-23.5094647%2C%20-47.4240725%5D%2C%20%5B-23.4715819%2C%20-47.4443671%5D%2C%20%5B-23.4958331%2C%20-47.429457%5D%2C%20%5B-23.5081402%2C%20-47.4714682%5D%2C%20%5B-23.4791496%2C%20-47.4161101%5D%2C%20%5B-23.5081402%2C%20-47.4714682%5D%2C%20%5B-23.4907698%2C%20-47.4301951%5D%2C%20%5B-23.4919492%2C%20-47.4158162%5D%2C%20%5B-23.4989325%2C%20-47.4278245%5D%2C%20%5B-23.4989325%2C%20-47.4278245%5D%2C%20%5B-23.4663209%2C%20-47.4337119%5D%2C%20%5B-23.5051648%2C%20-47.4220092%5D%2C%20%5B-23.4967002%2C%20-47.441533%5D%2C%20%5B-23.5086266%2C%20-47.4350305%5D%2C%20%5B-23.4919492%2C%20-47.4158162%5D%2C%20%5B-23.4859768%2C%20-47.4409203%5D%2C%20%5B-23.4907698%2C%20-47.4301951%5D%2C%20%5B-23.4663209%2C%20-47.4337119%5D%2C%20%5B-23.4874912%2C%20-47.4056971%5D%2C%20%5B-23.4958331%2C%20-47.429457%5D%2C%20%5B-23.4791496%2C%20-47.4161101%5D%2C%20%5B-23.4542907%2C%20-47.4514528%5D%2C%20%5B-23.4869738%2C%20-47.407882%5D%2C%20%5B-23.4791496%2C%20-47.4161101%5D%2C%20%5B-23.5064%2C%20-47.4740189%5D%2C%20%5B-23.5574016%2C%20-47.4528057%5D%2C%20%5B-23.4958331%2C%20-47.429457%5D%2C%20%5B-23.4958331%2C%20-47.429457%5D%2C%20%5B-23.4834523%2C%20-47.4465456%5D%2C%20%5B-23.4791496%2C%20-47.4161101%5D%2C%20%5B-23.4791496%2C%20-47.4161101%5D%2C%20%5B-23.5012033%2C%20-47.4570424%5D%2C%20%5B-23.4791496%2C%20-47.4161101%5D%2C%20%5B-23.5237108%2C%20-47.4942562%5D%2C%20%5B-23.5237108%2C%20-47.4942562%5D%2C%20%5B-23.483928%2C%20-47.4589993%5D%2C%20%5B-23.483928%2C%20-47.4589993%5D%2C%20%5B-23.4791496%2C%20-47.4161101%5D%2C%20%5B-23.4542907%2C%20-47.4514528%5D%2C%20%5B-23.508342%2C%20-47.4376906%5D%2C%20%5B-23.4542907%2C%20-47.4514528%5D%2C%20%5B-23.4990271%2C%20-47.4302293%5D%2C%20%5B-23.4907698%2C%20-47.4301951%5D%2C%20%5B-23.4907698%2C%20-47.4301951%5D%2C%20%5B-23.508342%2C%20-47.4376906%5D%2C%20%5B-23.4764792%2C%20-47.4269642%5D%2C%20%5B-23.4923003%2C%20-47.4112293%5D%2C%20%5B-23.483928%2C%20-47.4589993%5D%2C%20%5B-23.483928%2C%20-47.4589993%5D%2C%20%5B-23.4764792%2C%20-47.4269642%5D%2C%20%5B-23.4923003%2C%20-47.4112293%5D%2C%20%5B-23.4923003%2C%20-47.4112293%5D%2C%20%5B-23.5399878%2C%20-47.4732164%5D%2C%20%5B-23.4919492%2C%20-47.4158162%5D%2C%20%5B-23.5399878%2C%20-47.4732164%5D%2C%20%5B-23.483928%2C%20-47.4589993%5D%2C%20%5B-23.483928%2C%20-47.4589993%5D%2C%20%5B-23.5171338%2C%20-47.4637441%5D%2C%20%5B-23.483928%2C%20-47.4589993%5D%2C%20%5B-23.5171338%2C%20-47.4637441%5D%2C%20%5B-23.5171338%2C%20-47.4637441%5D%2C%20%5B-23.4826485%2C%20-47.4047095%5D%2C%20%5B-23.5057667%2C%20-47.4819902%5D%2C%20%5B-23.5057667%2C%20-47.4819902%5D%2C%20%5B-23.4881747%2C%20-47.4574498%5D%2C%20%5B-23.4907698%2C%20-47.4301951%5D%2C%20%5B-23.4907698%2C%20-47.4301951%5D%2C%20%5B-23.4907698%2C%20-47.4301951%5D%2C%20%5B-23.4881747%2C%20-47.4574498%5D%2C%20%5B-23.4881747%2C%20-47.4574498%5D%2C%20%5B-23.4863168%2C%20-47.4571605%5D%2C%20%5B-23.5325862%2C%20-47.4670877%5D%2C%20%5B-23.4863168%2C%20-47.4571605%5D%2C%20%5B-23.4881747%2C%20-47.4574498%5D%2C%20%5B-23.5102857%2C%20-47.4769463%5D%2C%20%5B-23.5102857%2C%20-47.4769463%5D%2C%20%5B-23.5126099%2C%20-47.4453385%5D%2C%20%5B-23.5126099%2C%20-47.4453385%5D%2C%20%5B-23.527338%2C%20-47.4306048%5D%2C%20%5B-23.5325862%2C%20-47.4670877%5D%2C%20%5B-23.519826%2C%20-47.4618755%5D%2C%20%5B-23.446871%2C%20-47.4481971%5D%2C%20%5B-23.446871%2C%20-47.4481971%5D%2C%20%5B-23.4874912%2C%20-47.4056971%5D%2C%20%5B-23.4919492%2C%20-47.4158162%5D%2C%20%5B-23.4782973%2C%20-47.4324277%5D%2C%20%5B-23.5012033%2C%20-47.4570424%5D%2C%20%5B-23.5128052%2C%20-47.4673515%5D%2C%20%5B-23.5012033%2C%20-47.4570424%5D%2C%20%5B-23.5128052%2C%20-47.4673515%5D%2C%20%5B-23.5004475%2C%20-47.4733956%5D%2C%20%5B-23.4837704%2C%20-47.4522572%5D%2C%20%5B-23.4874912%2C%20-47.4056971%5D%2C%20%5B-23.5414946%2C%20-47.4869567%5D%2C%20%5B-23.558109%2C%20-47.4901527%5D%2C%20%5B-23.4914915%2C%20-47.4188662%5D%2C%20%5B-23.4782973%2C%20-47.4324277%5D%2C%20%5B45.5016889%2C%20-73.567256%5D%2C%20%5B-23.4919492%2C%20-47.4158162%5D%2C%20%5B-23.5012033%2C%20-47.4570424%5D%2C%20%5B-23.4961564%2C%20-47.4253742%5D%2C%20%5B-23.5039298%2C%20-47.4251333%5D%2C%20%5B-23.4961564%2C%20-47.4253742%5D%2C%20%5B45.5016889%2C%20-73.567256%5D%2C%20%5B-23.5039298%2C%20-47.4251333%5D%2C%20%5B-23.4914915%2C%20-47.4188662%5D%2C%20%5B-23.558109%2C%20-47.4901527%5D%2C%20%5B-23.4961564%2C%20-47.4253742%5D%2C%20%5B-23.5139138%2C%20-47.4623707%5D%2C%20%5B-23.4729601%2C%20-47.4394067%5D%2C%20%5B-23.5414946%2C%20-47.4869567%5D%2C%20%5B-23.4453421%2C%20-47.4561804%5D%2C%20%5B-23.5039298%2C%20-47.4251333%5D%2C%20%5B-23.5039298%2C%20-47.4251333%5D%2C%20%5B-23.5139138%2C%20-47.4623707%5D%2C%20%5B-23.4729601%2C%20-47.4394067%5D%2C%20%5B-23.4453421%2C%20-47.4561804%5D%2C%20%5B-23.4919492%2C%20-47.4158162%5D%2C%20%5B-23.5320589%2C%20-47.4976299%5D%2C%20%5B-23.5038279%2C%20-47.4547088%5D%2C%20%5B-23.4907698%2C%20-47.4301951%5D%2C%20%5B-23.5051648%2C%20-47.4220092%5D%2C%20%5B-23.4663209%2C%20-47.4337119%5D%2C%20%5B-23.508342%2C%20-47.4376906%5D%2C%20%5B-23.6280355%2C%20-46.8141533%5D%2C%20%5B-23.4958331%2C%20-47.429457%5D%2C%20%5B-23.496729%2C%20-47.4608715%5D%2C%20%5B-23.4940881%2C%20-47.41838%5D%2C%20%5B-23.483928%2C%20-47.4589993%5D%2C%20%5B-23.5012033%2C%20-47.4570424%5D%2C%20%5B-23.5064%2C%20-47.4740189%5D%2C%20%5B-23.4826485%2C%20-47.4047095%5D%2C%20%5B-23.4948469%2C%20-47.4288321%5D%2C%20%5B-23.4995066%2C%20-47.4304281%5D%2C%20%5B-23.4958331%2C%20-47.429457%5D%2C%20%5B-23.4961564%2C%20-47.4253742%5D%2C%20%5B-23.4958331%2C%20-47.429457%5D%2C%20%5B-23.4958331%2C%20-47.429457%5D%2C%20%5B-23.4919492%2C%20-47.4158162%5D%2C%20%5B-23.4921941%2C%20-47.4291285%5D%2C%20%5B-23.4743431%2C%20-47.4510315%5D%2C%20%5B-23.5034295%2C%20-47.4665086%5D%2C%20%5B-23.5406983%2C%20-47.4149132%5D%2C%20%5B-23.4983025%2C%20-47.4245672%5D%2C%20%5B-23.4958331%2C%20-47.429457%5D%2C%20%5B-23.532556%2C%20-47.4672799%5D%2C%20%5B-23.4907698%2C%20-47.4301951%5D%2C%20%5B-23.4907698%2C%20-47.4301951%5D%2C%20%5B-23.4919492%2C%20-47.4158162%5D%2C%20%5B-23.4782973%2C%20-47.4324277%5D%2C%20%5B-23.5234017%2C%20-47.4702636%5D%2C%20%5B-23.5458282%2C%20-47.4670805%5D%2C%20%5B-23.5359749%2C%20-47.4589227%5D%2C%20%5B-23.4542907%2C%20-47.4514528%5D%2C%20%5B-23.483928%2C%20-47.4589993%5D%2C%20%5B-23.4753031%2C%20-47.4554645%5D%2C%20%5B-23.4936476%2C%20-47.4245303%5D%2C%20%5B-23.4938766%2C%20-47.4393884%5D%2C%20%5B-23.4923138%2C%20-47.412316%5D%2C%20%5B-23.4889746%2C%20-47.4037232%5D%2C%20%5B-23.4791496%2C%20-47.4161101%5D%2C%20%5B-23.4948469%2C%20-47.4288321%5D%2C%20%5B-23.4907698%2C%20-47.4301951%5D%2C%20%5B-23.498359%2C%20-47.4267106%5D%2C%20%5B-23.5134005%2C%20-47.4957897%5D%2C%20%5B-23.4989325%2C%20-47.4278245%5D%2C%20%5B-23.5022903%2C%20-47.4738656%5D%2C%20%5B-23.4980705%2C%20-47.3683006%5D%2C%20%5B-23.483928%2C%20-47.4589993%5D%2C%20%5B-23.493618%2C%20-47.418873%5D%2C%20%5B-23.4948483%2C%20-47.4718414%5D%2C%20%5B-23.4907698%2C%20-47.4301951%5D%2C%20%5B-23.483928%2C%20-47.4589993%5D%2C%20%5B-23.5171338%2C%20-47.4637441%5D%2C%20%5B-23.5096651%2C%20-47.4269136%5D%2C%20%5B-23.4764792%2C%20-47.4269642%5D%2C%20%5B-23.4958331%2C%20-47.429457%5D%2C%20%5B-23.4881678%2C%20-47.4510315%5D%2C%20%5B-23.4791496%2C%20-47.4161101%5D%2C%20%5B-23.5096651%2C%20-47.4269136%5D%2C%20%5B-23.4826485%2C%20-47.4047095%5D%2C%20%5B-23.4961564%2C%20-47.4253742%5D%2C%20%5B-23.507057%2C%20-47.4459756%5D%2C%20%5B-23.4988822%2C%20-47.4390821%5D%2C%20%5B-23.5325862%2C%20-47.4670877%5D%2C%20%5B-23.4715819%2C%20-47.4443671%5D%2C%20%5B-23.5039298%2C%20-47.4251333%5D%2C%20%5B-23.4564638%2C%20-47.4644051%5D%2C%20%5B-23.4923003%2C%20-47.4112293%5D%2C%20%5B-23.447174%2C%20-47.4955647%5D%2C%20%5B-23.4958331%2C%20-47.429457%5D%2C%20%5B-23.4501203%2C%20-47.4596889%5D%2C%20%5B-23.4989325%2C%20-47.4278245%5D%2C%20%5B-23.4864751%2C%20-47.4066179%5D%2C%20%5B-23.463314%2C%20-47.4688286%5D%2C%20%5B-23.5458282%2C%20-47.4670805%5D%2C%20%5B-23.4663209%2C%20-47.4337119%5D%2C%20%5B-23.483928%2C%20-47.4589993%5D%2C%20%5B-23.5072333%2C%20-47.4625843%5D%2C%20%5B-23.5039298%2C%20-47.4251333%5D%2C%20%5B-23.4737069%2C%20-47.4587695%5D%2C%20%5B-23.4929056%2C%20-47.3980459%5D%2C%20%5B-23.5414946%2C%20-47.4869567%5D%2C%20%5B-23.4958331%2C%20-47.429457%5D%2C%20%5B-23.5148297%2C%20-47.4639798%5D%2C%20%5B-23.4907698%2C%20-47.4301951%5D%2C%20%5B-23.4936476%2C%20-47.4245303%5D%2C%20%5B-23.5131559%2C%20-47.4627906%5D%2C%20%5B-23.5012033%2C%20-47.4570424%5D%2C%20%5B-23.5039298%2C%20-47.4251333%5D%2C%20%5B-23.4907698%2C%20-47.4301951%5D%2C%20%5B-23.4958331%2C%20-47.429457%5D%2C%20%5B-23.4542907%2C%20-47.4514528%5D%2C%20%5B-23.4843392%2C%20-47.4141196%5D%2C%20%5B-23.483928%2C%20-47.4589993%5D%2C%20%5B-23.4580657%2C%20-47.5074453%5D%2C%20%5B-23.537058%2C%20-47.4711249%5D%2C%20%5B-23.537058%2C%20-47.4711249%5D%2C%20%5B-23.4990271%2C%20-47.4302293%5D%2C%20%5B-23.4356395%2C%20-47.4804231%5D%2C%20%5B-23.4782973%2C%20-47.4324277%5D%2C%20%5B-23.4625834%2C%20-47.4706468%5D%2C%20%5B-23.4791496%2C%20-47.4161101%5D%2C%20%5B-23.5031901%2C%20-47.4391586%5D%2C%20%5B-23.4764792%2C%20-47.4269642%5D%2C%20%5B-23.4958331%2C%20-47.429457%5D%2C%20%5B-23.5171338%2C%20-47.4637441%5D%2C%20%5B-23.4958331%2C%20-47.429457%5D%2C%20%5B-23.4903228%2C%20-47.4113638%5D%2C%20%5B-23.4995066%2C%20-47.4304281%5D%2C%20%5B-23.5094647%2C%20-47.4240725%5D%2C%20%5B-23.4973267%2C%20-47.4675814%5D%2C%20%5B-23.4856043%2C%20-47.4326489%5D%2C%20%5B-23.4861355%2C%20-47.4509647%5D%2C%20%5B-23.4973267%2C%20-47.4675814%5D%2C%20%5B-23.4958331%2C%20-47.429457%5D%2C%20%5B-23.5039298%2C%20-47.4251333%5D%2C%20%5B-23.5094647%2C%20-47.4240725%5D%2C%20%5B-23.5039298%2C%20-47.4251333%5D%2C%20%5B-23.478948%2C%20-47.435512%5D%2C%20%5B-23.4938766%2C%20-47.4393884%5D%2C%20%5B-23.4995066%2C%20-47.4304281%5D%2C%20%5B-23.4923003%2C%20-47.4112293%5D%2C%20%5B-23.5079094%2C%20-47.4292794%5D%2C%20%5B-23.498359%2C%20-47.4267106%5D%2C%20%5B-23.478948%2C%20-47.435512%5D%2C%20%5B-23.5041667%2C%20-47.4942562%5D%2C%20%5B-23.5051648%2C%20-47.4220092%5D%2C%20%5B-23.4753031%2C%20-47.4554645%5D%2C%20%5B-23.4958331%2C%20-47.429457%5D%2C%20%5B-23.4923003%2C%20-47.4112293%5D%2C%20%5B-23.4929056%2C%20-47.3980459%5D%2C%20%5B-23.5096651%2C%20-47.4269136%5D%2C%20%5B-23.4907698%2C%20-47.4301951%5D%2C%20%5B-23.5051648%2C%20-47.4220092%5D%2C%20%5B-23.5081402%2C%20-47.4714682%5D%2C%20%5B-23.4889746%2C%20-47.4037232%5D%2C%20%5B-23.483928%2C%20-47.4589993%5D%2C%20%5B-23.4758087%2C%20-47.446665%5D%2C%20%5B-23.4764792%2C%20-47.4269642%5D%2C%20%5B-23.5043899%2C%20-47.4472155%5D%2C%20%5B-23.5111695%2C%20-47.4383196%5D%2C%20%5B-23.447174%2C%20-47.4955647%5D%2C%20%5B-23.4958331%2C%20-47.429457%5D%2C%20%5B-23.4158626%2C%20-47.4040921%5D%2C%20%5B-23.5032063%2C%20-47.4287075%5D%2C%20%5B-23.4936476%2C%20-47.4245303%5D%2C%20%5B-23.4907698%2C%20-47.4301951%5D%2C%20%5B-23.4929056%2C%20-47.3980459%5D%2C%20%5B-23.4929056%2C%20-47.3980459%5D%2C%20%5B-23.4453421%2C%20-47.4561804%5D%2C%20%5B-23.4995066%2C%20-47.4304281%5D%2C%20%5B-23.4995066%2C%20-47.4304281%5D%2C%20%5B-23.4948469%2C%20-47.4288321%5D%2C%20%5B-23.4958331%2C%20-47.429457%5D%2C%20%5B-23.4958331%2C%20-47.429457%5D%2C%20%5B-23.4789069%2C%20-47.4458224%5D%2C%20%5B-23.4776374%2C%20-47.416259%5D%2C%20%5B-23.5070958%2C%20-47.4613936%5D%2C%20%5B-23.4958331%2C%20-47.429457%5D%2C%20%5B-23.5157219%2C%20-47.4382419%5D%2C%20%5B-23.4988822%2C%20-47.4390821%5D%2C%20%5B-23.498359%2C%20-47.4267106%5D%2C%20%5B-23.4938766%2C%20-47.4393884%5D%2C%20%5B-23.4946111%2C%20-47.4205505%5D%2C%20%5B-23.4972918%2C%20-47.4296285%5D%2C%20%5B-23.5096651%2C%20-47.4269136%5D%2C%20%5B-23.4923003%2C%20-47.4112293%5D%2C%20%5B-23.5043899%2C%20-47.4472155%5D%2C%20%5B-23.4663209%2C%20-47.4337119%5D%2C%20%5B-23.5061609%2C%20-47.4930295%5D%2C%20%5B-23.4415006%2C%20-47.4233561%5D%2C%20%5B-23.4958331%2C%20-47.429457%5D%2C%20%5B-23.4958331%2C%20-47.429457%5D%2C%20%5B-23.507057%2C%20-47.4459756%5D%2C%20%5B-23.5081402%2C%20-47.4714682%5D%2C%20%5B-23.508342%2C%20-47.4376906%5D%2C%20%5B-23.5039298%2C%20-47.4251333%5D%2C%20%5B-23.4948469%2C%20-47.4288321%5D%2C%20%5B-23.4426629%2C%20-47.4731855%5D%2C%20%5B-23.478948%2C%20-47.435512%5D%2C%20%5B-23.478948%2C%20-47.435512%5D%2C%20%5B-23.4907698%2C%20-47.4301951%5D%2C%20%5B-23.5340941%2C%20-47.4888027%5D%2C%20%5B-23.4967002%2C%20-47.441533%5D%2C%20%5B-23.5096651%2C%20-47.4269136%5D%2C%20%5B-23.502865%2C%20-47.4153548%5D%2C%20%5B-23.4940881%2C%20-47.41838%5D%2C%20%5B-23.4903228%2C%20-47.4113638%5D%2C%20%5B-23.5032063%2C%20-47.4287075%5D%2C%20%5B-23.4958331%2C%20-47.429457%5D%2C%20%5B-23.4764792%2C%20-47.4269642%5D%2C%20%5B-23.4501203%2C%20-47.4596889%5D%2C%20%5B-23.4764792%2C%20-47.4269642%5D%2C%20%5B-23.4501203%2C%20-47.4596889%5D%2C%20%5B-23.4940881%2C%20-47.41838%5D%2C%20%5B-23.4923003%2C%20-47.4112293%5D%2C%20%5B-23.5171338%2C%20-47.4637441%5D%2C%20%5B-23.5171338%2C%20-47.4637441%5D%2C%20%5B-23.4715819%2C%20-47.4443671%5D%2C%20%5B-23.4907698%2C%20-47.4301951%5D%2C%20%5B-23.4791496%2C%20-47.4161101%5D%2C%20%5B-23.5077636%2C%20-47.4906653%5D%2C%20%5B-23.4937893%2C%20-47.4326931%5D%2C%20%5B-23.4578804%2C%20-47.4777923%5D%2C%20%5B-23.471781%2C%20-47.4878853%5D%2C%20%5B-23.5079094%2C%20-47.4292794%5D%2C%20%5B-23.4791496%2C%20-47.4161101%5D%2C%20%5B-23.4728557%2C%20-47.429356%5D%2C%20%5B-23.493797%2C%20-47.4072402%5D%2C%20%5B-23.4958331%2C%20-47.429457%5D%2C%20%5B-23.4928557%2C%20-47.4395241%5D%2C%20%5B-23.4961564%2C%20-47.4253742%5D%2C%20%5B-23.4501203%2C%20-47.4596889%5D%2C%20%5B-23.4728557%2C%20-47.429356%5D%2C%20%5B-23.4426629%2C%20-47.4731855%5D%2C%20%5B-23.478948%2C%20-47.435512%5D%2C%20%5B-23.478948%2C%20-47.435512%5D%2C%20%5B-23.4907698%2C%20-47.4301951%5D%2C%20%5B-23.5340941%2C%20-47.4888027%5D%2C%20%5B-23.4967002%2C%20-47.441533%5D%2C%20%5B-23.5096651%2C%20-47.4269136%5D%2C%20%5B-23.502865%2C%20-47.4153548%5D%2C%20%5B-23.4940881%2C%20-47.41838%5D%2C%20%5B-23.4903228%2C%20-47.4113638%5D%2C%20%5B-23.5032063%2C%20-47.4287075%5D%2C%20%5B-23.4958331%2C%20-47.429457%5D%2C%20%5B-23.4764792%2C%20-47.4269642%5D%2C%20%5B-23.4501203%2C%20-47.4596889%5D%2C%20%5B-23.4764792%2C%20-47.4269642%5D%2C%20%5B-23.4501203%2C%20-47.4596889%5D%2C%20%5B-23.4940881%2C%20-47.41838%5D%2C%20%5B-23.4923003%2C%20-47.4112293%5D%2C%20%5B-23.5171338%2C%20-47.4637441%5D%2C%20%5B-23.5171338%2C%20-47.4637441%5D%2C%20%5B-23.4715819%2C%20-47.4443671%5D%2C%20%5B-23.4907698%2C%20-47.4301951%5D%2C%20%5B-23.4791496%2C%20-47.4161101%5D%2C%20%5B-23.5077636%2C%20-47.4906653%5D%2C%20%5B-23.4937893%2C%20-47.4326931%5D%2C%20%5B-23.4578804%2C%20-47.4777923%5D%2C%20%5B-23.471781%2C%20-47.4878853%5D%2C%20%5B-23.5079094%2C%20-47.4292794%5D%2C%20%5B-23.4791496%2C%20-47.4161101%5D%2C%20%5B-23.4728557%2C%20-47.429356%5D%2C%20%5B-23.493797%2C%20-47.4072402%5D%2C%20%5B-23.4958331%2C%20-47.429457%5D%2C%20%5B-23.4928557%2C%20-47.4395241%5D%2C%20%5B-23.4961564%2C%20-47.4253742%5D%2C%20%5B-23.4501203%2C%20-47.4596889%5D%2C%20%5B-23.4728557%2C%20-47.429356%5D%2C%20%5B-23.4881747%2C%20-47.4574498%5D%2C%20%5B-23.5102857%2C%20-47.4769463%5D%2C%20%5B-23.5102857%2C%20-47.4769463%5D%2C%20%5B-23.5126099%2C%20-47.4453385%5D%2C%20%5B-23.5126099%2C%20-47.4453385%5D%2C%20%5B-23.527338%2C%20-47.4306048%5D%2C%20%5B-23.5325862%2C%20-47.4670877%5D%2C%20%5B-23.519826%2C%20-47.4618755%5D%2C%20%5B-23.446871%2C%20-47.4481971%5D%2C%20%5B-23.446871%2C%20-47.4481971%5D%2C%20%5B-23.4874912%2C%20-47.4056971%5D%2C%20%5B-23.4919492%2C%20-47.4158162%5D%2C%20%5B-23.4782973%2C%20-47.4324277%5D%2C%20%5B-23.5012033%2C%20-47.4570424%5D%2C%20%5B-23.5128052%2C%20-47.4673515%5D%2C%20%5B-23.5012033%2C%20-47.4570424%5D%2C%20%5B-23.5128052%2C%20-47.4673515%5D%2C%20%5B-23.5004475%2C%20-47.4733956%5D%2C%20%5B-23.4837704%2C%20-47.4522572%5D%2C%20%5B-23.4874912%2C%20-47.4056971%5D%2C%20%5B-23.5414946%2C%20-47.4869567%5D%2C%20%5B-23.558109%2C%20-47.4901527%5D%2C%20%5B-23.4914915%2C%20-47.4188662%5D%2C%20%5B-23.4782973%2C%20-47.4324277%5D%2C%20%5B45.5016889%2C%20-73.567256%5D%2C%20%5B-23.4919492%2C%20-47.4158162%5D%2C%20%5B-23.5012033%2C%20-47.4570424%5D%2C%20%5B-23.4961564%2C%20-47.4253742%5D%2C%20%5B-23.5039298%2C%20-47.4251333%5D%2C%20%5B-23.4961564%2C%20-47.4253742%5D%2C%20%5B45.5016889%2C%20-73.567256%5D%2C%20%5B-23.5039298%2C%20-47.4251333%5D%2C%20%5B-23.4914915%2C%20-47.4188662%5D%2C%20%5B-23.558109%2C%20-47.4901527%5D%2C%20%5B-23.4961564%2C%20-47.4253742%5D%2C%20%5B-23.5139138%2C%20-47.4623707%5D%2C%20%5B-23.4729601%2C%20-47.4394067%5D%2C%20%5B-23.5414946%2C%20-47.4869567%5D%2C%20%5B-23.4453421%2C%20-47.4561804%5D%2C%20%5B-23.5039298%2C%20-47.4251333%5D%2C%20%5B-23.5039298%2C%20-47.4251333%5D%5D%2C%0A%20%20%20%20%20%20%20%20%20%20%20%20%20%20%20%20%7B%0A%20%20%20%20%20%20%20%20%20%20%20%20%20%20%20%20%20%20%20%20minOpacity%3A%200.5%2C%0A%20%20%20%20%20%20%20%20%20%20%20%20%20%20%20%20%20%20%20%20maxZoom%3A%2018%2C%0A%20%20%20%20%20%20%20%20%20%20%20%20%20%20%20%20%20%20%20%20max%3A%201.0%2C%0A%20%20%20%20%20%20%20%20%20%20%20%20%20%20%20%20%20%20%20%20radius%3A%2025%2C%0A%20%20%20%20%20%20%20%20%20%20%20%20%20%20%20%20%20%20%20%20blur%3A%2015%2C%0A%20%20%20%20%20%20%20%20%20%20%20%20%20%20%20%20%20%20%20%20gradient%3A%20null%0A%20%20%20%20%20%20%20%20%20%20%20%20%20%20%20%20%20%20%20%20%7D%29%0A%20%20%20%20%20%20%20%20%20%20%20%20%20%20%20%20.addTo%28map_ac22868012a24b1992b2cd10ecf0937c%29%3B%0A%20%20%20%20%20%20%20%20%0A%3C/script%3E onload=\"this.contentDocument.open();this.contentDocument.write(    decodeURIComponent(this.getAttribute('data-html')));this.contentDocument.close();\" allowfullscreen webkitallowfullscreen mozallowfullscreen></iframe></div></div>"
            ],
            "text/plain": [
              "<folium.folium.Map at 0x7fb01c643dd0>"
            ]
          },
          "metadata": {
            "tags": []
          },
          "execution_count": 30
        }
      ]
    },
    {
      "cell_type": "code",
      "metadata": {
        "id": "dh4JEjU1wLI-"
      },
      "source": [
        "#@title Clique aqui para ver a resposta.\n",
        "mapa.add_child(plugins.HeatMap(coordenadas))"
      ],
      "execution_count": null,
      "outputs": []
    },
    {
      "cell_type": "markdown",
      "metadata": {
        "id": "3UyaQgliwb1A"
      },
      "source": [
        "- 03.e.Adicione um marcador no melhor local para construir a *dark kitchen*.\n",
        " - Usar a localização (latitude e longitude) que tem o maior faturamento (vide item **04.c**)."
      ]
    },
    {
      "cell_type": "code",
      "metadata": {
        "id": "-14furCYV_Xy",
        "colab": {
          "base_uri": "https://localhost:8080/"
        },
        "outputId": "3ad79872-5fd0-4cf3-b263-fdc7a768e078"
      },
      "source": [
        "# Criando um marcador no mapa no melhor local para se construir a dark kitchen.\n",
        "folium.Marker(location=[-23.495833,-47.429457],popup=\"Dark Kitchen\", icon = folium.Icon(color=\"red\"),).add_to(mapa)"
      ],
      "execution_count": 33,
      "outputs": [
        {
          "output_type": "execute_result",
          "data": {
            "text/plain": [
              "<folium.map.Marker at 0x7fb01c4efb50>"
            ]
          },
          "metadata": {
            "tags": []
          },
          "execution_count": 33
        }
      ]
    },
    {
      "cell_type": "code",
      "metadata": {
        "id": "NL7kgzj2w0mF",
        "cellView": "form"
      },
      "source": [
        "#@title Clique aqui para ver a resposta.\n",
        "folium.Marker(location=[-23.495833,-47.429457],\n",
        "              popup= 'Dark Kitchen',\n",
        "              icon = folium.Icon(color='red'),\n",
        "              ).add_to(mapa)"
      ],
      "execution_count": null,
      "outputs": []
    },
    {
      "cell_type": "markdown",
      "metadata": {
        "id": "rwInxbtjxEiU"
      },
      "source": [
        " - 03.f.Visualize o mapa."
      ]
    },
    {
      "cell_type": "code",
      "metadata": {
        "id": "vnuTsyFFxIh3",
        "colab": {
          "base_uri": "https://localhost:8080/",
          "height": 760
        },
        "outputId": "6950c445-0ef8-4268-ba00-16014ecb9248"
      },
      "source": [
        "# Visualizando o mapa\n",
        "mapa"
      ],
      "execution_count": 34,
      "outputs": [
        {
          "output_type": "execute_result",
          "data": {
            "text/html": [
              "<div style=\"width:100%;\"><div style=\"position:relative;width:100%;height:0;padding-bottom:60%;\"><span style=\"color:#565656\">Make this Notebook Trusted to load map: File -> Trust Notebook</span><iframe src=\"about:blank\" style=\"position:absolute;width:100%;height:100%;left:0;top:0;border:none !important;\" data-html=%3C%21DOCTYPE%20html%3E%0A%3Chead%3E%20%20%20%20%0A%20%20%20%20%3Cmeta%20http-equiv%3D%22content-type%22%20content%3D%22text/html%3B%20charset%3DUTF-8%22%20/%3E%0A%20%20%20%20%3Cscript%3EL_PREFER_CANVAS%3Dfalse%3B%20L_NO_TOUCH%3Dfalse%3B%20L_DISABLE_3D%3Dfalse%3B%3C/script%3E%0A%20%20%20%20%3Cscript%20src%3D%22https%3A//cdn.jsdelivr.net/npm/leaflet%401.4.0/dist/leaflet.js%22%3E%3C/script%3E%0A%20%20%20%20%3Cscript%20src%3D%22https%3A//code.jquery.com/jquery-1.12.4.min.js%22%3E%3C/script%3E%0A%20%20%20%20%3Cscript%20src%3D%22https%3A//maxcdn.bootstrapcdn.com/bootstrap/3.2.0/js/bootstrap.min.js%22%3E%3C/script%3E%0A%20%20%20%20%3Cscript%20src%3D%22https%3A//cdnjs.cloudflare.com/ajax/libs/Leaflet.awesome-markers/2.0.2/leaflet.awesome-markers.js%22%3E%3C/script%3E%0A%20%20%20%20%3Clink%20rel%3D%22stylesheet%22%20href%3D%22https%3A//cdn.jsdelivr.net/npm/leaflet%401.4.0/dist/leaflet.css%22/%3E%0A%20%20%20%20%3Clink%20rel%3D%22stylesheet%22%20href%3D%22https%3A//maxcdn.bootstrapcdn.com/bootstrap/3.2.0/css/bootstrap.min.css%22/%3E%0A%20%20%20%20%3Clink%20rel%3D%22stylesheet%22%20href%3D%22https%3A//maxcdn.bootstrapcdn.com/bootstrap/3.2.0/css/bootstrap-theme.min.css%22/%3E%0A%20%20%20%20%3Clink%20rel%3D%22stylesheet%22%20href%3D%22https%3A//maxcdn.bootstrapcdn.com/font-awesome/4.6.3/css/font-awesome.min.css%22/%3E%0A%20%20%20%20%3Clink%20rel%3D%22stylesheet%22%20href%3D%22https%3A//cdnjs.cloudflare.com/ajax/libs/Leaflet.awesome-markers/2.0.2/leaflet.awesome-markers.css%22/%3E%0A%20%20%20%20%3Clink%20rel%3D%22stylesheet%22%20href%3D%22https%3A//rawcdn.githack.com/python-visualization/folium/master/folium/templates/leaflet.awesome.rotate.css%22/%3E%0A%20%20%20%20%3Cstyle%3Ehtml%2C%20body%20%7Bwidth%3A%20100%25%3Bheight%3A%20100%25%3Bmargin%3A%200%3Bpadding%3A%200%3B%7D%3C/style%3E%0A%20%20%20%20%3Cstyle%3E%23map%20%7Bposition%3Aabsolute%3Btop%3A0%3Bbottom%3A0%3Bright%3A0%3Bleft%3A0%3B%7D%3C/style%3E%0A%20%20%20%20%0A%20%20%20%20%3Cmeta%20name%3D%22viewport%22%20content%3D%22width%3Ddevice-width%2C%0A%20%20%20%20%20%20%20%20initial-scale%3D1.0%2C%20maximum-scale%3D1.0%2C%20user-scalable%3Dno%22%20/%3E%0A%20%20%20%20%3Cstyle%3E%23map_ac22868012a24b1992b2cd10ecf0937c%20%7B%0A%20%20%20%20%20%20%20%20position%3A%20relative%3B%0A%20%20%20%20%20%20%20%20width%3A%20100.0%25%3B%0A%20%20%20%20%20%20%20%20height%3A%20100.0%25%3B%0A%20%20%20%20%20%20%20%20left%3A%200.0%25%3B%0A%20%20%20%20%20%20%20%20top%3A%200.0%25%3B%0A%20%20%20%20%20%20%20%20%7D%0A%20%20%20%20%3C/style%3E%0A%20%20%20%20%3Cscript%20src%3D%22https%3A//leaflet.github.io/Leaflet.heat/dist/leaflet-heat.js%22%3E%3C/script%3E%0A%3C/head%3E%0A%3Cbody%3E%20%20%20%20%0A%20%20%20%20%0A%20%20%20%20%3Cdiv%20class%3D%22folium-map%22%20id%3D%22map_ac22868012a24b1992b2cd10ecf0937c%22%20%3E%3C/div%3E%0A%3C/body%3E%0A%3Cscript%3E%20%20%20%20%0A%20%20%20%20%0A%20%20%20%20%0A%20%20%20%20%20%20%20%20var%20bounds%20%3D%20null%3B%0A%20%20%20%20%0A%0A%20%20%20%20var%20map_ac22868012a24b1992b2cd10ecf0937c%20%3D%20L.map%28%0A%20%20%20%20%20%20%20%20%27map_ac22868012a24b1992b2cd10ecf0937c%27%2C%20%7B%0A%20%20%20%20%20%20%20%20center%3A%20%5B-23.5028441%2C%20-47.4335729%5D%2C%0A%20%20%20%20%20%20%20%20zoom%3A%2012%2C%0A%20%20%20%20%20%20%20%20maxBounds%3A%20bounds%2C%0A%20%20%20%20%20%20%20%20layers%3A%20%5B%5D%2C%0A%20%20%20%20%20%20%20%20worldCopyJump%3A%20false%2C%0A%20%20%20%20%20%20%20%20crs%3A%20L.CRS.EPSG3857%2C%0A%20%20%20%20%20%20%20%20zoomControl%3A%20true%2C%0A%20%20%20%20%20%20%20%20%7D%29%3B%0A%0A%0A%20%20%20%20%0A%20%20%20%20var%20tile_layer_a6fd37cd136c483fa850f9926a52f119%20%3D%20L.tileLayer%28%0A%20%20%20%20%20%20%20%20%27https%3A//%7Bs%7D.tile.openstreetmap.org/%7Bz%7D/%7Bx%7D/%7By%7D.png%27%2C%0A%20%20%20%20%20%20%20%20%7B%0A%20%20%20%20%20%20%20%20%22attribution%22%3A%20null%2C%0A%20%20%20%20%20%20%20%20%22detectRetina%22%3A%20false%2C%0A%20%20%20%20%20%20%20%20%22maxNativeZoom%22%3A%2018%2C%0A%20%20%20%20%20%20%20%20%22maxZoom%22%3A%2018%2C%0A%20%20%20%20%20%20%20%20%22minZoom%22%3A%200%2C%0A%20%20%20%20%20%20%20%20%22noWrap%22%3A%20false%2C%0A%20%20%20%20%20%20%20%20%22opacity%22%3A%201%2C%0A%20%20%20%20%20%20%20%20%22subdomains%22%3A%20%22abc%22%2C%0A%20%20%20%20%20%20%20%20%22tms%22%3A%20false%0A%7D%29.addTo%28map_ac22868012a24b1992b2cd10ecf0937c%29%3B%0A%20%20%20%20%0A%20%20%20%20%20%20%20%20%20%20%20%20var%20heat_map_a80488747f7748aabc978094da926a0e%20%3D%20L.heatLayer%28%0A%20%20%20%20%20%20%20%20%20%20%20%20%20%20%20%20%5B%5B-23.4453421%2C%20-47.4561804%5D%2C%20%5B-23.4995066%2C%20-47.4304281%5D%2C%20%5B-23.4995066%2C%20-47.4304281%5D%2C%20%5B-23.4948469%2C%20-47.4288321%5D%2C%20%5B-23.4958331%2C%20-47.429457%5D%2C%20%5B-23.4958331%2C%20-47.429457%5D%2C%20%5B-23.4789069%2C%20-47.4458224%5D%2C%20%5B-23.4776374%2C%20-47.416259%5D%2C%20%5B-23.5070958%2C%20-47.4613936%5D%2C%20%5B-23.4958331%2C%20-47.429457%5D%2C%20%5B-23.5157219%2C%20-47.4382419%5D%2C%20%5B-23.4988822%2C%20-47.4390821%5D%2C%20%5B-23.498359%2C%20-47.4267106%5D%2C%20%5B-23.4938766%2C%20-47.4393884%5D%2C%20%5B-23.4946111%2C%20-47.4205505%5D%2C%20%5B-23.4972918%2C%20-47.4296285%5D%2C%20%5B-23.5096651%2C%20-47.4269136%5D%2C%20%5B-23.4923003%2C%20-47.4112293%5D%2C%20%5B-23.5043899%2C%20-47.4472155%5D%2C%20%5B-23.4663209%2C%20-47.4337119%5D%2C%20%5B-23.5061609%2C%20-47.4930295%5D%2C%20%5B-23.4415006%2C%20-47.4233561%5D%2C%20%5B-23.4958331%2C%20-47.429457%5D%2C%20%5B-23.4958331%2C%20-47.429457%5D%2C%20%5B-23.507057%2C%20-47.4459756%5D%2C%20%5B-23.5081402%2C%20-47.4714682%5D%2C%20%5B-23.508342%2C%20-47.4376906%5D%2C%20%5B-23.5039298%2C%20-47.4251333%5D%2C%20%5B-23.4948469%2C%20-47.4288321%5D%2C%20%5B-23.4426629%2C%20-47.4731855%5D%2C%20%5B-23.478948%2C%20-47.435512%5D%2C%20%5B-23.478948%2C%20-47.435512%5D%2C%20%5B-23.4907698%2C%20-47.4301951%5D%2C%20%5B-23.5340941%2C%20-47.4888027%5D%2C%20%5B-23.4967002%2C%20-47.441533%5D%2C%20%5B-23.5096651%2C%20-47.4269136%5D%2C%20%5B-23.502865%2C%20-47.4153548%5D%2C%20%5B-23.4940881%2C%20-47.41838%5D%2C%20%5B-23.4903228%2C%20-47.4113638%5D%2C%20%5B-23.5032063%2C%20-47.4287075%5D%2C%20%5B-23.4958331%2C%20-47.429457%5D%2C%20%5B-23.4764792%2C%20-47.4269642%5D%2C%20%5B-23.4501203%2C%20-47.4596889%5D%2C%20%5B-23.4764792%2C%20-47.4269642%5D%2C%20%5B-23.4501203%2C%20-47.4596889%5D%2C%20%5B-23.4940881%2C%20-47.41838%5D%2C%20%5B-23.4923003%2C%20-47.4112293%5D%2C%20%5B-23.5171338%2C%20-47.4637441%5D%2C%20%5B-23.5171338%2C%20-47.4637441%5D%2C%20%5B-23.4715819%2C%20-47.4443671%5D%2C%20%5B-23.4907698%2C%20-47.4301951%5D%2C%20%5B-23.4791496%2C%20-47.4161101%5D%2C%20%5B-23.5077636%2C%20-47.4906653%5D%2C%20%5B-23.4937893%2C%20-47.4326931%5D%2C%20%5B-23.4578804%2C%20-47.4777923%5D%2C%20%5B-23.471781%2C%20-47.4878853%5D%2C%20%5B-23.5079094%2C%20-47.4292794%5D%2C%20%5B-23.4791496%2C%20-47.4161101%5D%2C%20%5B-23.4728557%2C%20-47.429356%5D%2C%20%5B-23.493797%2C%20-47.4072402%5D%2C%20%5B-23.4958331%2C%20-47.429457%5D%2C%20%5B-23.4928557%2C%20-47.4395241%5D%2C%20%5B-23.4961564%2C%20-47.4253742%5D%2C%20%5B-23.4501203%2C%20-47.4596889%5D%2C%20%5B-23.4728557%2C%20-47.429356%5D%2C%20%5B-23.498359%2C%20-47.4267106%5D%2C%20%5B-23.508342%2C%20-47.4376906%5D%2C%20%5B-23.4995066%2C%20-47.4304281%5D%2C%20%5B-23.5320589%2C%20-47.4976299%5D%2C%20%5B-23.4907698%2C%20-47.4301951%5D%2C%20%5B-23.507057%2C%20-47.4459756%5D%2C%20%5B-23.4988415%2C%20-47.4689608%5D%2C%20%5B-23.4948469%2C%20-47.4288321%5D%2C%20%5B-23.4919492%2C%20-47.4158162%5D%2C%20%5B-23.4826485%2C%20-47.4047095%5D%2C%20%5B-23.4952278%2C%20-47.4280218%5D%2C%20%5B-23.4874912%2C%20-47.4056971%5D%2C%20%5B-23.4989325%2C%20-47.4278245%5D%2C%20%5B-23.5096651%2C%20-47.4269136%5D%2C%20%5B-23.4542907%2C%20-47.4514528%5D%2C%20%5B-23.4936476%2C%20-47.4245303%5D%2C%20%5B-23.483928%2C%20-47.4589993%5D%2C%20%5B-23.4791496%2C%20-47.4161101%5D%2C%20%5B-23.4764792%2C%20-47.4269642%5D%2C%20%5B-23.5047759%2C%20-47.4485801%5D%2C%20%5B-23.483928%2C%20-47.4589993%5D%2C%20%5B-23.4826485%2C%20-47.4047095%5D%2C%20%5B-23.4914915%2C%20-47.4188662%5D%2C%20%5B-23.4940881%2C%20-47.41838%5D%2C%20%5B-23.5083184%2C%20-47.4757051%5D%2C%20%5B-23.4843392%2C%20-47.4141196%5D%2C%20%5B-23.4820675%2C%20-47.4254607%5D%2C%20%5B-23.5186122%2C%20-47.4387757%5D%2C%20%5B-23.5051648%2C%20-47.4220092%5D%2C%20%5B-23.507057%2C%20-47.4459756%5D%2C%20%5B-23.5081402%2C%20-47.4714682%5D%2C%20%5B-23.4907698%2C%20-47.4301951%5D%2C%20%5B-23.4948469%2C%20-47.4288321%5D%2C%20%5B-23.508342%2C%20-47.4376906%5D%2C%20%5B-23.446871%2C%20-47.4481971%5D%2C%20%5B-23.4907698%2C%20-47.4301951%5D%2C%20%5B-23.4936476%2C%20-47.4245303%5D%2C%20%5B-23.4785847%2C%20-47.4334242%5D%2C%20%5B-23.4715819%2C%20-47.4443671%5D%2C%20%5B-23.4948483%2C%20-47.4718414%5D%2C%20%5B-23.4791496%2C%20-47.4161101%5D%2C%20%5B-23.4542907%2C%20-47.4514528%5D%2C%20%5B-23.4812829%2C%20-47.4719006%5D%2C%20%5B-23.4453421%2C%20-47.4561804%5D%2C%20%5B-23.4453421%2C%20-47.4561804%5D%2C%20%5B-23.483928%2C%20-47.4589993%5D%2C%20%5B-23.4834523%2C%20-47.4465456%5D%2C%20%5B-23.4889746%2C%20-47.4037232%5D%2C%20%5B-23.4958331%2C%20-47.429457%5D%2C%20%5B-23.4941582%2C%20-47.4259102%5D%2C%20%5B-23.5001854%2C%20-47.4720816%5D%2C%20%5B-23.4903228%2C%20-47.4113638%5D%2C%20%5B-23.4995066%2C%20-47.4304281%5D%2C%20%5B-23.503978%2C%20-47.4657699%5D%2C%20%5B-23.4958331%2C%20-47.429457%5D%2C%20%5B-23.4995066%2C%20-47.4304281%5D%2C%20%5B-23.4907698%2C%20-47.4301951%5D%2C%20%5B-23.4907698%2C%20-47.4301951%5D%2C%20%5B-23.5164294%2C%20-47.4635967%5D%2C%20%5B-23.53283%2C%20-47.4700613%5D%2C%20%5B-23.483928%2C%20-47.4589993%5D%2C%20%5B-23.4826485%2C%20-47.4047095%5D%2C%20%5B-23.4995066%2C%20-47.4304281%5D%2C%20%5B-23.5096651%2C%20-47.4269136%5D%2C%20%5B-23.463314%2C%20-47.4688286%5D%2C%20%5B-23.4929056%2C%20-47.3980459%5D%2C%20%5B-23.4715819%2C%20-47.4443671%5D%2C%20%5B-23.4995066%2C%20-47.4304281%5D%2C%20%5B-23.5012033%2C%20-47.4570424%5D%2C%20%5B-23.5046247%2C%20-47.4345884%5D%2C%20%5B-23.5411381%2C%20-47.4593058%5D%2C%20%5B-23.5046247%2C%20-47.4345884%5D%2C%20%5B-23.5008747%2C%20-47.4378566%5D%2C%20%5B-23.5170386%2C%20-47.4850509%5D%2C%20%5B-23.4923003%2C%20-47.4112293%5D%2C%20%5B-23.4881678%2C%20-47.4510315%5D%2C%20%5B-23.5083697%2C%20-47.4700337%5D%2C%20%5B-23.5083697%2C%20-47.4700337%5D%2C%20%5B-23.4494136%2C%20-47.4528701%5D%2C%20%5B-23.5083697%2C%20-47.4700337%5D%2C%20%5B-23.4450614%2C%20-47.4172584%5D%2C%20%5B-23.4961564%2C%20-47.4253742%5D%2C%20%5B-23.5039298%2C%20-47.4251333%5D%2C%20%5B-23.507057%2C%20-47.4459756%5D%2C%20%5B-23.4873213%2C%20-47.4419011%5D%2C%20%5B-23.4501203%2C%20-47.4596889%5D%2C%20%5B-23.4415006%2C%20-47.4233561%5D%2C%20%5B-23.4958331%2C%20-47.429457%5D%2C%20%5B-23.5051648%2C%20-47.4220092%5D%2C%20%5B-23.502865%2C%20-47.4153548%5D%2C%20%5B-23.4791496%2C%20-47.4161101%5D%2C%20%5B-23.4958331%2C%20-47.429457%5D%2C%20%5B-23.5072873%2C%20-47.4303505%5D%2C%20%5B-23.4948469%2C%20-47.4288321%5D%2C%20%5B-23.4907698%2C%20-47.4301951%5D%2C%20%5B-23.4764792%2C%20-47.4269642%5D%2C%20%5B-23.5088909%2C%20-47.4317636%5D%2C%20%5B-23.4715819%2C%20-47.4443671%5D%2C%20%5B-23.5325862%2C%20-47.4670877%5D%2C%20%5B-23.4863168%2C%20-47.4571605%5D%2C%20%5B-23.5083184%2C%20-47.4757051%5D%2C%20%5B-23.4874912%2C%20-47.4056971%5D%2C%20%5B-23.5096651%2C%20-47.4269136%5D%2C%20%5B-23.5061465%2C%20-47.4435426%5D%2C%20%5B-23.5088909%2C%20-47.4317636%5D%2C%20%5B-23.4715819%2C%20-47.4443671%5D%2C%20%5B-23.5325862%2C%20-47.4670877%5D%2C%20%5B-23.4863168%2C%20-47.4571605%5D%2C%20%5B-23.5584647%2C%20-47.4806066%5D%2C%20%5B-23.5081402%2C%20-47.4714682%5D%2C%20%5B-23.5083184%2C%20-47.4757051%5D%2C%20%5B-23.4874912%2C%20-47.4056971%5D%2C%20%5B-23.5096651%2C%20-47.4269136%5D%2C%20%5B-23.5061465%2C%20-47.4435426%5D%2C%20%5B-23.493618%2C%20-47.418873%5D%2C%20%5B-23.5458282%2C%20-47.4670805%5D%2C%20%5B-23.5584647%2C%20-47.4806066%5D%2C%20%5B-23.5012033%2C%20-47.4570424%5D%2C%20%5B-23.4789069%2C%20-47.4458224%5D%2C%20%5B-23.463314%2C%20-47.4688286%5D%2C%20%5B-23.4834523%2C%20-47.4465456%5D%2C%20%5B-23.5406983%2C%20-47.4149132%5D%2C%20%5B-23.4728557%2C%20-47.429356%5D%2C%20%5B-23.4907698%2C%20-47.4301951%5D%2C%20%5B-23.5079094%2C%20-47.4292794%5D%2C%20%5B-23.4415006%2C%20-47.4233561%5D%2C%20%5B-23.4958331%2C%20-47.429457%5D%2C%20%5B-23.4843392%2C%20-47.4141196%5D%2C%20%5B-23.5051648%2C%20-47.4220092%5D%2C%20%5B-23.4789069%2C%20-47.4458224%5D%2C%20%5B-23.4907698%2C%20-47.4301951%5D%2C%20%5B-23.483928%2C%20-47.4589993%5D%2C%20%5B-23.4789069%2C%20-47.4458224%5D%2C%20%5B-23.4995066%2C%20-47.4304281%5D%2C%20%5B-23.4501203%2C%20-47.4596889%5D%2C%20%5B-23.5176015%2C%20-47.4715664%5D%2C%20%5B-23.4758087%2C%20-47.446665%5D%2C%20%5B-23.5081402%2C%20-47.4714682%5D%2C%20%5B-23.5008747%2C%20-47.4378566%5D%2C%20%5B-23.4715819%2C%20-47.4443671%5D%2C%20%5B-23.4990271%2C%20-47.4302293%5D%2C%20%5B-23.4764792%2C%20-47.4269642%5D%2C%20%5B-23.4791496%2C%20-47.4161101%5D%2C%20%5B-23.5096651%2C%20-47.4269136%5D%2C%20%5B-23.5012033%2C%20-47.4570424%5D%2C%20%5B-23.4958331%2C%20-47.429457%5D%2C%20%5B-23.4972918%2C%20-47.4296285%5D%2C%20%5B-23.4903228%2C%20-47.4113638%5D%2C%20%5B-23.4938766%2C%20-47.4393884%5D%2C%20%5B-23.5096651%2C%20-47.4269136%5D%2C%20%5B-23.4958331%2C%20-47.429457%5D%2C%20%5B-23.4951542%2C%20-47.4252976%5D%2C%20%5B-23.4872734%2C%20-47.4063118%5D%2C%20%5B-23.529889%2C%20-47.4847231%5D%2C%20%5B-23.5022903%2C%20-47.4738656%5D%2C%20%5B-23.5022903%2C%20-47.4738656%5D%2C%20%5B-23.5081402%2C%20-47.4714682%5D%2C%20%5B-23.5008747%2C%20-47.4378566%5D%2C%20%5B-23.4715819%2C%20-47.4443671%5D%2C%20%5B-23.4990271%2C%20-47.4302293%5D%2C%20%5B-23.4764792%2C%20-47.4269642%5D%2C%20%5B-23.4791496%2C%20-47.4161101%5D%2C%20%5B-23.5012033%2C%20-47.4570424%5D%2C%20%5B-23.4958331%2C%20-47.429457%5D%2C%20%5B-23.4972918%2C%20-47.4296285%5D%2C%20%5B-23.4903228%2C%20-47.4113638%5D%2C%20%5B-23.4938766%2C%20-47.4393884%5D%2C%20%5B-23.4872734%2C%20-47.4063118%5D%2C%20%5B-23.4958331%2C%20-47.429457%5D%2C%20%5B-23.4951542%2C%20-47.4252976%5D%2C%20%5B-23.529889%2C%20-47.4847231%5D%2C%20%5B-23.5022903%2C%20-47.4738656%5D%2C%20%5B-23.5022903%2C%20-47.4738656%5D%2C%20%5B-23.4753031%2C%20-47.4554645%5D%2C%20%5B-23.4922199%2C%20-47.4219287%5D%2C%20%5B-23.4776374%2C%20-47.416259%5D%2C%20%5B-23.4989226%2C%20-47.462124%5D%2C%20%5B-23.4958331%2C%20-47.429457%5D%2C%20%5B-23.5096651%2C%20-47.4269136%5D%2C%20%5B-23.5458282%2C%20-47.4670805%5D%2C%20%5B-23.5083184%2C%20-47.4757051%5D%2C%20%5B-23.5320589%2C%20-47.4976299%5D%2C%20%5B-23.5122055%2C%20-47.4795892%5D%2C%20%5B-23.483928%2C%20-47.4589993%5D%2C%20%5B-23.5083763%2C%20-47.4255274%5D%2C%20%5B-23.5081402%2C%20-47.4714682%5D%2C%20%5B-23.5088909%2C%20-47.4317636%5D%2C%20%5B-23.4995066%2C%20-47.4304281%5D%2C%20%5B-23.5084281%2C%20-47.4579077%5D%2C%20%5B-23.4948469%2C%20-47.4288321%5D%2C%20%5B-23.4923003%2C%20-47.4112293%5D%2C%20%5B-23.4715819%2C%20-47.4443671%5D%2C%20%5B-23.5051648%2C%20-47.4220092%5D%2C%20%5B-23.4958331%2C%20-47.429457%5D%2C%20%5B-23.4542907%2C%20-47.4514528%5D%2C%20%5B-23.5083184%2C%20-47.4757051%5D%2C%20%5B-23.4791496%2C%20-47.4161101%5D%2C%20%5B-23.5039298%2C%20-47.4251333%5D%2C%20%5B-23.5115574%2C%20-47.4911894%5D%2C%20%5B-23.5084281%2C%20-47.4579077%5D%2C%20%5B-23.4958331%2C%20-47.429457%5D%2C%20%5B-23.4995066%2C%20-47.4304281%5D%2C%20%5B-23.5241393%2C%20-47.4550302%5D%2C%20%5B-23.540286%2C%20-47.4445978%5D%2C%20%5B-23.4889746%2C%20-47.4037232%5D%2C%20%5B-23.4791496%2C%20-47.4161101%5D%2C%20%5B-23.5008747%2C%20-47.4378566%5D%2C%20%5B-23.5322472%2C%20-47.4292794%5D%2C%20%5B-23.4995066%2C%20-47.4304281%5D%2C%20%5B-23.4953305%2C%20-47.4338742%5D%2C%20%5B-23.4995066%2C%20-47.4304281%5D%2C%20%5B-23.4791496%2C%20-47.4161101%5D%2C%20%5B-23.4791496%2C%20-47.4161101%5D%2C%20%5B-23.4663209%2C%20-47.4337119%5D%2C%20%5B-23.4958331%2C%20-47.429457%5D%2C%20%5B-23.5165954%2C%20-47.4768547%5D%2C%20%5B-23.483928%2C%20-47.4589993%5D%2C%20%5B-23.4958331%2C%20-47.429457%5D%2C%20%5B-23.4902929%2C%20-47.4108111%5D%2C%20%5B-23.4826485%2C%20-47.4047095%5D%2C%20%5B-23.5083184%2C%20-47.4757051%5D%2C%20%5B-23.4953305%2C%20-47.4338742%5D%2C%20%5B-23.493618%2C%20-47.418873%5D%2C%20%5B-23.5067691%2C%20-47.423982%5D%2C%20%5B-23.5094647%2C%20-47.4240725%5D%2C%20%5B-23.4995066%2C%20-47.4304281%5D%2C%20%5B-23.4715819%2C%20-47.4443671%5D%2C%20%5B-23.4799174%2C%20-47.4340859%5D%2C%20%5B-23.4907698%2C%20-47.4301951%5D%2C%20%5B-23.4995066%2C%20-47.4304281%5D%2C%20%5B-23.4995066%2C%20-47.4304281%5D%2C%20%5B-23.507057%2C%20-47.4459756%5D%2C%20%5B-23.4889746%2C%20-47.4037232%5D%2C%20%5B-23.5096651%2C%20-47.4269136%5D%2C%20%5B-23.5483543%2C%20-47.4752855%5D%2C%20%5B-23.4764792%2C%20-47.4269642%5D%2C%20%5B-23.4958331%2C%20-47.429457%5D%2C%20%5B-23.502865%2C%20-47.4153548%5D%2C%20%5B-23.4948469%2C%20-47.4288321%5D%2C%20%5B-23.5008747%2C%20-47.4378566%5D%2C%20%5B-23.4826485%2C%20-47.4047095%5D%2C%20%5B-23.5039298%2C%20-47.4251333%5D%2C%20%5B-23.4729601%2C%20-47.4394067%5D%2C%20%5B-23.4868505%2C%20-47.4403031%5D%2C%20%5B-23.4715819%2C%20-47.4443671%5D%2C%20%5B-23.5039298%2C%20-47.4251333%5D%2C%20%5B-23.4877398%2C%20-47.5112824%5D%2C%20%5B-23.4789069%2C%20-47.4458224%5D%2C%20%5B-23.483928%2C%20-47.4589993%5D%2C%20%5B-23.5012033%2C%20-47.4570424%5D%2C%20%5B-23.4889746%2C%20-47.4037232%5D%2C%20%5B-23.4958331%2C%20-47.429457%5D%2C%20%5B-23.5087363%2C%20-47.4427354%5D%2C%20%5B-23.5275342%2C%20-47.4666201%5D%2C%20%5B-23.4356395%2C%20-47.4804231%5D%2C%20%5B-23.5008747%2C%20-47.4378566%5D%2C%20%5B-23.4979776%2C%20-47.4274416%5D%2C%20%5B-23.5087363%2C%20-47.4427354%5D%2C%20%5B-23.5012033%2C%20-47.4570424%5D%2C%20%5B-23.5210413%2C%20-47.4630735%5D%2C%20%5B-23.4907698%2C%20-47.4301951%5D%2C%20%5B-23.483928%2C%20-47.4589993%5D%2C%20%5B-23.4958331%2C%20-47.429457%5D%2C%20%5B-23.4542907%2C%20-47.4514528%5D%2C%20%5B-23.5180018%2C%20-47.4530326%5D%2C%20%5B-23.4958331%2C%20-47.429457%5D%2C%20%5B-23.5088909%2C%20-47.4317636%5D%2C%20%5B-23.5126099%2C%20-47.4453385%5D%2C%20%5B-23.5052091%2C%20-47.4409203%5D%2C%20%5B-23.4947356%2C%20-47.4243742%5D%2C%20%5B-23.4826485%2C%20-47.4047095%5D%2C%20%5B-23.5061465%2C%20-47.4435426%5D%2C%20%5B-23.4785847%2C%20-47.4334242%5D%2C%20%5B-23.4948469%2C%20-47.4288321%5D%2C%20%5B-23.4923003%2C%20-47.4112293%5D%2C%20%5B-23.4791496%2C%20-47.4161101%5D%2C%20%5B-23.4791496%2C%20-47.4161101%5D%2C%20%5B-23.4958331%2C%20-47.429457%5D%2C%20%5B-23.4907698%2C%20-47.4301951%5D%2C%20%5B-23.4789888%2C%20-47.4110604%5D%2C%20%5B-23.4415006%2C%20-47.4233561%5D%2C%20%5B-23.5039298%2C%20-47.4251333%5D%2C%20%5B-23.4958331%2C%20-47.429457%5D%2C%20%5B-23.4907698%2C%20-47.4301951%5D%2C%20%5B-23.4948469%2C%20-47.4288321%5D%2C%20%5B-23.4958331%2C%20-47.429457%5D%2C%20%5B-23.540286%2C%20-47.4445978%5D%2C%20%5B-23.5008747%2C%20-47.4378566%5D%2C%20%5B-23.5176015%2C%20-47.4715664%5D%2C%20%5B-23.4958331%2C%20-47.429457%5D%2C%20%5B-23.5270584%2C%20-47.4991802%5D%2C%20%5B-23.5083184%2C%20-47.4757051%5D%2C%20%5B-23.4914915%2C%20-47.4188662%5D%2C%20%5B-23.516532%2C%20-47.4415112%5D%2C%20%5B-23.4907698%2C%20-47.4301951%5D%2C%20%5B-23.540286%2C%20-47.4445978%5D%2C%20%5B-23.4764792%2C%20-47.4269642%5D%2C%20%5B-23.4948469%2C%20-47.4288321%5D%2C%20%5B-23.507057%2C%20-47.4459756%5D%2C%20%5B-23.4213702%2C%20-47.4102155%5D%2C%20%5B-23.4948469%2C%20-47.4288321%5D%2C%20%5B-23.5008747%2C%20-47.4378566%5D%2C%20%5B-23.4789888%2C%20-47.4110604%5D%2C%20%5B-23.5047759%2C%20-47.4485801%5D%2C%20%5B-23.4843392%2C%20-47.4141196%5D%2C%20%5B-23.4663209%2C%20-47.4337119%5D%2C%20%5B-23.4843392%2C%20-47.4141196%5D%2C%20%5B-23.4868505%2C%20-47.4403031%5D%2C%20%5B-23.483928%2C%20-47.4589993%5D%2C%20%5B-23.5039298%2C%20-47.4251333%5D%2C%20%5B-23.4979776%2C%20-47.4274416%5D%2C%20%5B-23.4826485%2C%20-47.4047095%5D%2C%20%5B-23.4958331%2C%20-47.429457%5D%2C%20%5B-23.5458282%2C%20-47.4670805%5D%2C%20%5B-23.4989325%2C%20-47.4278245%5D%2C%20%5B-23.4786295%2C%20-47.433429%5D%2C%20%5B-23.4958331%2C%20-47.429457%5D%2C%20%5B-23.4948469%2C%20-47.4288321%5D%2C%20%5B-23.5072034%2C%20-47.4274577%5D%2C%20%5B-23.4889746%2C%20-47.4037232%5D%2C%20%5B-23.5083184%2C%20-47.4757051%5D%2C%20%5B-23.5083184%2C%20-47.4757051%5D%2C%20%5B-23.5584647%2C%20-47.4806066%5D%2C%20%5B-23.5083184%2C%20-47.4757051%5D%2C%20%5B-23.5083184%2C%20-47.4757051%5D%2C%20%5B-23.4889746%2C%20-47.4037232%5D%2C%20%5B-23.5584647%2C%20-47.4806066%5D%2C%20%5B-23.5320589%2C%20-47.4976299%5D%2C%20%5B-23.5584647%2C%20-47.4806066%5D%2C%20%5B-23.5320589%2C%20-47.4976299%5D%2C%20%5B-23.5059782%2C%20-47.5160199%5D%2C%20%5B-23.4715819%2C%20-47.4443671%5D%2C%20%5B-23.5584647%2C%20-47.4806066%5D%2C%20%5B-23.4948469%2C%20-47.4288321%5D%2C%20%5B-23.483928%2C%20-47.4589993%5D%2C%20%5B-23.5008747%2C%20-47.4378566%5D%2C%20%5B-23.5008747%2C%20-47.4378566%5D%2C%20%5B-23.4663209%2C%20-47.4337119%5D%2C%20%5B-23.4958331%2C%20-47.429457%5D%2C%20%5B-23.4984674%2C%20-47.4262165%5D%2C%20%5B-23.5210413%2C%20-47.4630735%5D%2C%20%5B-23.5584647%2C%20-47.4806066%5D%2C%20%5B-23.5320589%2C%20-47.4976299%5D%2C%20%5B-23.5059782%2C%20-47.5160199%5D%2C%20%5B-23.4715819%2C%20-47.4443671%5D%2C%20%5B-23.5584647%2C%20-47.4806066%5D%2C%20%5B-23.4948469%2C%20-47.4288321%5D%2C%20%5B-23.483928%2C%20-47.4589993%5D%2C%20%5B-23.5008747%2C%20-47.4378566%5D%2C%20%5B-23.5008747%2C%20-47.4378566%5D%2C%20%5B-23.4663209%2C%20-47.4337119%5D%2C%20%5B-23.4958331%2C%20-47.429457%5D%2C%20%5B-23.4984674%2C%20-47.4262165%5D%2C%20%5B-23.5210413%2C%20-47.4630735%5D%2C%20%5B-23.4889746%2C%20-47.4037232%5D%2C%20%5B-23.4896928%2C%20-47.4561067%5D%2C%20%5B-23.4820675%2C%20-47.4254607%5D%2C%20%5B-23.4494136%2C%20-47.4528701%5D%2C%20%5B-23.4958331%2C%20-47.429457%5D%2C%20%5B-23.4907698%2C%20-47.4301951%5D%2C%20%5B-23.498359%2C%20-47.4267106%5D%2C%20%5B-23.4995066%2C%20-47.4304281%5D%2C%20%5B-23.5084281%2C%20-47.4579077%5D%2C%20%5B-23.5061465%2C%20-47.4435426%5D%2C%20%5B-23.5210413%2C%20-47.4630735%5D%2C%20%5B-23.5062012%2C%20-47.439848%5D%2C%20%5B-23.5083184%2C%20-47.4757051%5D%2C%20%5B-23.502865%2C%20-47.4153548%5D%2C%20%5B-23.5039298%2C%20-47.4251333%5D%2C%20%5B-23.5325862%2C%20-47.4670877%5D%2C%20%5B-23.5043899%2C%20-47.4472155%5D%2C%20%5B-23.5399878%2C%20-47.4732164%5D%2C%20%5B-23.4826485%2C%20-47.4047095%5D%2C%20%5B-23.516532%2C%20-47.4415112%5D%2C%20%5B-23.5399878%2C%20-47.4732164%5D%2C%20%5B-23.4844833%2C%20-47.4134307%5D%2C%20%5B-23.4995066%2C%20-47.4304281%5D%2C%20%5B-23.5062012%2C%20-47.439848%5D%2C%20%5B-23.4889746%2C%20-47.4037232%5D%2C%20%5B-23.5083184%2C%20-47.4757051%5D%2C%20%5B-23.5098151%2C%20-47.4295857%5D%2C%20%5B-23.5394773%2C%20-47.4527309%5D%2C%20%5B-23.5325862%2C%20-47.4670877%5D%2C%20%5B-23.5043899%2C%20-47.4472155%5D%2C%20%5B-23.4919492%2C%20-47.4158162%5D%2C%20%5B-23.4995066%2C%20-47.4304281%5D%2C%20%5B-23.4832369%2C%20-47.4679953%5D%2C%20%5B-23.5399878%2C%20-47.4732164%5D%2C%20%5B-23.4826485%2C%20-47.4047095%5D%2C%20%5B-23.516532%2C%20-47.4415112%5D%2C%20%5B-23.4844833%2C%20-47.4134307%5D%2C%20%5B-23.4995066%2C%20-47.4304281%5D%2C%20%5B-23.4889746%2C%20-47.4037232%5D%2C%20%5B-23.5098151%2C%20-47.4295857%5D%2C%20%5B-23.5394773%2C%20-47.4527309%5D%2C%20%5B-23.4919492%2C%20-47.4158162%5D%2C%20%5B-23.4995066%2C%20-47.4304281%5D%2C%20%5B-23.4832369%2C%20-47.4679953%5D%2C%20%5B-23.4889746%2C%20-47.4037232%5D%2C%20%5B-23.4951542%2C%20-47.4252976%5D%2C%20%5B-23.5399878%2C%20-47.4732164%5D%2C%20%5B-23.4501203%2C%20-47.4596889%5D%2C%20%5B-23.4921941%2C%20-47.4291285%5D%2C%20%5B-23.4791496%2C%20-47.4161101%5D%2C%20%5B-23.5027836%2C%20-47.4255281%5D%2C%20%5B-23.5010027%2C%20-47.440602%5D%2C%20%5B-23.5170386%2C%20-47.4850509%5D%2C%20%5B-23.483928%2C%20-47.4589993%5D%2C%20%5B-23.4840602%2C%20-47.4343471%5D%2C%20%5B-23.518635%2C%20-47.486743%5D%2C%20%5B-23.4676305%2C%20-47.4390821%5D%2C%20%5B-23.507057%2C%20-47.4459756%5D%2C%20%5B-23.4948483%2C%20-47.4718414%5D%2C%20%5B-23.5210413%2C%20-47.4630735%5D%2C%20%5B-23.4928557%2C%20-47.4395241%5D%2C%20%5B-23.4922199%2C%20-47.4219287%5D%2C%20%5B-23.502865%2C%20-47.4153548%5D%2C%20%5B-23.4922199%2C%20-47.4219287%5D%2C%20%5B-23.4907698%2C%20-47.4301951%5D%2C%20%5B-23.493618%2C%20-47.418873%5D%2C%20%5B-23.5294481%2C%20-47.4410827%5D%2C%20%5B-23.4832369%2C%20-47.4679953%5D%2C%20%5B-23.5081402%2C%20-47.4714682%5D%2C%20%5B-23.4791496%2C%20-47.4161101%5D%2C%20%5B-23.4501203%2C%20-47.4596889%5D%2C%20%5B-23.4844833%2C%20-47.4134307%5D%2C%20%5B-23.5076996%2C%20-47.4393884%5D%2C%20%5B-23.4889746%2C%20-47.4037232%5D%2C%20%5B-23.5096651%2C%20-47.4269136%5D%2C%20%5B-23.5022903%2C%20-47.4738656%5D%2C%20%5B-23.5061523%2C%20-47.4234805%5D%2C%20%5B-23.5043899%2C%20-47.4472155%5D%2C%20%5B-23.540286%2C%20-47.4445978%5D%2C%20%5B-23.4826485%2C%20-47.4047095%5D%2C%20%5B-23.4896387%2C%20-47.4473545%5D%2C%20%5B-23.4707696%2C%20-47.4384716%5D%2C%20%5B-23.4947356%2C%20-47.4243742%5D%2C%20%5B-23.4605099891%2C%20-47.4127569%5D%2C%20%5B-23.4676305%2C%20-47.4390821%5D%2C%20%5B-23.5165954%2C%20-47.4768547%5D%2C%20%5B-23.4947389%2C%20-47.432789%5D%2C%20%5B-23.4779292%2C%20-47.3982922%5D%2C%20%5B-23.4919492%2C%20-47.4158162%5D%2C%20%5B-23.4903228%2C%20-47.4113638%5D%2C%20%5B-23.4826485%2C%20-47.4047095%5D%2C%20%5B-23.53418%2C%20-47.4726643%5D%2C%20%5B-23.4907698%2C%20-47.4301951%5D%2C%20%5B-23.4989325%2C%20-47.4278245%5D%2C%20%5B-23.5090209%2C%20-47.4626058%5D%2C%20%5B-23.4958914%2C%20-47.5038072%5D%2C%20%5B-23.5320589%2C%20-47.4976299%5D%2C%20%5B-23.483928%2C%20-47.4589993%5D%2C%20%5B-23.483928%2C%20-47.4589993%5D%2C%20%5B-23.483928%2C%20-47.4589993%5D%2C%20%5B-23.5088909%2C%20-47.4317636%5D%2C%20%5B-23.4840602%2C%20-47.4343471%5D%2C%20%5B-23.5083184%2C%20-47.4757051%5D%2C%20%5B-23.4853403%2C%20-47.4144102%5D%2C%20%5B-23.4907698%2C%20-47.4301951%5D%2C%20%5B-23.5047759%2C%20-47.4485801%5D%2C%20%5B-23.4542907%2C%20-47.4514528%5D%2C%20%5B-23.5094647%2C%20-47.4240725%5D%2C%20%5B-23.4859768%2C%20-47.4409203%5D%2C%20%5B-23.4958331%2C%20-47.429457%5D%2C%20%5B-23.4580384%2C%20-47.4759386%5D%2C%20%5B-23.4958331%2C%20-47.429457%5D%2C%20%5B-23.4889746%2C%20-47.4037232%5D%2C%20%5B-23.5039298%2C%20-47.4251333%5D%2C%20%5B-23.4834523%2C%20-47.4465456%5D%2C%20%5B-23.4874912%2C%20-47.4056971%5D%2C%20%5B-23.4995066%2C%20-47.4304281%5D%2C%20%5B-23.4907698%2C%20-47.4301951%5D%2C%20%5B-23.5083184%2C%20-47.4757051%5D%2C%20%5B-23.4961564%2C%20-47.4253742%5D%2C%20%5B-23.4958331%2C%20-47.429457%5D%2C%20%5B-23.4979776%2C%20-47.4274416%5D%2C%20%5B-23.4955386%2C%20-47.4100543%5D%2C%20%5B-23.4889746%2C%20-47.4037232%5D%2C%20%5B-23.5096651%2C%20-47.4269136%5D%2C%20%5B-23.5039298%2C%20-47.4251333%5D%2C%20%5B-23.5088191%2C%20-47.4301983%5D%2C%20%5B-23.5320589%2C%20-47.4976299%5D%2C%20%5B-23.4903228%2C%20-47.4113638%5D%2C%20%5B-23.4356395%2C%20-47.4804231%5D%2C%20%5B-23.4958331%2C%20-47.429457%5D%2C%20%5B-23.4958331%2C%20-47.429457%5D%2C%20%5B-23.4543741%2C%20-47.5023699%5D%2C%20%5B-23.4460627%2C%20-47.4596889%5D%2C%20%5B-23.4822089%2C%20-47.4086207%5D%2C%20%5B-23.4415006%2C%20-47.4233561%5D%2C%20%5B-23.5088191%2C%20-47.4301983%5D%2C%20%5B-23.4826485%2C%20-47.4047095%5D%2C%20%5B-23.4213702%2C%20-47.4102155%5D%2C%20%5B-23.507057%2C%20-47.4459756%5D%2C%20%5B-23.5087363%2C%20-47.4427354%5D%2C%20%5B-23.4791496%2C%20-47.4161101%5D%2C%20%5B-23.4950013%2C%20-47.505656%5D%2C%20%5B-23.4950013%2C%20-47.505656%5D%2C%20%5B-23.5320589%2C%20-47.4976299%5D%2C%20%5B-23.4948469%2C%20-47.4288321%5D%2C%20%5B-23.4543741%2C%20-47.5023699%5D%2C%20%5B-23.4415006%2C%20-47.4233561%5D%2C%20%5B-23.5088191%2C%20-47.4301983%5D%2C%20%5B-23.4889746%2C%20-47.4037232%5D%2C%20%5B-23.5763949%2C%20-47.4682391%5D%2C%20%5B-23.4789069%2C%20-47.4458224%5D%2C%20%5B-23.4889746%2C%20-47.4037232%5D%2C%20%5B-23.5043899%2C%20-47.4472155%5D%2C%20%5B-23.4542907%2C%20-47.4514528%5D%2C%20%5B-23.5039298%2C%20-47.4251333%5D%2C%20%5B-23.4923003%2C%20-47.4112293%5D%2C%20%5B-23.5043899%2C%20-47.4472155%5D%2C%20%5B-23.4542907%2C%20-47.4514528%5D%2C%20%5B-23.5039298%2C%20-47.4251333%5D%2C%20%5B-23.4923003%2C%20-47.4112293%5D%2C%20%5B-23.5039298%2C%20-47.4251333%5D%2C%20%5B-23.4990271%2C%20-47.4302293%5D%2C%20%5B-23.4990271%2C%20-47.4302293%5D%2C%20%5B-23.4923003%2C%20-47.4112293%5D%2C%20%5B-23.4919492%2C%20-47.4158162%5D%2C%20%5B-23.4958331%2C%20-47.429457%5D%2C%20%5B-23.483928%2C%20-47.4589993%5D%2C%20%5B-23.5458282%2C%20-47.4670805%5D%2C%20%5B-23.4853403%2C%20-47.4144102%5D%2C%20%5B-23.5084945%2C%20-47.4964031%5D%2C%20%5B-23.5008747%2C%20-47.4378566%5D%2C%20%5B-23.5039298%2C%20-47.4251333%5D%2C%20%5B-23.5117506%2C%20-47.4272724%5D%2C%20%5B-23.4948469%2C%20-47.4288321%5D%2C%20%5B-23.5012033%2C%20-47.4570424%5D%2C%20%5B-23.5083763%2C%20-47.4255274%5D%2C%20%5B-23.4958331%2C%20-47.429457%5D%2C%20%5B-23.4907698%2C%20-47.4301951%5D%2C%20%5B-23.5117742%2C%20-47.4929595%5D%2C%20%5B-23.4751817%2C%20-47.4451502%5D%2C%20%5B-23.5320589%2C%20-47.4976299%5D%2C%20%5B-23.5210413%2C%20-47.4630735%5D%2C%20%5B-23.4907698%2C%20-47.4301951%5D%2C%20%5B-23.4776374%2C%20-47.416259%5D%2C%20%5B-23.5139138%2C%20-47.4623707%5D%2C%20%5B-23.5117742%2C%20-47.4929595%5D%2C%20%5B-23.5117742%2C%20-47.4929595%5D%2C%20%5B-23.4917731%2C%20-47.4393884%5D%2C%20%5B-23.4543741%2C%20-47.5023699%5D%2C%20%5B-23.4543741%2C%20-47.5023699%5D%2C%20%5B-23.508342%2C%20-47.4376906%5D%2C%20%5B-23.4676305%2C%20-47.4390821%5D%2C%20%5B-23.5008747%2C%20-47.4378566%5D%2C%20%5B-23.5325862%2C%20-47.4670877%5D%2C%20%5B-23.4860465%2C%20-47.4756525%5D%2C%20%5B-23.4764792%2C%20-47.4269642%5D%2C%20%5B-23.4961564%2C%20-47.4253742%5D%2C%20%5B-23.4958331%2C%20-47.429457%5D%2C%20%5B-23.4881747%2C%20-47.4574498%5D%2C%20%5B-23.4881747%2C%20-47.4574498%5D%2C%20%5B-23.4922199%2C%20-47.4219287%5D%2C%20%5B-23.5248825%2C%20-47.4464493%5D%2C%20%5B-23.4923003%2C%20-47.4112293%5D%2C%20%5B-23.4663209%2C%20-47.4337119%5D%2C%20%5B-23.4958331%2C%20-47.429457%5D%2C%20%5B-23.5134556%2C%20-47.4614657%5D%2C%20%5B-23.5248825%2C%20-47.4464493%5D%2C%20%5B-23.4907698%2C%20-47.4301951%5D%2C%20%5B-23.483928%2C%20-47.4589993%5D%2C%20%5B-23.5096651%2C%20-47.4269136%5D%2C%20%5B-23.483928%2C%20-47.4589993%5D%2C%20%5B-23.4904925%2C%20-47.4651292%5D%2C%20%5B-23.5085484%2C%20-47.4302248%5D%2C%20%5B-23.5009594%2C%20-47.4417348%5D%2C%20%5B-23.5008747%2C%20-47.4378566%5D%2C%20%5B-23.5094647%2C%20-47.4240725%5D%2C%20%5B-23.5096651%2C%20-47.4269136%5D%2C%20%5B-23.5008747%2C%20-47.4378566%5D%2C%20%5B-23.4907698%2C%20-47.4301951%5D%2C%20%5B-23.4958331%2C%20-47.429457%5D%2C%20%5B-23.5074155%2C%20-47.4412266%5D%2C%20%5B-23.483928%2C%20-47.4589993%5D%2C%20%5B-23.507057%2C%20-47.4459756%5D%2C%20%5B-23.4995066%2C%20-47.4304281%5D%2C%20%5B-23.4676305%2C%20-47.4390821%5D%2C%20%5B-23.4922199%2C%20-47.4219287%5D%2C%20%5B-23.5008747%2C%20-47.4378566%5D%2C%20%5B-23.4889746%2C%20-47.4037232%5D%2C%20%5B-23.4954875%2C%20-47.4103527%5D%2C%20%5B-23.4826485%2C%20-47.4047095%5D%2C%20%5B-23.4477816%2C%20-47.4517689%5D%2C%20%5B-23.4715819%2C%20-47.4443671%5D%2C%20%5B-23.5088191%2C%20-47.4301983%5D%2C%20%5B-23.4543741%2C%20-47.5023699%5D%2C%20%5B-23.4989325%2C%20-47.4278245%5D%2C%20%5B-23.4948469%2C%20-47.4288321%5D%2C%20%5B-23.4764792%2C%20-47.4269642%5D%2C%20%5B-23.5039298%2C%20-47.4251333%5D%2C%20%5B-23.4919492%2C%20-47.4158162%5D%2C%20%5B-23.5030177%2C%20-47.4478705%5D%2C%20%5B-23.4954875%2C%20-47.4103527%5D%2C%20%5B-23.483928%2C%20-47.4589993%5D%2C%20%5B-23.4995066%2C%20-47.4304281%5D%2C%20%5B-23.5199521%2C%20-47.4809128%5D%2C%20%5B-23.5325862%2C%20-47.4670877%5D%2C%20%5B-23.4889746%2C%20-47.4037232%5D%2C%20%5B-23.4460627%2C%20-47.4596889%5D%2C%20%5B-23.4889746%2C%20-47.4037232%5D%2C%20%5B-23.5205801%2C%20-47.448352%5D%2C%20%5B-23.507057%2C%20-47.4459756%5D%2C%20%5B-23.5088191%2C%20-47.4301983%5D%2C%20%5B-23.4543741%2C%20-47.5023699%5D%2C%20%5B-23.5008747%2C%20-47.4378566%5D%2C%20%5B-23.4676305%2C%20-47.4390821%5D%2C%20%5B-23.4922199%2C%20-47.4219287%5D%2C%20%5B-23.4995066%2C%20-47.4304281%5D%2C%20%5B-23.4477816%2C%20-47.4517689%5D%2C%20%5B-23.4715819%2C%20-47.4443671%5D%2C%20%5B-23.4989325%2C%20-47.4278245%5D%2C%20%5B-23.4948469%2C%20-47.4288321%5D%2C%20%5B-23.4889746%2C%20-47.4037232%5D%2C%20%5B-23.4954875%2C%20-47.4103527%5D%2C%20%5B-23.4826485%2C%20-47.4047095%5D%2C%20%5B-23.4764792%2C%20-47.4269642%5D%2C%20%5B-23.5039298%2C%20-47.4251333%5D%2C%20%5B-23.5030177%2C%20-47.4478705%5D%2C%20%5B-23.4954875%2C%20-47.4103527%5D%2C%20%5B-23.4919492%2C%20-47.4158162%5D%2C%20%5B-23.483928%2C%20-47.4589993%5D%2C%20%5B-23.4995066%2C%20-47.4304281%5D%2C%20%5B-23.5199521%2C%20-47.4809128%5D%2C%20%5B-23.5325862%2C%20-47.4670877%5D%2C%20%5B-23.4889746%2C%20-47.4037232%5D%2C%20%5B-23.4460627%2C%20-47.4596889%5D%2C%20%5B-23.4889746%2C%20-47.4037232%5D%2C%20%5B-23.5205801%2C%20-47.448352%5D%2C%20%5B-23.507057%2C%20-47.4459756%5D%2C%20%5B-23.4889746%2C%20-47.4037232%5D%2C%20%5B-23.4460627%2C%20-47.4596889%5D%2C%20%5B-23.4889746%2C%20-47.4037232%5D%2C%20%5B-23.5205801%2C%20-47.448352%5D%2C%20%5B-23.507057%2C%20-47.4459756%5D%2C%20%5B-23.5008747%2C%20-47.4378566%5D%2C%20%5B-23.4995066%2C%20-47.4304281%5D%2C%20%5B-23.4676305%2C%20-47.4390821%5D%2C%20%5B-23.4922199%2C%20-47.4219287%5D%2C%20%5B-23.4889746%2C%20-47.4037232%5D%2C%20%5B-23.4954875%2C%20-47.4103527%5D%2C%20%5B-23.4826485%2C%20-47.4047095%5D%2C%20%5B-23.4477816%2C%20-47.4517689%5D%2C%20%5B-23.4715819%2C%20-47.4443671%5D%2C%20%5B-23.5088191%2C%20-47.4301983%5D%2C%20%5B-23.4543741%2C%20-47.5023699%5D%2C%20%5B-23.4989325%2C%20-47.4278245%5D%2C%20%5B-23.4948469%2C%20-47.4288321%5D%2C%20%5B-23.5039298%2C%20-47.4251333%5D%2C%20%5B-23.4764792%2C%20-47.4269642%5D%2C%20%5B-23.5030177%2C%20-47.4478705%5D%2C%20%5B-23.4954875%2C%20-47.4103527%5D%2C%20%5B-23.483928%2C%20-47.4589993%5D%2C%20%5B-23.4995066%2C%20-47.4304281%5D%2C%20%5B-23.5199521%2C%20-47.4809128%5D%2C%20%5B-23.5325862%2C%20-47.4670877%5D%2C%20%5B-23.4889746%2C%20-47.4037232%5D%2C%20%5B-23.4919492%2C%20-47.4158162%5D%2C%20%5B-23.4460627%2C%20-47.4596889%5D%2C%20%5B-23.4889746%2C%20-47.4037232%5D%2C%20%5B-23.5205801%2C%20-47.448352%5D%2C%20%5B-23.507057%2C%20-47.4459756%5D%2C%20%5B-23.507057%2C%20-47.4459756%5D%2C%20%5B-23.507057%2C%20-47.4459756%5D%2C%20%5B-23.4764792%2C%20-47.4269642%5D%2C%20%5B-23.5030177%2C%20-47.4478705%5D%2C%20%5B-23.4954875%2C%20-47.4103527%5D%2C%20%5B-23.483928%2C%20-47.4589993%5D%2C%20%5B-23.4995066%2C%20-47.4304281%5D%2C%20%5B-23.5199521%2C%20-47.4809128%5D%2C%20%5B-23.5325862%2C%20-47.4670877%5D%2C%20%5B-23.4889746%2C%20-47.4037232%5D%2C%20%5B-23.4919492%2C%20-47.4158162%5D%2C%20%5B-23.4460627%2C%20-47.4596889%5D%2C%20%5B-23.4889746%2C%20-47.4037232%5D%2C%20%5B-23.5205801%2C%20-47.448352%5D%2C%20%5B-23.507057%2C%20-47.4459756%5D%2C%20%5B-23.507057%2C%20-47.4459756%5D%2C%20%5B-23.507057%2C%20-47.4459756%5D%2C%20%5B-23.5030177%2C%20-47.4478705%5D%2C%20%5B-23.4954875%2C%20-47.4103527%5D%2C%20%5B-23.483928%2C%20-47.4589993%5D%2C%20%5B-23.4995066%2C%20-47.4304281%5D%2C%20%5B-23.5199521%2C%20-47.4809128%5D%2C%20%5B-23.5325862%2C%20-47.4670877%5D%2C%20%5B-23.4889746%2C%20-47.4037232%5D%2C%20%5B-23.4460627%2C%20-47.4596889%5D%2C%20%5B-23.4889746%2C%20-47.4037232%5D%2C%20%5B-23.5205801%2C%20-47.448352%5D%2C%20%5B-23.507057%2C%20-47.4459756%5D%2C%20%5B-23.4919492%2C%20-47.4158162%5D%2C%20%5B-23.507057%2C%20-47.4459756%5D%2C%20%5B-23.507057%2C%20-47.4459756%5D%2C%20%5B-23.507057%2C%20-47.4459756%5D%2C%20%5B-23.4919492%2C%20-47.4158162%5D%2C%20%5B-23.5030177%2C%20-47.4478705%5D%2C%20%5B-23.4954875%2C%20-47.4103527%5D%2C%20%5B-23.4764792%2C%20-47.4269642%5D%2C%20%5B-23.483928%2C%20-47.4589993%5D%2C%20%5B-23.4995066%2C%20-47.4304281%5D%2C%20%5B-23.5199521%2C%20-47.4809128%5D%2C%20%5B-23.5325862%2C%20-47.4670877%5D%2C%20%5B-23.4889746%2C%20-47.4037232%5D%2C%20%5B-23.4460627%2C%20-47.4596889%5D%2C%20%5B-23.4889746%2C%20-47.4037232%5D%2C%20%5B-23.5205801%2C%20-47.448352%5D%2C%20%5B-23.507057%2C%20-47.4459756%5D%2C%20%5B-23.4460627%2C%20-47.4596889%5D%2C%20%5B-23.4889746%2C%20-47.4037232%5D%2C%20%5B-23.5205801%2C%20-47.448352%5D%2C%20%5B-23.507057%2C%20-47.4459756%5D%2C%20%5B-23.507057%2C%20-47.4459756%5D%2C%20%5B-23.5030177%2C%20-47.4478705%5D%2C%20%5B-23.4954875%2C%20-47.4103527%5D%2C%20%5B-23.483928%2C%20-47.4589993%5D%2C%20%5B-23.4995066%2C%20-47.4304281%5D%2C%20%5B-23.5199521%2C%20-47.4809128%5D%2C%20%5B-23.5325862%2C%20-47.4670877%5D%2C%20%5B-23.4889746%2C%20-47.4037232%5D%2C%20%5B-23.4460627%2C%20-47.4596889%5D%2C%20%5B-23.4889746%2C%20-47.4037232%5D%2C%20%5B-23.5205801%2C%20-47.448352%5D%2C%20%5B-23.507057%2C%20-47.4459756%5D%2C%20%5B-23.4919492%2C%20-47.4158162%5D%2C%20%5B-23.507057%2C%20-47.4459756%5D%2C%20%5B-23.507057%2C%20-47.4459756%5D%2C%20%5B-23.507057%2C%20-47.4459756%5D%2C%20%5B-23.507057%2C%20-47.4459756%5D%2C%20%5B-23.507057%2C%20-47.4459756%5D%2C%20%5B-23.507057%2C%20-47.4459756%5D%2C%20%5B-23.507057%2C%20-47.4459756%5D%2C%20%5B-23.507057%2C%20-47.4459756%5D%2C%20%5B-23.507057%2C%20-47.4459756%5D%2C%20%5B-23.507057%2C%20-47.4459756%5D%2C%20%5B-23.5190156%2C%20-47.4390821%5D%2C%20%5B-23.4890673%2C%20-47.4743255%5D%2C%20%5B-23.4791496%2C%20-47.4161101%5D%2C%20%5B-23.4791496%2C%20-47.4161101%5D%2C%20%5B-23.4919492%2C%20-47.4158162%5D%2C%20%5B-23.5190156%2C%20-47.4390821%5D%2C%20%5B-23.526682%2C%20-47.4633953%5D%2C%20%5B-23.4741501%2C%20-47.4337245%5D%2C%20%5B-23.5122055%2C%20-47.4795892%5D%2C%20%5B-23.4741501%2C%20-47.4337245%5D%2C%20%5B-23.5051648%2C%20-47.4220092%5D%2C%20%5B-23.4501203%2C%20-47.4596889%5D%2C%20%5B-23.4995066%2C%20-47.4304281%5D%2C%20%5B-23.5401881%2C%20-47.4540193%5D%2C%20%5B-23.4995066%2C%20-47.4304281%5D%2C%20%5B-23.4501203%2C%20-47.4596889%5D%2C%20%5B-23.4995066%2C%20-47.4304281%5D%2C%20%5B-23.5401881%2C%20-47.4540193%5D%2C%20%5B-23.5051648%2C%20-47.4220092%5D%2C%20%5B-23.5698961%2C%20-47.4953986%5D%2C%20%5B-23.4995066%2C%20-47.4304281%5D%2C%20%5B-23.5329127%2C%20-47.4689929%5D%2C%20%5B-23.5340941%2C%20-47.4888027%5D%2C%20%5B-23.540286%2C%20-47.4445978%5D%2C%20%5B-23.5340941%2C%20-47.4888027%5D%2C%20%5B-23.5051648%2C%20-47.4220092%5D%2C%20%5B-23.5698961%2C%20-47.4953986%5D%2C%20%5B-23.4995066%2C%20-47.4304281%5D%2C%20%5B-23.5329127%2C%20-47.4689929%5D%2C%20%5B-23.4859768%2C%20-47.4409203%5D%2C%20%5B-23.5232281%2C%20-47.4964031%5D%2C%20%5B-23.4919492%2C%20-47.4158162%5D%2C%20%5B-23.5038279%2C%20-47.4547088%5D%2C%20%5B-23.4489537%2C%20-47.4703402%5D%2C%20%5B-23.5414946%2C%20-47.4869567%5D%2C%20%5B-23.4995066%2C%20-47.4304281%5D%2C%20%5B-23.493618%2C%20-47.418873%5D%2C%20%5B-23.4931323%2C%20-47.505298%5D%2C%20%5B-23.4729601%2C%20-47.4394067%5D%2C%20%5B-23.4776374%2C%20-47.416259%5D%2C%20%5B-23.4919492%2C%20-47.4158162%5D%2C%20%5B-23.4501203%2C%20-47.4596889%5D%2C%20%5B-23.4919492%2C%20-47.4158162%5D%2C%20%5B-23.5363861%2C%20-47.4545556%5D%2C%20%5B-23.4958331%2C%20-47.429457%5D%2C%20%5B-23.5039298%2C%20-47.4251333%5D%2C%20%5B-23.4494136%2C%20-47.4528701%5D%2C%20%5B-23.4958331%2C%20-47.429457%5D%2C%20%5B-23.5039298%2C%20-47.4251333%5D%2C%20%5B-23.4501203%2C%20-47.4596889%5D%2C%20%5B-23.4995066%2C%20-47.4304281%5D%2C%20%5B-23.5401881%2C%20-47.4540193%5D%2C%20%5B-23.5051648%2C%20-47.4220092%5D%2C%20%5B-23.5698961%2C%20-47.4953986%5D%2C%20%5B-23.4995066%2C%20-47.4304281%5D%2C%20%5B-23.5329127%2C%20-47.4689929%5D%2C%20%5B-23.5340941%2C%20-47.4888027%5D%2C%20%5B-23.540286%2C%20-47.4445978%5D%2C%20%5B-23.5340941%2C%20-47.4888027%5D%2C%20%5B-23.4542907%2C%20-47.4514528%5D%2C%20%5B-23.4542907%2C%20-47.4514528%5D%2C%20%5B-23.5458282%2C%20-47.4670805%5D%2C%20%5B-23.4789444%2C%20-47.4620642%5D%2C%20%5B-23.4789444%2C%20-47.4620642%5D%2C%20%5B-23.4789444%2C%20-47.4620642%5D%2C%20%5B-23.526682%2C%20-47.4633953%5D%2C%20%5B-23.5038279%2C%20-47.4547088%5D%2C%20%5B-23.4919492%2C%20-47.4158162%5D%2C%20%5B-23.5190156%2C%20-47.4390821%5D%2C%20%5B-23.4890673%2C%20-47.4743255%5D%2C%20%5B-23.4791496%2C%20-47.4161101%5D%2C%20%5B-23.4791496%2C%20-47.4161101%5D%2C%20%5B-23.4919492%2C%20-47.4158162%5D%2C%20%5B-23.5190156%2C%20-47.4390821%5D%2C%20%5B-23.526682%2C%20-47.4633953%5D%2C%20%5B-23.4741501%2C%20-47.4337245%5D%2C%20%5B-23.5122055%2C%20-47.4795892%5D%2C%20%5B-23.4741501%2C%20-47.4337245%5D%2C%20%5B-23.5122055%2C%20-47.4795892%5D%2C%20%5B-23.483928%2C%20-47.4589993%5D%2C%20%5B-23.4953305%2C%20-47.4338742%5D%2C%20%5B-23.5342804%2C%20-47.4665264%5D%2C%20%5B-23.4881678%2C%20-47.4510315%5D%2C%20%5B-23.4931323%2C%20-47.505298%5D%2C%20%5B-23.4931323%2C%20-47.505298%5D%2C%20%5B-23.4729601%2C%20-47.4394067%5D%2C%20%5B-23.4931323%2C%20-47.505298%5D%2C%20%5B-23.493618%2C%20-47.418873%5D%2C%20%5B-23.4931323%2C%20-47.505298%5D%2C%20%5B-23.4729601%2C%20-47.4394067%5D%2C%20%5B-23.4776374%2C%20-47.416259%5D%2C%20%5B-23.4919492%2C%20-47.4158162%5D%2C%20%5B-23.4501203%2C%20-47.4596889%5D%2C%20%5B-23.4919492%2C%20-47.4158162%5D%2C%20%5B-23.5363861%2C%20-47.4545556%5D%2C%20%5B-23.4958331%2C%20-47.429457%5D%2C%20%5B-23.5039298%2C%20-47.4251333%5D%2C%20%5B-23.4494136%2C%20-47.4528701%5D%2C%20%5B-23.4958331%2C%20-47.429457%5D%2C%20%5B-23.5039298%2C%20-47.4251333%5D%2C%20%5B-23.4494136%2C%20-47.4528701%5D%2C%20%5B-23.4494136%2C%20-47.4528701%5D%2C%20%5B-23.540286%2C%20-47.4445978%5D%2C%20%5B-23.540286%2C%20-47.4445978%5D%2C%20%5B-23.4903228%2C%20-47.4113638%5D%2C%20%5B-23.4923003%2C%20-47.4112293%5D%2C%20%5B-23.4958331%2C%20-47.429457%5D%2C%20%5B-23.4903228%2C%20-47.4113638%5D%2C%20%5B-23.4958331%2C%20-47.429457%5D%2C%20%5B-23.4889746%2C%20-47.4037232%5D%2C%20%5B-23.4989325%2C%20-47.4278245%5D%2C%20%5B-23.5320589%2C%20-47.4976299%5D%2C%20%5B-23.4958331%2C%20-47.429457%5D%2C%20%5B-23.5062946%2C%20-47.4970165%5D%2C%20%5B-23.5062946%2C%20-47.4970165%5D%2C%20%5B-23.5205801%2C%20-47.448352%5D%2C%20%5B-23.4837704%2C%20-47.4522572%5D%2C%20%5B-23.4826485%2C%20-47.4047095%5D%2C%20%5B-23.4938766%2C%20-47.4393884%5D%2C%20%5B-23.5342804%2C%20-47.4665264%5D%2C%20%5B-23.4837704%2C%20-47.4522572%5D%2C%20%5B-23.5698961%2C%20-47.4953986%5D%2C%20%5B-23.5698961%2C%20-47.4953986%5D%2C%20%5B-23.4995066%2C%20-47.4304281%5D%2C%20%5B-23.5698961%2C%20-47.4953986%5D%2C%20%5B-23.5414946%2C%20-47.4869567%5D%2C%20%5B-23.478948%2C%20-47.435512%5D%2C%20%5B-23.4995066%2C%20-47.4304281%5D%2C%20%5B-23.498359%2C%20-47.4267106%5D%2C%20%5B-23.4872734%2C%20-47.4063118%5D%2C%20%5B-23.4872734%2C%20-47.4063118%5D%2C%20%5B-23.4995066%2C%20-47.4304281%5D%2C%20%5B-23.5096651%2C%20-47.4269136%5D%2C%20%5B-23.5004475%2C%20-47.4733956%5D%2C%20%5B-23.4625834%2C%20-47.4706468%5D%2C%20%5B-23.4877398%2C%20-47.5112824%5D%2C%20%5B-23.5072385%2C%20-47.478311%5D%2C%20%5B-23.5205801%2C%20-47.448352%5D%2C%20%5B-23.483928%2C%20-47.4589993%5D%2C%20%5B-23.537058%2C%20-47.4711249%5D%2C%20%5B-23.4958331%2C%20-47.429457%5D%2C%20%5B-23.5039298%2C%20-47.4251333%5D%2C%20%5B-23.4494136%2C%20-47.4528701%5D%2C%20%5B-23.4494136%2C%20-47.4528701%5D%2C%20%5B-23.5072385%2C%20-47.478311%5D%2C%20%5B-23.4889746%2C%20-47.4037232%5D%2C%20%5B-23.5096651%2C%20-47.4269136%5D%2C%20%5B-23.5013767%2C%20-47.4724861%5D%2C%20%5B-23.5013767%2C%20-47.4724861%5D%2C%20%5B-23.502%2C%20-47.4525040927%5D%2C%20%5B-23.5342804%2C%20-47.4665264%5D%2C%20%5B-23.498359%2C%20-47.4267106%5D%2C%20%5B-23.5342804%2C%20-47.4665264%5D%2C%20%5B-23.5221167%2C%20-47.4791523%5D%2C%20%5B-23.4149212%2C%20-47.4180585%5D%2C%20%5B-23.4826485%2C%20-47.4047095%5D%2C%20%5B-23.4948469%2C%20-47.4288321%5D%2C%20%5B-23.5221167%2C%20-47.4791523%5D%2C%20%5B-23.4494136%2C%20-47.4528701%5D%2C%20%5B-23.4542907%2C%20-47.4514528%5D%2C%20%5B-23.4919492%2C%20-47.4158162%5D%2C%20%5B-23.4989325%2C%20-47.4278245%5D%2C%20%5B-23.5088191%2C%20-47.4301983%5D%2C%20%5B-23.4903228%2C%20-47.4113638%5D%2C%20%5B-23.4678352%2C%20-47.4218808%5D%2C%20%5B-23.5087626%2C%20-47.4720659%5D%2C%20%5B-23.493361%2C%20-47.4732362%5D%2C%20%5B-23.4919492%2C%20-47.4158162%5D%2C%20%5B-23.4958331%2C%20-47.429457%5D%2C%20%5B-23.5072873%2C%20-47.4303505%5D%2C%20%5B-23.4791496%2C%20-47.4161101%5D%2C%20%5B-23.4149212%2C%20-47.4180585%5D%2C%20%5B-23.4515099%2C%20-47.4519508%5D%2C%20%5B-23.4859768%2C%20-47.4409203%5D%2C%20%5B-23.5232281%2C%20-47.4964031%5D%2C%20%5B-23.4919492%2C%20-47.4158162%5D%2C%20%5B-23.5038279%2C%20-47.4547088%5D%2C%20%5B-23.4489537%2C%20-47.4703402%5D%2C%20%5B-23.5414946%2C%20-47.4869567%5D%2C%20%5B-23.4995066%2C%20-47.4304281%5D%2C%20%5B-23.505947%2C%20-47.4679646%5D%2C%20%5B-23.4958331%2C%20-47.429457%5D%2C%20%5B-23.4904925%2C%20-47.4651292%5D%2C%20%5B-23.5122055%2C%20-47.4795892%5D%2C%20%5B-23.4919492%2C%20-47.4158162%5D%2C%20%5B-23.5208785%2C%20-47.4865996%5D%2C%20%5B-23.526682%2C%20-47.4633953%5D%2C%20%5B-23.5077764%2C%20-47.4709533%5D%2C%20%5B-23.4791496%2C%20-47.4161101%5D%2C%20%5B-23.502%2C%20-47.4525040927%5D%2C%20%5B-23.4981495%2C%20-47.4422454%5D%2C%20%5B-23.505947%2C%20-47.4679646%5D%2C%20%5B-23.4958331%2C%20-47.429457%5D%2C%20%5B-23.4904925%2C%20-47.4651292%5D%2C%20%5B-23.5122055%2C%20-47.4795892%5D%2C%20%5B-23.4919492%2C%20-47.4158162%5D%2C%20%5B-23.4981495%2C%20-47.4422454%5D%2C%20%5B-23.4958331%2C%20-47.429457%5D%2C%20%5B-23.4847384%2C%20-47.4139665%5D%2C%20%5B-23.5218498%2C%20-47.5111266%5D%2C%20%5B-23.4904925%2C%20-47.4651292%5D%2C%20%5B-23.5122055%2C%20-47.4795892%5D%2C%20%5B-23.4919492%2C%20-47.4158162%5D%2C%20%5B-23.5184089%2C%20-47.4274416%5D%2C%20%5B-23.4826485%2C%20-47.4047095%5D%2C%20%5B-23.4948469%2C%20-47.4288321%5D%2C%20%5B-23.4950013%2C%20-47.505656%5D%2C%20%5B-23.5483543%2C%20-47.4752855%5D%2C%20%5B-23.444435%2C%20-47.4722196%5D%2C%20%5B-23.5237014%2C%20-47.4922212%5D%2C%20%5B-23.4919492%2C%20-47.4158162%5D%2C%20%5B-23.4948469%2C%20-47.4288321%5D%2C%20%5B-23.4950013%2C%20-47.505656%5D%2C%20%5B-23.5483543%2C%20-47.4752855%5D%2C%20%5B-23.444435%2C%20-47.4722196%5D%2C%20%5B-23.5237014%2C%20-47.4922212%5D%2C%20%5B-23.4919492%2C%20-47.4158162%5D%2C%20%5B-23.4948469%2C%20-47.4288321%5D%2C%20%5B-23.5012033%2C%20-47.4570424%5D%2C%20%5B-23.5096642%2C%20-47.4252293%5D%2C%20%5B-23.4958331%2C%20-47.429457%5D%2C%20%5B-23.4958331%2C%20-47.429457%5D%2C%20%5B-23.5171338%2C%20-47.4637441%5D%2C%20%5B-23.5039298%2C%20-47.4251333%5D%2C%20%5B-23.5008747%2C%20-47.4378566%5D%2C%20%5B-23.5012033%2C%20-47.4570424%5D%2C%20%5B-23.4826485%2C%20-47.4047095%5D%2C%20%5B-23.5122728%2C%20-47.4467416%5D%2C%20%5B-23.4919492%2C%20-47.4158162%5D%2C%20%5B-23.4958331%2C%20-47.429457%5D%2C%20%5B-23.4907698%2C%20-47.4301951%5D%2C%20%5B-23.5057667%2C%20-47.4819902%5D%2C%20%5B-23.5342804%2C%20-47.4665264%5D%2C%20%5B-23.5036689%2C%20-47.4758378%5D%2C%20%5B-23.529321%2C%20-47.4711066%5D%2C%20%5B-23.4923003%2C%20-47.4112293%5D%2C%20%5B-23.4794922%2C%20-47.4439841%5D%2C%20%5B-23.4958331%2C%20-47.429457%5D%2C%20%5B-23.4889746%2C%20-47.4037232%5D%2C%20%5B-23.4494136%2C%20-47.4528701%5D%2C%20%5B-23.4844833%2C%20-47.4134307%5D%2C%20%5B-23.4826485%2C%20-47.4047095%5D%2C%20%5B-23.5077636%2C%20-47.4906653%5D%2C%20%5B-23.4919492%2C%20-47.4158162%5D%2C%20%5B-23.4958331%2C%20-47.429457%5D%2C%20%5B-23.5342804%2C%20-47.4665264%5D%2C%20%5B-23.5237014%2C%20-47.4922212%5D%2C%20%5B-23.4907698%2C%20-47.4301951%5D%2C%20%5B-23.478948%2C%20-47.435512%5D%2C%20%5B-23.4489918%2C%20-47.4479265%5D%2C%20%5B-23.4923003%2C%20-47.4112293%5D%2C%20%5B-23.4990271%2C%20-47.4302293%5D%2C%20%5B-23.4987809%2C%20-47.437003%5D%2C%20%5B-23.4844833%2C%20-47.4134307%5D%2C%20%5B-23.5051648%2C%20-47.4220092%5D%2C%20%5B-23.5032063%2C%20-47.4287075%5D%2C%20%5B-23.4989118%2C%20-47.4311173%5D%2C%20%5B-23.4989325%2C%20-47.4278245%5D%2C%20%5B-23.4872734%2C%20-47.4063118%5D%2C%20%5B-23.4872734%2C%20-47.4063118%5D%2C%20%5B-23.5122674%2C%20-47.5057239%5D%2C%20%5B-23.4874912%2C%20-47.4056971%5D%2C%20%5B-23.4923003%2C%20-47.4112293%5D%2C%20%5B-23.5047759%2C%20-47.4485801%5D%2C%20%5B-23.4919492%2C%20-47.4158162%5D%2C%20%5B-23.5429767%2C%20-47.4499633%5D%2C%20%5B-23.5214363%2C%20-47.4632902%5D%2C%20%5B-23.5214363%2C%20-47.4632902%5D%2C%20%5B-23.4907698%2C%20-47.4301951%5D%2C%20%5B-23.5122055%2C%20-47.4795892%5D%2C%20%5B-23.518635%2C%20-47.486743%5D%2C%20%5B-23.4958331%2C%20-47.429457%5D%2C%20%5B-23.4793839%2C%20-47.4829895%5D%2C%20%5B-23.4995066%2C%20-47.4304281%5D%2C%20%5B-23.5047759%2C%20-47.4485801%5D%2C%20%5B-23.4744322%2C%20-47.4386578%5D%2C%20%5B-23.4958331%2C%20-47.429457%5D%2C%20%5B-23.4793839%2C%20-47.4829895%5D%2C%20%5B-23.4995066%2C%20-47.4304281%5D%2C%20%5B-23.5047759%2C%20-47.4485801%5D%2C%20%5B-23.4744322%2C%20-47.4386578%5D%2C%20%5B-23.4912922%2C%20-47.435942%5D%2C%20%5B-23.4489918%2C%20-47.4479265%5D%2C%20%5B-23.4489918%2C%20-47.4479265%5D%2C%20%5B-23.4919492%2C%20-47.4158162%5D%2C%20%5B-23.507057%2C%20-47.4459756%5D%2C%20%5B-23.4907698%2C%20-47.4301951%5D%2C%20%5B-23.4907698%2C%20-47.4301951%5D%2C%20%5B-23.4907698%2C%20-47.4301951%5D%2C%20%5B-23.4958331%2C%20-47.429457%5D%2C%20%5B-23.4958331%2C%20-47.429457%5D%2C%20%5B-23.4919492%2C%20-47.4158162%5D%2C%20%5B-23.4958331%2C%20-47.429457%5D%2C%20%5B-23.5088909%2C%20-47.4317636%5D%2C%20%5B-23.5414946%2C%20-47.4869567%5D%2C%20%5B-23.4958331%2C%20-47.429457%5D%2C%20%5B-23.5088909%2C%20-47.4317636%5D%2C%20%5B-23.5414946%2C%20-47.4869567%5D%2C%20%5B-23.4936476%2C%20-47.4245303%5D%2C%20%5B-23.4948469%2C%20-47.4288321%5D%2C%20%5B-23.483928%2C%20-47.4589993%5D%2C%20%5B-23.4907698%2C%20-47.4301951%5D%2C%20%5B-23.5164294%2C%20-47.4635967%5D%2C%20%5B-23.4766192%2C%20-47.4477375%5D%2C%20%5B-23.4958331%2C%20-47.429457%5D%2C%20%5B-23.4791496%2C%20-47.4161101%5D%2C%20%5B-23.4494136%2C%20-47.4528701%5D%2C%20%5B-23.5004475%2C%20-47.4733956%5D%2C%20%5B-23.4826502%2C%20-47.4418867%5D%2C%20%5B-23.4919492%2C%20-47.4158162%5D%2C%20%5B-23.4453421%2C%20-47.4561804%5D%2C%20%5B-23.4914915%2C%20-47.4188662%5D%2C%20%5B-23.5128052%2C%20-47.4673515%5D%2C%20%5B-23.4955444%2C%20-47.4354059%5D%2C%20%5B-23.5012033%2C%20-47.4570424%5D%2C%20%5B-23.5399878%2C%20-47.4732164%5D%2C%20%5B-23.483928%2C%20-47.4589993%5D%2C%20%5B-23.4453421%2C%20-47.4561804%5D%2C%20%5B-23.4558061%2C%20-47.500467%5D%2C%20%5B-23.4914915%2C%20-47.4188662%5D%2C%20%5B-23.5128052%2C%20-47.4673515%5D%2C%20%5B-23.4955444%2C%20-47.4354059%5D%2C%20%5B-23.4791496%2C%20-47.4161101%5D%2C%20%5B-23.4907698%2C%20-47.4301951%5D%2C%20%5B-23.4936476%2C%20-47.4245303%5D%2C%20%5B-23.4919492%2C%20-47.4158162%5D%2C%20%5B-23.483928%2C%20-47.4589993%5D%2C%20%5B-23.4907698%2C%20-47.4301951%5D%2C%20%5B-23.5012033%2C%20-47.4570424%5D%2C%20%5B-23.5128052%2C%20-47.4673515%5D%2C%20%5B-23.5088909%2C%20-47.4317636%5D%2C%20%5B-23.5320589%2C%20-47.4976299%5D%2C%20%5B-23.4625834%2C%20-47.4706468%5D%2C%20%5B-23.4914915%2C%20-47.4188662%5D%2C%20%5B-23.4652668%2C%20-47.4320362%5D%2C%20%5B-23.4826485%2C%20-47.4047095%5D%2C%20%5B-23.4958331%2C%20-47.429457%5D%2C%20%5B-23.5180018%2C%20-47.4530326%5D%2C%20%5B-23.4958331%2C%20-47.429457%5D%2C%20%5B-23.4958331%2C%20-47.429457%5D%2C%20%5B-23.4834523%2C%20-47.4465456%5D%2C%20%5B-23.4950013%2C%20-47.505656%5D%2C%20%5B-23.5122133%2C%20-47.4976299%5D%2C%20%5B-23.4907698%2C%20-47.4301951%5D%2C%20%5B-23.483928%2C%20-47.4589993%5D%2C%20%5B-23.4791496%2C%20-47.4161101%5D%2C%20%5B-23.5039298%2C%20-47.4251333%5D%2C%20%5B-23.4837704%2C%20-47.4522572%5D%2C%20%5B-23.5414946%2C%20-47.4869567%5D%2C%20%5B-23.508342%2C%20-47.4376906%5D%2C%20%5B-23.4742167%2C%20-47.434664%5D%2C%20%5B-23.4834523%2C%20-47.4465456%5D%2C%20%5B-23.522562%2C%20-47.4690662%5D%2C%20%5B-23.4967002%2C%20-47.441533%5D%2C%20%5B-23.5064%2C%20-47.4740189%5D%2C%20%5B-23.4919492%2C%20-47.4158162%5D%2C%20%5B-23.5165954%2C%20-47.4768547%5D%2C%20%5B-23.507057%2C%20-47.4459756%5D%2C%20%5B-23.5061465%2C%20-47.4435426%5D%2C%20%5B-23.4826485%2C%20-47.4047095%5D%2C%20%5B-23.4494136%2C%20-47.4528701%5D%2C%20%5B-23.5325862%2C%20-47.4670877%5D%2C%20%5B-23.4779292%2C%20-47.3982922%5D%2C%20%5B-23.5032063%2C%20-47.4287075%5D%2C%20%5B-23.5094647%2C%20-47.4240725%5D%2C%20%5B-23.4715819%2C%20-47.4443671%5D%2C%20%5B-23.4958331%2C%20-47.429457%5D%2C%20%5B-23.5081402%2C%20-47.4714682%5D%2C%20%5B-23.4791496%2C%20-47.4161101%5D%2C%20%5B-23.5081402%2C%20-47.4714682%5D%2C%20%5B-23.4907698%2C%20-47.4301951%5D%2C%20%5B-23.4919492%2C%20-47.4158162%5D%2C%20%5B-23.4989325%2C%20-47.4278245%5D%2C%20%5B-23.4989325%2C%20-47.4278245%5D%2C%20%5B-23.4663209%2C%20-47.4337119%5D%2C%20%5B-23.5051648%2C%20-47.4220092%5D%2C%20%5B-23.4967002%2C%20-47.441533%5D%2C%20%5B-23.5086266%2C%20-47.4350305%5D%2C%20%5B-23.4919492%2C%20-47.4158162%5D%2C%20%5B-23.4859768%2C%20-47.4409203%5D%2C%20%5B-23.4907698%2C%20-47.4301951%5D%2C%20%5B-23.4663209%2C%20-47.4337119%5D%2C%20%5B-23.4874912%2C%20-47.4056971%5D%2C%20%5B-23.4958331%2C%20-47.429457%5D%2C%20%5B-23.4791496%2C%20-47.4161101%5D%2C%20%5B-23.4542907%2C%20-47.4514528%5D%2C%20%5B-23.4869738%2C%20-47.407882%5D%2C%20%5B-23.4791496%2C%20-47.4161101%5D%2C%20%5B-23.5064%2C%20-47.4740189%5D%2C%20%5B-23.5574016%2C%20-47.4528057%5D%2C%20%5B-23.4958331%2C%20-47.429457%5D%2C%20%5B-23.4958331%2C%20-47.429457%5D%2C%20%5B-23.4834523%2C%20-47.4465456%5D%2C%20%5B-23.4791496%2C%20-47.4161101%5D%2C%20%5B-23.4791496%2C%20-47.4161101%5D%2C%20%5B-23.5012033%2C%20-47.4570424%5D%2C%20%5B-23.4791496%2C%20-47.4161101%5D%2C%20%5B-23.5237108%2C%20-47.4942562%5D%2C%20%5B-23.5237108%2C%20-47.4942562%5D%2C%20%5B-23.483928%2C%20-47.4589993%5D%2C%20%5B-23.483928%2C%20-47.4589993%5D%2C%20%5B-23.4791496%2C%20-47.4161101%5D%2C%20%5B-23.4542907%2C%20-47.4514528%5D%2C%20%5B-23.508342%2C%20-47.4376906%5D%2C%20%5B-23.4542907%2C%20-47.4514528%5D%2C%20%5B-23.4990271%2C%20-47.4302293%5D%2C%20%5B-23.4907698%2C%20-47.4301951%5D%2C%20%5B-23.4907698%2C%20-47.4301951%5D%2C%20%5B-23.508342%2C%20-47.4376906%5D%2C%20%5B-23.4764792%2C%20-47.4269642%5D%2C%20%5B-23.4923003%2C%20-47.4112293%5D%2C%20%5B-23.483928%2C%20-47.4589993%5D%2C%20%5B-23.483928%2C%20-47.4589993%5D%2C%20%5B-23.4764792%2C%20-47.4269642%5D%2C%20%5B-23.4923003%2C%20-47.4112293%5D%2C%20%5B-23.4923003%2C%20-47.4112293%5D%2C%20%5B-23.5399878%2C%20-47.4732164%5D%2C%20%5B-23.4919492%2C%20-47.4158162%5D%2C%20%5B-23.5399878%2C%20-47.4732164%5D%2C%20%5B-23.483928%2C%20-47.4589993%5D%2C%20%5B-23.483928%2C%20-47.4589993%5D%2C%20%5B-23.5171338%2C%20-47.4637441%5D%2C%20%5B-23.483928%2C%20-47.4589993%5D%2C%20%5B-23.5171338%2C%20-47.4637441%5D%2C%20%5B-23.5171338%2C%20-47.4637441%5D%2C%20%5B-23.4826485%2C%20-47.4047095%5D%2C%20%5B-23.5057667%2C%20-47.4819902%5D%2C%20%5B-23.5057667%2C%20-47.4819902%5D%2C%20%5B-23.4881747%2C%20-47.4574498%5D%2C%20%5B-23.4907698%2C%20-47.4301951%5D%2C%20%5B-23.4907698%2C%20-47.4301951%5D%2C%20%5B-23.4907698%2C%20-47.4301951%5D%2C%20%5B-23.4881747%2C%20-47.4574498%5D%2C%20%5B-23.4881747%2C%20-47.4574498%5D%2C%20%5B-23.4863168%2C%20-47.4571605%5D%2C%20%5B-23.5325862%2C%20-47.4670877%5D%2C%20%5B-23.4863168%2C%20-47.4571605%5D%2C%20%5B-23.4881747%2C%20-47.4574498%5D%2C%20%5B-23.5102857%2C%20-47.4769463%5D%2C%20%5B-23.5102857%2C%20-47.4769463%5D%2C%20%5B-23.5126099%2C%20-47.4453385%5D%2C%20%5B-23.5126099%2C%20-47.4453385%5D%2C%20%5B-23.527338%2C%20-47.4306048%5D%2C%20%5B-23.5325862%2C%20-47.4670877%5D%2C%20%5B-23.519826%2C%20-47.4618755%5D%2C%20%5B-23.446871%2C%20-47.4481971%5D%2C%20%5B-23.446871%2C%20-47.4481971%5D%2C%20%5B-23.4874912%2C%20-47.4056971%5D%2C%20%5B-23.4919492%2C%20-47.4158162%5D%2C%20%5B-23.4782973%2C%20-47.4324277%5D%2C%20%5B-23.5012033%2C%20-47.4570424%5D%2C%20%5B-23.5128052%2C%20-47.4673515%5D%2C%20%5B-23.5012033%2C%20-47.4570424%5D%2C%20%5B-23.5128052%2C%20-47.4673515%5D%2C%20%5B-23.5004475%2C%20-47.4733956%5D%2C%20%5B-23.4837704%2C%20-47.4522572%5D%2C%20%5B-23.4874912%2C%20-47.4056971%5D%2C%20%5B-23.5414946%2C%20-47.4869567%5D%2C%20%5B-23.558109%2C%20-47.4901527%5D%2C%20%5B-23.4914915%2C%20-47.4188662%5D%2C%20%5B-23.4782973%2C%20-47.4324277%5D%2C%20%5B45.5016889%2C%20-73.567256%5D%2C%20%5B-23.4919492%2C%20-47.4158162%5D%2C%20%5B-23.5012033%2C%20-47.4570424%5D%2C%20%5B-23.4961564%2C%20-47.4253742%5D%2C%20%5B-23.5039298%2C%20-47.4251333%5D%2C%20%5B-23.4961564%2C%20-47.4253742%5D%2C%20%5B45.5016889%2C%20-73.567256%5D%2C%20%5B-23.5039298%2C%20-47.4251333%5D%2C%20%5B-23.4914915%2C%20-47.4188662%5D%2C%20%5B-23.558109%2C%20-47.4901527%5D%2C%20%5B-23.4961564%2C%20-47.4253742%5D%2C%20%5B-23.5139138%2C%20-47.4623707%5D%2C%20%5B-23.4729601%2C%20-47.4394067%5D%2C%20%5B-23.5414946%2C%20-47.4869567%5D%2C%20%5B-23.4453421%2C%20-47.4561804%5D%2C%20%5B-23.5039298%2C%20-47.4251333%5D%2C%20%5B-23.5039298%2C%20-47.4251333%5D%2C%20%5B-23.5139138%2C%20-47.4623707%5D%2C%20%5B-23.4729601%2C%20-47.4394067%5D%2C%20%5B-23.4453421%2C%20-47.4561804%5D%2C%20%5B-23.4919492%2C%20-47.4158162%5D%2C%20%5B-23.5320589%2C%20-47.4976299%5D%2C%20%5B-23.5038279%2C%20-47.4547088%5D%2C%20%5B-23.4907698%2C%20-47.4301951%5D%2C%20%5B-23.5051648%2C%20-47.4220092%5D%2C%20%5B-23.4663209%2C%20-47.4337119%5D%2C%20%5B-23.508342%2C%20-47.4376906%5D%2C%20%5B-23.6280355%2C%20-46.8141533%5D%2C%20%5B-23.4958331%2C%20-47.429457%5D%2C%20%5B-23.496729%2C%20-47.4608715%5D%2C%20%5B-23.4940881%2C%20-47.41838%5D%2C%20%5B-23.483928%2C%20-47.4589993%5D%2C%20%5B-23.5012033%2C%20-47.4570424%5D%2C%20%5B-23.5064%2C%20-47.4740189%5D%2C%20%5B-23.4826485%2C%20-47.4047095%5D%2C%20%5B-23.4948469%2C%20-47.4288321%5D%2C%20%5B-23.4995066%2C%20-47.4304281%5D%2C%20%5B-23.4958331%2C%20-47.429457%5D%2C%20%5B-23.4961564%2C%20-47.4253742%5D%2C%20%5B-23.4958331%2C%20-47.429457%5D%2C%20%5B-23.4958331%2C%20-47.429457%5D%2C%20%5B-23.4919492%2C%20-47.4158162%5D%2C%20%5B-23.4921941%2C%20-47.4291285%5D%2C%20%5B-23.4743431%2C%20-47.4510315%5D%2C%20%5B-23.5034295%2C%20-47.4665086%5D%2C%20%5B-23.5406983%2C%20-47.4149132%5D%2C%20%5B-23.4983025%2C%20-47.4245672%5D%2C%20%5B-23.4958331%2C%20-47.429457%5D%2C%20%5B-23.532556%2C%20-47.4672799%5D%2C%20%5B-23.4907698%2C%20-47.4301951%5D%2C%20%5B-23.4907698%2C%20-47.4301951%5D%2C%20%5B-23.4919492%2C%20-47.4158162%5D%2C%20%5B-23.4782973%2C%20-47.4324277%5D%2C%20%5B-23.5234017%2C%20-47.4702636%5D%2C%20%5B-23.5458282%2C%20-47.4670805%5D%2C%20%5B-23.5359749%2C%20-47.4589227%5D%2C%20%5B-23.4542907%2C%20-47.4514528%5D%2C%20%5B-23.483928%2C%20-47.4589993%5D%2C%20%5B-23.4753031%2C%20-47.4554645%5D%2C%20%5B-23.4936476%2C%20-47.4245303%5D%2C%20%5B-23.4938766%2C%20-47.4393884%5D%2C%20%5B-23.4923138%2C%20-47.412316%5D%2C%20%5B-23.4889746%2C%20-47.4037232%5D%2C%20%5B-23.4791496%2C%20-47.4161101%5D%2C%20%5B-23.4948469%2C%20-47.4288321%5D%2C%20%5B-23.4907698%2C%20-47.4301951%5D%2C%20%5B-23.498359%2C%20-47.4267106%5D%2C%20%5B-23.5134005%2C%20-47.4957897%5D%2C%20%5B-23.4989325%2C%20-47.4278245%5D%2C%20%5B-23.5022903%2C%20-47.4738656%5D%2C%20%5B-23.4980705%2C%20-47.3683006%5D%2C%20%5B-23.483928%2C%20-47.4589993%5D%2C%20%5B-23.493618%2C%20-47.418873%5D%2C%20%5B-23.4948483%2C%20-47.4718414%5D%2C%20%5B-23.4907698%2C%20-47.4301951%5D%2C%20%5B-23.483928%2C%20-47.4589993%5D%2C%20%5B-23.5171338%2C%20-47.4637441%5D%2C%20%5B-23.5096651%2C%20-47.4269136%5D%2C%20%5B-23.4764792%2C%20-47.4269642%5D%2C%20%5B-23.4958331%2C%20-47.429457%5D%2C%20%5B-23.4881678%2C%20-47.4510315%5D%2C%20%5B-23.4791496%2C%20-47.4161101%5D%2C%20%5B-23.5096651%2C%20-47.4269136%5D%2C%20%5B-23.4826485%2C%20-47.4047095%5D%2C%20%5B-23.4961564%2C%20-47.4253742%5D%2C%20%5B-23.507057%2C%20-47.4459756%5D%2C%20%5B-23.4988822%2C%20-47.4390821%5D%2C%20%5B-23.5325862%2C%20-47.4670877%5D%2C%20%5B-23.4715819%2C%20-47.4443671%5D%2C%20%5B-23.5039298%2C%20-47.4251333%5D%2C%20%5B-23.4564638%2C%20-47.4644051%5D%2C%20%5B-23.4923003%2C%20-47.4112293%5D%2C%20%5B-23.447174%2C%20-47.4955647%5D%2C%20%5B-23.4958331%2C%20-47.429457%5D%2C%20%5B-23.4501203%2C%20-47.4596889%5D%2C%20%5B-23.4989325%2C%20-47.4278245%5D%2C%20%5B-23.4864751%2C%20-47.4066179%5D%2C%20%5B-23.463314%2C%20-47.4688286%5D%2C%20%5B-23.5458282%2C%20-47.4670805%5D%2C%20%5B-23.4663209%2C%20-47.4337119%5D%2C%20%5B-23.483928%2C%20-47.4589993%5D%2C%20%5B-23.5072333%2C%20-47.4625843%5D%2C%20%5B-23.5039298%2C%20-47.4251333%5D%2C%20%5B-23.4737069%2C%20-47.4587695%5D%2C%20%5B-23.4929056%2C%20-47.3980459%5D%2C%20%5B-23.5414946%2C%20-47.4869567%5D%2C%20%5B-23.4958331%2C%20-47.429457%5D%2C%20%5B-23.5148297%2C%20-47.4639798%5D%2C%20%5B-23.4907698%2C%20-47.4301951%5D%2C%20%5B-23.4936476%2C%20-47.4245303%5D%2C%20%5B-23.5131559%2C%20-47.4627906%5D%2C%20%5B-23.5012033%2C%20-47.4570424%5D%2C%20%5B-23.5039298%2C%20-47.4251333%5D%2C%20%5B-23.4907698%2C%20-47.4301951%5D%2C%20%5B-23.4958331%2C%20-47.429457%5D%2C%20%5B-23.4542907%2C%20-47.4514528%5D%2C%20%5B-23.4843392%2C%20-47.4141196%5D%2C%20%5B-23.483928%2C%20-47.4589993%5D%2C%20%5B-23.4580657%2C%20-47.5074453%5D%2C%20%5B-23.537058%2C%20-47.4711249%5D%2C%20%5B-23.537058%2C%20-47.4711249%5D%2C%20%5B-23.4990271%2C%20-47.4302293%5D%2C%20%5B-23.4356395%2C%20-47.4804231%5D%2C%20%5B-23.4782973%2C%20-47.4324277%5D%2C%20%5B-23.4625834%2C%20-47.4706468%5D%2C%20%5B-23.4791496%2C%20-47.4161101%5D%2C%20%5B-23.5031901%2C%20-47.4391586%5D%2C%20%5B-23.4764792%2C%20-47.4269642%5D%2C%20%5B-23.4958331%2C%20-47.429457%5D%2C%20%5B-23.5171338%2C%20-47.4637441%5D%2C%20%5B-23.4958331%2C%20-47.429457%5D%2C%20%5B-23.4903228%2C%20-47.4113638%5D%2C%20%5B-23.4995066%2C%20-47.4304281%5D%2C%20%5B-23.5094647%2C%20-47.4240725%5D%2C%20%5B-23.4973267%2C%20-47.4675814%5D%2C%20%5B-23.4856043%2C%20-47.4326489%5D%2C%20%5B-23.4861355%2C%20-47.4509647%5D%2C%20%5B-23.4973267%2C%20-47.4675814%5D%2C%20%5B-23.4958331%2C%20-47.429457%5D%2C%20%5B-23.5039298%2C%20-47.4251333%5D%2C%20%5B-23.5094647%2C%20-47.4240725%5D%2C%20%5B-23.5039298%2C%20-47.4251333%5D%2C%20%5B-23.478948%2C%20-47.435512%5D%2C%20%5B-23.4938766%2C%20-47.4393884%5D%2C%20%5B-23.4995066%2C%20-47.4304281%5D%2C%20%5B-23.4923003%2C%20-47.4112293%5D%2C%20%5B-23.5079094%2C%20-47.4292794%5D%2C%20%5B-23.498359%2C%20-47.4267106%5D%2C%20%5B-23.478948%2C%20-47.435512%5D%2C%20%5B-23.5041667%2C%20-47.4942562%5D%2C%20%5B-23.5051648%2C%20-47.4220092%5D%2C%20%5B-23.4753031%2C%20-47.4554645%5D%2C%20%5B-23.4958331%2C%20-47.429457%5D%2C%20%5B-23.4923003%2C%20-47.4112293%5D%2C%20%5B-23.4929056%2C%20-47.3980459%5D%2C%20%5B-23.5096651%2C%20-47.4269136%5D%2C%20%5B-23.4907698%2C%20-47.4301951%5D%2C%20%5B-23.5051648%2C%20-47.4220092%5D%2C%20%5B-23.5081402%2C%20-47.4714682%5D%2C%20%5B-23.4889746%2C%20-47.4037232%5D%2C%20%5B-23.483928%2C%20-47.4589993%5D%2C%20%5B-23.4758087%2C%20-47.446665%5D%2C%20%5B-23.4764792%2C%20-47.4269642%5D%2C%20%5B-23.5043899%2C%20-47.4472155%5D%2C%20%5B-23.5111695%2C%20-47.4383196%5D%2C%20%5B-23.447174%2C%20-47.4955647%5D%2C%20%5B-23.4958331%2C%20-47.429457%5D%2C%20%5B-23.4158626%2C%20-47.4040921%5D%2C%20%5B-23.5032063%2C%20-47.4287075%5D%2C%20%5B-23.4936476%2C%20-47.4245303%5D%2C%20%5B-23.4907698%2C%20-47.4301951%5D%2C%20%5B-23.4929056%2C%20-47.3980459%5D%2C%20%5B-23.4929056%2C%20-47.3980459%5D%2C%20%5B-23.4453421%2C%20-47.4561804%5D%2C%20%5B-23.4995066%2C%20-47.4304281%5D%2C%20%5B-23.4995066%2C%20-47.4304281%5D%2C%20%5B-23.4948469%2C%20-47.4288321%5D%2C%20%5B-23.4958331%2C%20-47.429457%5D%2C%20%5B-23.4958331%2C%20-47.429457%5D%2C%20%5B-23.4789069%2C%20-47.4458224%5D%2C%20%5B-23.4776374%2C%20-47.416259%5D%2C%20%5B-23.5070958%2C%20-47.4613936%5D%2C%20%5B-23.4958331%2C%20-47.429457%5D%2C%20%5B-23.5157219%2C%20-47.4382419%5D%2C%20%5B-23.4988822%2C%20-47.4390821%5D%2C%20%5B-23.498359%2C%20-47.4267106%5D%2C%20%5B-23.4938766%2C%20-47.4393884%5D%2C%20%5B-23.4946111%2C%20-47.4205505%5D%2C%20%5B-23.4972918%2C%20-47.4296285%5D%2C%20%5B-23.5096651%2C%20-47.4269136%5D%2C%20%5B-23.4923003%2C%20-47.4112293%5D%2C%20%5B-23.5043899%2C%20-47.4472155%5D%2C%20%5B-23.4663209%2C%20-47.4337119%5D%2C%20%5B-23.5061609%2C%20-47.4930295%5D%2C%20%5B-23.4415006%2C%20-47.4233561%5D%2C%20%5B-23.4958331%2C%20-47.429457%5D%2C%20%5B-23.4958331%2C%20-47.429457%5D%2C%20%5B-23.507057%2C%20-47.4459756%5D%2C%20%5B-23.5081402%2C%20-47.4714682%5D%2C%20%5B-23.508342%2C%20-47.4376906%5D%2C%20%5B-23.5039298%2C%20-47.4251333%5D%2C%20%5B-23.4948469%2C%20-47.4288321%5D%2C%20%5B-23.4426629%2C%20-47.4731855%5D%2C%20%5B-23.478948%2C%20-47.435512%5D%2C%20%5B-23.478948%2C%20-47.435512%5D%2C%20%5B-23.4907698%2C%20-47.4301951%5D%2C%20%5B-23.5340941%2C%20-47.4888027%5D%2C%20%5B-23.4967002%2C%20-47.441533%5D%2C%20%5B-23.5096651%2C%20-47.4269136%5D%2C%20%5B-23.502865%2C%20-47.4153548%5D%2C%20%5B-23.4940881%2C%20-47.41838%5D%2C%20%5B-23.4903228%2C%20-47.4113638%5D%2C%20%5B-23.5032063%2C%20-47.4287075%5D%2C%20%5B-23.4958331%2C%20-47.429457%5D%2C%20%5B-23.4764792%2C%20-47.4269642%5D%2C%20%5B-23.4501203%2C%20-47.4596889%5D%2C%20%5B-23.4764792%2C%20-47.4269642%5D%2C%20%5B-23.4501203%2C%20-47.4596889%5D%2C%20%5B-23.4940881%2C%20-47.41838%5D%2C%20%5B-23.4923003%2C%20-47.4112293%5D%2C%20%5B-23.5171338%2C%20-47.4637441%5D%2C%20%5B-23.5171338%2C%20-47.4637441%5D%2C%20%5B-23.4715819%2C%20-47.4443671%5D%2C%20%5B-23.4907698%2C%20-47.4301951%5D%2C%20%5B-23.4791496%2C%20-47.4161101%5D%2C%20%5B-23.5077636%2C%20-47.4906653%5D%2C%20%5B-23.4937893%2C%20-47.4326931%5D%2C%20%5B-23.4578804%2C%20-47.4777923%5D%2C%20%5B-23.471781%2C%20-47.4878853%5D%2C%20%5B-23.5079094%2C%20-47.4292794%5D%2C%20%5B-23.4791496%2C%20-47.4161101%5D%2C%20%5B-23.4728557%2C%20-47.429356%5D%2C%20%5B-23.493797%2C%20-47.4072402%5D%2C%20%5B-23.4958331%2C%20-47.429457%5D%2C%20%5B-23.4928557%2C%20-47.4395241%5D%2C%20%5B-23.4961564%2C%20-47.4253742%5D%2C%20%5B-23.4501203%2C%20-47.4596889%5D%2C%20%5B-23.4728557%2C%20-47.429356%5D%2C%20%5B-23.4426629%2C%20-47.4731855%5D%2C%20%5B-23.478948%2C%20-47.435512%5D%2C%20%5B-23.478948%2C%20-47.435512%5D%2C%20%5B-23.4907698%2C%20-47.4301951%5D%2C%20%5B-23.5340941%2C%20-47.4888027%5D%2C%20%5B-23.4967002%2C%20-47.441533%5D%2C%20%5B-23.5096651%2C%20-47.4269136%5D%2C%20%5B-23.502865%2C%20-47.4153548%5D%2C%20%5B-23.4940881%2C%20-47.41838%5D%2C%20%5B-23.4903228%2C%20-47.4113638%5D%2C%20%5B-23.5032063%2C%20-47.4287075%5D%2C%20%5B-23.4958331%2C%20-47.429457%5D%2C%20%5B-23.4764792%2C%20-47.4269642%5D%2C%20%5B-23.4501203%2C%20-47.4596889%5D%2C%20%5B-23.4764792%2C%20-47.4269642%5D%2C%20%5B-23.4501203%2C%20-47.4596889%5D%2C%20%5B-23.4940881%2C%20-47.41838%5D%2C%20%5B-23.4923003%2C%20-47.4112293%5D%2C%20%5B-23.5171338%2C%20-47.4637441%5D%2C%20%5B-23.5171338%2C%20-47.4637441%5D%2C%20%5B-23.4715819%2C%20-47.4443671%5D%2C%20%5B-23.4907698%2C%20-47.4301951%5D%2C%20%5B-23.4791496%2C%20-47.4161101%5D%2C%20%5B-23.5077636%2C%20-47.4906653%5D%2C%20%5B-23.4937893%2C%20-47.4326931%5D%2C%20%5B-23.4578804%2C%20-47.4777923%5D%2C%20%5B-23.471781%2C%20-47.4878853%5D%2C%20%5B-23.5079094%2C%20-47.4292794%5D%2C%20%5B-23.4791496%2C%20-47.4161101%5D%2C%20%5B-23.4728557%2C%20-47.429356%5D%2C%20%5B-23.493797%2C%20-47.4072402%5D%2C%20%5B-23.4958331%2C%20-47.429457%5D%2C%20%5B-23.4928557%2C%20-47.4395241%5D%2C%20%5B-23.4961564%2C%20-47.4253742%5D%2C%20%5B-23.4501203%2C%20-47.4596889%5D%2C%20%5B-23.4728557%2C%20-47.429356%5D%2C%20%5B-23.4881747%2C%20-47.4574498%5D%2C%20%5B-23.5102857%2C%20-47.4769463%5D%2C%20%5B-23.5102857%2C%20-47.4769463%5D%2C%20%5B-23.5126099%2C%20-47.4453385%5D%2C%20%5B-23.5126099%2C%20-47.4453385%5D%2C%20%5B-23.527338%2C%20-47.4306048%5D%2C%20%5B-23.5325862%2C%20-47.4670877%5D%2C%20%5B-23.519826%2C%20-47.4618755%5D%2C%20%5B-23.446871%2C%20-47.4481971%5D%2C%20%5B-23.446871%2C%20-47.4481971%5D%2C%20%5B-23.4874912%2C%20-47.4056971%5D%2C%20%5B-23.4919492%2C%20-47.4158162%5D%2C%20%5B-23.4782973%2C%20-47.4324277%5D%2C%20%5B-23.5012033%2C%20-47.4570424%5D%2C%20%5B-23.5128052%2C%20-47.4673515%5D%2C%20%5B-23.5012033%2C%20-47.4570424%5D%2C%20%5B-23.5128052%2C%20-47.4673515%5D%2C%20%5B-23.5004475%2C%20-47.4733956%5D%2C%20%5B-23.4837704%2C%20-47.4522572%5D%2C%20%5B-23.4874912%2C%20-47.4056971%5D%2C%20%5B-23.5414946%2C%20-47.4869567%5D%2C%20%5B-23.558109%2C%20-47.4901527%5D%2C%20%5B-23.4914915%2C%20-47.4188662%5D%2C%20%5B-23.4782973%2C%20-47.4324277%5D%2C%20%5B45.5016889%2C%20-73.567256%5D%2C%20%5B-23.4919492%2C%20-47.4158162%5D%2C%20%5B-23.5012033%2C%20-47.4570424%5D%2C%20%5B-23.4961564%2C%20-47.4253742%5D%2C%20%5B-23.5039298%2C%20-47.4251333%5D%2C%20%5B-23.4961564%2C%20-47.4253742%5D%2C%20%5B45.5016889%2C%20-73.567256%5D%2C%20%5B-23.5039298%2C%20-47.4251333%5D%2C%20%5B-23.4914915%2C%20-47.4188662%5D%2C%20%5B-23.558109%2C%20-47.4901527%5D%2C%20%5B-23.4961564%2C%20-47.4253742%5D%2C%20%5B-23.5139138%2C%20-47.4623707%5D%2C%20%5B-23.4729601%2C%20-47.4394067%5D%2C%20%5B-23.5414946%2C%20-47.4869567%5D%2C%20%5B-23.4453421%2C%20-47.4561804%5D%2C%20%5B-23.5039298%2C%20-47.4251333%5D%2C%20%5B-23.5039298%2C%20-47.4251333%5D%5D%2C%0A%20%20%20%20%20%20%20%20%20%20%20%20%20%20%20%20%7B%0A%20%20%20%20%20%20%20%20%20%20%20%20%20%20%20%20%20%20%20%20minOpacity%3A%200.5%2C%0A%20%20%20%20%20%20%20%20%20%20%20%20%20%20%20%20%20%20%20%20maxZoom%3A%2018%2C%0A%20%20%20%20%20%20%20%20%20%20%20%20%20%20%20%20%20%20%20%20max%3A%201.0%2C%0A%20%20%20%20%20%20%20%20%20%20%20%20%20%20%20%20%20%20%20%20radius%3A%2025%2C%0A%20%20%20%20%20%20%20%20%20%20%20%20%20%20%20%20%20%20%20%20blur%3A%2015%2C%0A%20%20%20%20%20%20%20%20%20%20%20%20%20%20%20%20%20%20%20%20gradient%3A%20null%0A%20%20%20%20%20%20%20%20%20%20%20%20%20%20%20%20%20%20%20%20%7D%29%0A%20%20%20%20%20%20%20%20%20%20%20%20%20%20%20%20.addTo%28map_ac22868012a24b1992b2cd10ecf0937c%29%3B%0A%20%20%20%20%20%20%20%20%0A%20%20%20%20%0A%20%20%20%20%20%20%20%20var%20marker_2b12dbb267e74f74b4bcc85e1462ce9c%20%3D%20L.marker%28%0A%20%20%20%20%20%20%20%20%20%20%20%20%5B-23.495833%2C%20-47.429457%5D%2C%0A%20%20%20%20%20%20%20%20%20%20%20%20%7B%0A%20%20%20%20%20%20%20%20%20%20%20%20%20%20%20%20icon%3A%20new%20L.Icon.Default%28%29%2C%0A%20%20%20%20%20%20%20%20%20%20%20%20%20%20%20%20%7D%0A%20%20%20%20%20%20%20%20%20%20%20%20%29.addTo%28map_ac22868012a24b1992b2cd10ecf0937c%29%3B%0A%20%20%20%20%20%20%20%20%0A%20%20%20%20%0A%0A%20%20%20%20%20%20%20%20%20%20%20%20%20%20%20%20var%20icon_6b6d3cc2703f4bcdb556a83b66968ccb%20%3D%20L.AwesomeMarkers.icon%28%7B%0A%20%20%20%20%20%20%20%20%20%20%20%20%20%20%20%20%20%20%20%20icon%3A%20%27info-sign%27%2C%0A%20%20%20%20%20%20%20%20%20%20%20%20%20%20%20%20%20%20%20%20iconColor%3A%20%27white%27%2C%0A%20%20%20%20%20%20%20%20%20%20%20%20%20%20%20%20%20%20%20%20markerColor%3A%20%27red%27%2C%0A%20%20%20%20%20%20%20%20%20%20%20%20%20%20%20%20%20%20%20%20prefix%3A%20%27glyphicon%27%2C%0A%20%20%20%20%20%20%20%20%20%20%20%20%20%20%20%20%20%20%20%20extraClasses%3A%20%27fa-rotate-0%27%0A%20%20%20%20%20%20%20%20%20%20%20%20%20%20%20%20%20%20%20%20%7D%29%3B%0A%20%20%20%20%20%20%20%20%20%20%20%20%20%20%20%20marker_2b12dbb267e74f74b4bcc85e1462ce9c.setIcon%28icon_6b6d3cc2703f4bcdb556a83b66968ccb%29%3B%0A%20%20%20%20%20%20%20%20%20%20%20%20%0A%20%20%20%20%0A%20%20%20%20%20%20%20%20%20%20%20%20var%20popup_bcef9e3a67784091ac525e7a87664a60%20%3D%20L.popup%28%7BmaxWidth%3A%20%27100%25%27%0A%20%20%20%20%20%20%20%20%20%20%20%20%0A%20%20%20%20%20%20%20%20%20%20%20%20%7D%29%3B%0A%0A%20%20%20%20%20%20%20%20%20%20%20%20%0A%20%20%20%20%20%20%20%20%20%20%20%20%20%20%20%20var%20html_b9d0e1666a7e48998b4b5c3d182db872%20%3D%20%24%28%60%3Cdiv%20id%3D%22html_b9d0e1666a7e48998b4b5c3d182db872%22%20style%3D%22width%3A%20100.0%25%3B%20height%3A%20100.0%25%3B%22%3EDark%20Kitchen%3C/div%3E%60%29%5B0%5D%3B%0A%20%20%20%20%20%20%20%20%20%20%20%20%20%20%20%20popup_bcef9e3a67784091ac525e7a87664a60.setContent%28html_b9d0e1666a7e48998b4b5c3d182db872%29%3B%0A%20%20%20%20%20%20%20%20%20%20%20%20%0A%0A%20%20%20%20%20%20%20%20%20%20%20%20marker_2b12dbb267e74f74b4bcc85e1462ce9c.bindPopup%28popup_bcef9e3a67784091ac525e7a87664a60%29%0A%20%20%20%20%20%20%20%20%20%20%20%20%3B%0A%0A%20%20%20%20%20%20%20%20%20%20%20%20%0A%20%20%20%20%20%20%20%20%0A%3C/script%3E onload=\"this.contentDocument.open();this.contentDocument.write(    decodeURIComponent(this.getAttribute('data-html')));this.contentDocument.close();\" allowfullscreen webkitallowfullscreen mozallowfullscreen></iframe></div></div>"
            ],
            "text/plain": [
              "<folium.folium.Map at 0x7fb01c643dd0>"
            ]
          },
          "metadata": {
            "tags": []
          },
          "execution_count": 34
        }
      ]
    },
    {
      "cell_type": "code",
      "metadata": {
        "id": "f0fpZLbYxKkf",
        "cellView": "form"
      },
      "source": [
        "#@title Clique aqui para ver a resposta.\n",
        "mapa"
      ],
      "execution_count": null,
      "outputs": []
    },
    {
      "cell_type": "markdown",
      "metadata": {
        "id": "m7pGCzuNxPWi"
      },
      "source": [
        "## **05.CONCLUSÃO.**"
      ]
    },
    {
      "cell_type": "markdown",
      "metadata": {
        "id": "IxdxHgoFxW4g"
      },
      "source": [
        "### **05.a.Problema de negócio.**"
      ]
    },
    {
      "cell_type": "markdown",
      "metadata": {
        "id": "MPVfKRC1xzUN"
      },
      "source": [
        "#### **05.a.I.PORTIFÓLIO.**"
      ]
    },
    {
      "cell_type": "markdown",
      "metadata": {
        "id": "2jYbhfhux4cM"
      },
      "source": [
        "- Quais são os três produtos (pratos) que possuem maior faturamento?\n",
        "\n",
        " - **Prato #01**: Salada Folhas Parma\n",
        " - **Prato #02**: Salada Caprese\n",
        " - **Prato #03**: Salada Caesar"
      ]
    },
    {
      "cell_type": "markdown",
      "metadata": {
        "id": "BOj5RvzGyXQj"
      },
      "source": [
        "#### **05.a.II.LOCAL.**"
      ]
    },
    {
      "cell_type": "markdown",
      "metadata": {
        "id": "pk27W1ksygVn"
      },
      "source": [
        "- Levando em consideração os três produtos do item anterior, identificar o lugar (latitude e longitude) que tenha maior faturamento para que possa ser criada uma *dark kitchen*.\n",
        "\n",
        " - **Latitude:** -23.495833  \n",
        " - **Longitude:** -47.429457"
      ]
    },
    {
      "cell_type": "code",
      "metadata": {
        "id": "0fHs9SygXzMZ"
      },
      "source": [
        ""
      ],
      "execution_count": null,
      "outputs": []
    }
  ]
}